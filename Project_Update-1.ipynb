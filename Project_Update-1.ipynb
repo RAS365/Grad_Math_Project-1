{
 "cells": [
  {
   "cell_type": "markdown",
   "id": "a9c1eb5a",
   "metadata": {},
   "source": [
    "# Project topic-\n",
    "\n",
    "### The relation between covid infection rates and the political orientation of the population and their level of education.\n",
    "\n",
    "$y$ = infection rates\n",
    "\n",
    "$x_1$ = political orientation\n",
    "\n",
    "$x_2$ = level of education\n",
    "\n",
    "- potentially useful variable to add more context: The field of the people's education,i.e., a degree in arts vs a degree in chem e"
   ]
  },
  {
   "cell_type": "code",
   "execution_count": 1,
   "id": "646670a0",
   "metadata": {},
   "outputs": [
    {
     "data": {
      "application/javascript": [
       "\n",
       "            setTimeout(function() {\n",
       "                var nbb_cell_id = 1;\n",
       "                var nbb_unformatted_code = \"import numpy as np\\nimport matplotlib.pyplot as plt\\n\\n# import scipy.optimize as sciopt\\nimport pandas as pd\\nfrom scipy import stats\\n\\n# import scipy.integrate as scint\\nimport statsmodels.api as sm\\nimport seaborn as sns\\n\\n%load_ext nb_black\";\n",
       "                var nbb_formatted_code = \"import numpy as np\\nimport matplotlib.pyplot as plt\\n\\n# import scipy.optimize as sciopt\\nimport pandas as pd\\nfrom scipy import stats\\n\\n# import scipy.integrate as scint\\nimport statsmodels.api as sm\\nimport seaborn as sns\\n\\n%load_ext nb_black\";\n",
       "                var nbb_cells = Jupyter.notebook.get_cells();\n",
       "                for (var i = 0; i < nbb_cells.length; ++i) {\n",
       "                    if (nbb_cells[i].input_prompt_number == nbb_cell_id) {\n",
       "                        if (nbb_cells[i].get_text() == nbb_unformatted_code) {\n",
       "                             nbb_cells[i].set_text(nbb_formatted_code);\n",
       "                        }\n",
       "                        break;\n",
       "                    }\n",
       "                }\n",
       "            }, 500);\n",
       "            "
      ],
      "text/plain": [
       "<IPython.core.display.Javascript object>"
      ]
     },
     "metadata": {},
     "output_type": "display_data"
    }
   ],
   "source": [
    "import numpy as np\n",
    "import matplotlib.pyplot as plt\n",
    "\n",
    "# import scipy.optimize as sciopt\n",
    "import pandas as pd\n",
    "from scipy import stats\n",
    "\n",
    "# import scipy.integrate as scint\n",
    "import statsmodels.api as sm\n",
    "import seaborn as sns\n",
    "\n",
    "%load_ext nb_black"
   ]
  },
  {
   "cell_type": "markdown",
   "id": "ace86ecc",
   "metadata": {},
   "source": [
    "# The following code block deals with getting the COVID INFECTION DATA\n",
    "\n",
    "Since the data is over a time period, we take the average number of cases over that time period as an indicator of the covid infection rate. We then convert that into the percentage of population infected to normalize the infection rate with a county's population.\n"
   ]
  },
  {
   "cell_type": "code",
   "execution_count": 2,
   "id": "e1a5524d",
   "metadata": {},
   "outputs": [
    {
     "data": {
      "application/javascript": [
       "\n",
       "            setTimeout(function() {\n",
       "                var nbb_cell_id = 2;\n",
       "                var nbb_unformatted_code = \"# Reading from a CSV file\\n\\ndf = pd.read_csv(\\\"us-counties-recent.csv\\\")\\ndf = df[df[\\\"state\\\"] == \\\"Pennsylvania\\\"]\";\n",
       "                var nbb_formatted_code = \"# Reading from a CSV file\\n\\ndf = pd.read_csv(\\\"us-counties-recent.csv\\\")\\ndf = df[df[\\\"state\\\"] == \\\"Pennsylvania\\\"]\";\n",
       "                var nbb_cells = Jupyter.notebook.get_cells();\n",
       "                for (var i = 0; i < nbb_cells.length; ++i) {\n",
       "                    if (nbb_cells[i].input_prompt_number == nbb_cell_id) {\n",
       "                        if (nbb_cells[i].get_text() == nbb_unformatted_code) {\n",
       "                             nbb_cells[i].set_text(nbb_formatted_code);\n",
       "                        }\n",
       "                        break;\n",
       "                    }\n",
       "                }\n",
       "            }, 500);\n",
       "            "
      ],
      "text/plain": [
       "<IPython.core.display.Javascript object>"
      ]
     },
     "metadata": {},
     "output_type": "display_data"
    }
   ],
   "source": [
    "# Reading from a CSV file\n",
    "\n",
    "df = pd.read_csv(\"us-counties-recent.csv\")\n",
    "df = df[df[\"state\"] == \"Pennsylvania\"]"
   ]
  },
  {
   "cell_type": "code",
   "execution_count": 3,
   "id": "edf2c424",
   "metadata": {},
   "outputs": [
    {
     "data": {
      "application/javascript": [
       "\n",
       "            setTimeout(function() {\n",
       "                var nbb_cell_id = 3;\n",
       "                var nbb_unformatted_code = \"# Creating a new dataframe containing all the relevant data\\nmeans = np.array([])\\ncounty = np.array([])\\n\\n\\nfor i in np.arange(42001, 42134, 2):\\n    dd = df[df[\\\"fips\\\"] == i]\\n    means = np.concatenate([means, np.mean(dd[\\\"cases\\\"])], axis=None)\\n    county = np.concatenate([county, dd.drop_duplicates(subset=\\\"county\\\")[\\\"county\\\"]])\\n\\n\\ncovid = pd.DataFrame()\\ncovid[\\\"fips\\\"] = np.arange(42001, 42134, 2)\\ncovid[\\\"cases_mean\\\"] = means\\ncovid[\\\"county\\\"] = county\";\n",
       "                var nbb_formatted_code = \"# Creating a new dataframe containing all the relevant data\\nmeans = np.array([])\\ncounty = np.array([])\\n\\n\\nfor i in np.arange(42001, 42134, 2):\\n    dd = df[df[\\\"fips\\\"] == i]\\n    means = np.concatenate([means, np.mean(dd[\\\"cases\\\"])], axis=None)\\n    county = np.concatenate([county, dd.drop_duplicates(subset=\\\"county\\\")[\\\"county\\\"]])\\n\\n\\ncovid = pd.DataFrame()\\ncovid[\\\"fips\\\"] = np.arange(42001, 42134, 2)\\ncovid[\\\"cases_mean\\\"] = means\\ncovid[\\\"county\\\"] = county\";\n",
       "                var nbb_cells = Jupyter.notebook.get_cells();\n",
       "                for (var i = 0; i < nbb_cells.length; ++i) {\n",
       "                    if (nbb_cells[i].input_prompt_number == nbb_cell_id) {\n",
       "                        if (nbb_cells[i].get_text() == nbb_unformatted_code) {\n",
       "                             nbb_cells[i].set_text(nbb_formatted_code);\n",
       "                        }\n",
       "                        break;\n",
       "                    }\n",
       "                }\n",
       "            }, 500);\n",
       "            "
      ],
      "text/plain": [
       "<IPython.core.display.Javascript object>"
      ]
     },
     "metadata": {},
     "output_type": "display_data"
    }
   ],
   "source": [
    "# Creating a new dataframe containing all the relevant data\n",
    "means = np.array([])\n",
    "county = np.array([])\n",
    "\n",
    "\n",
    "for i in np.arange(42001, 42134, 2):\n",
    "    dd = df[df[\"fips\"] == i]\n",
    "    means = np.concatenate([means, np.mean(dd[\"cases\"])], axis=None)\n",
    "    county = np.concatenate([county, dd.drop_duplicates(subset=\"county\")[\"county\"]])\n",
    "\n",
    "\n",
    "covid = pd.DataFrame()\n",
    "covid[\"fips\"] = np.arange(42001, 42134, 2)\n",
    "covid[\"cases_mean\"] = means\n",
    "covid[\"county\"] = county"
   ]
  },
  {
   "cell_type": "markdown",
   "id": "6a938e8f",
   "metadata": {},
   "source": [
    "# WE HAVE LIMITED DATA!\n",
    "\n",
    "We only have all the required data points for 39 out of 67 counties. We have no choice but to assume that these 39 counties are representative of all the 67 counties of PA"
   ]
  },
  {
   "cell_type": "code",
   "execution_count": 4,
   "id": "026940f7",
   "metadata": {},
   "outputs": [
    {
     "data": {
      "application/javascript": [
       "\n",
       "            setTimeout(function() {\n",
       "                var nbb_cell_id = 4;\n",
       "                var nbb_unformatted_code = \"# This excel sheet contains the total population of the relevant counties\\n\\npop = pd.read_excel(\\\"age and sex.xlsx\\\", sheet_name=\\\"Sheet2\\\")\";\n",
       "                var nbb_formatted_code = \"# This excel sheet contains the total population of the relevant counties\\n\\npop = pd.read_excel(\\\"age and sex.xlsx\\\", sheet_name=\\\"Sheet2\\\")\";\n",
       "                var nbb_cells = Jupyter.notebook.get_cells();\n",
       "                for (var i = 0; i < nbb_cells.length; ++i) {\n",
       "                    if (nbb_cells[i].input_prompt_number == nbb_cell_id) {\n",
       "                        if (nbb_cells[i].get_text() == nbb_unformatted_code) {\n",
       "                             nbb_cells[i].set_text(nbb_formatted_code);\n",
       "                        }\n",
       "                        break;\n",
       "                    }\n",
       "                }\n",
       "            }, 500);\n",
       "            "
      ],
      "text/plain": [
       "<IPython.core.display.Javascript object>"
      ]
     },
     "metadata": {},
     "output_type": "display_data"
    }
   ],
   "source": [
    "# This excel sheet contains the total population of the relevant counties\n",
    "\n",
    "pop = pd.read_excel(\"age and sex.xlsx\", sheet_name=\"Sheet2\")"
   ]
  },
  {
   "cell_type": "code",
   "execution_count": 5,
   "id": "bb32b826",
   "metadata": {},
   "outputs": [
    {
     "name": "stdout",
     "output_type": "stream",
     "text": [
      "The counties without data: ['Bedford', 'Bradford', 'Cameron', 'Clarion', 'Clinton', 'Columbia', 'Elk', 'Forest', 'Fulton', 'Greene', 'Huntingdon', 'Jefferson', 'Juniata', 'McKean', 'Mifflin', 'Montour', 'Perry', 'Pike', 'Potter', 'Snyder', 'Sullivan', 'Susquehanna', 'Tioga', 'Union', 'Venango', 'Warren', 'Wayne', 'Wyoming']\n"
     ]
    },
    {
     "data": {
      "application/javascript": [
       "\n",
       "            setTimeout(function() {\n",
       "                var nbb_cell_id = 5;\n",
       "                var nbb_unformatted_code = \"# The following block of code creates a list containing the names of the counties whose population and education data are unavailable\\nunavailable = []\\ncounter = 0\\nfor i in county:\\n    counter = 0\\n    # print(i)\\n    for j in pop.columns:\\n        if f\\\"{i} County, Pennsylvania\\\" == j:\\n            counter = counter + 1\\n\\n        else:\\n            continue\\n    if counter == 0:\\n        unavailable.append(i)\\n\\nprint(\\\"The counties without data:\\\", unavailable)\";\n",
       "                var nbb_formatted_code = \"# The following block of code creates a list containing the names of the counties whose population and education data are unavailable\\nunavailable = []\\ncounter = 0\\nfor i in county:\\n    counter = 0\\n    # print(i)\\n    for j in pop.columns:\\n        if f\\\"{i} County, Pennsylvania\\\" == j:\\n            counter = counter + 1\\n\\n        else:\\n            continue\\n    if counter == 0:\\n        unavailable.append(i)\\n\\nprint(\\\"The counties without data:\\\", unavailable)\";\n",
       "                var nbb_cells = Jupyter.notebook.get_cells();\n",
       "                for (var i = 0; i < nbb_cells.length; ++i) {\n",
       "                    if (nbb_cells[i].input_prompt_number == nbb_cell_id) {\n",
       "                        if (nbb_cells[i].get_text() == nbb_unformatted_code) {\n",
       "                             nbb_cells[i].set_text(nbb_formatted_code);\n",
       "                        }\n",
       "                        break;\n",
       "                    }\n",
       "                }\n",
       "            }, 500);\n",
       "            "
      ],
      "text/plain": [
       "<IPython.core.display.Javascript object>"
      ]
     },
     "metadata": {},
     "output_type": "display_data"
    }
   ],
   "source": [
    "# The following block of code creates a list containing the names of the counties whose population and education data are unavailable\n",
    "unavailable = []\n",
    "counter = 0\n",
    "for i in county:\n",
    "    counter = 0\n",
    "    # print(i)\n",
    "    for j in pop.columns:\n",
    "        if f\"{i} County, Pennsylvania\" == j:\n",
    "            counter = counter + 1\n",
    "\n",
    "        else:\n",
    "            continue\n",
    "    if counter == 0:\n",
    "        unavailable.append(i)\n",
    "\n",
    "print(\"The counties without data:\", unavailable)"
   ]
  },
  {
   "cell_type": "code",
   "execution_count": 6,
   "id": "c50c3ae6",
   "metadata": {},
   "outputs": [
    {
     "data": {
      "application/javascript": [
       "\n",
       "            setTimeout(function() {\n",
       "                var nbb_cell_id = 6;\n",
       "                var nbb_unformatted_code = \"# This loop removes all the data points of the unavailable counties from our dataframe\\n\\nfor i in unavailable:\\n    ddx = covid.where(covid[\\\"county\\\"] == i)\\n    covid = covid.drop(index=ddx.dropna().index[0])\";\n",
       "                var nbb_formatted_code = \"# This loop removes all the data points of the unavailable counties from our dataframe\\n\\nfor i in unavailable:\\n    ddx = covid.where(covid[\\\"county\\\"] == i)\\n    covid = covid.drop(index=ddx.dropna().index[0])\";\n",
       "                var nbb_cells = Jupyter.notebook.get_cells();\n",
       "                for (var i = 0; i < nbb_cells.length; ++i) {\n",
       "                    if (nbb_cells[i].input_prompt_number == nbb_cell_id) {\n",
       "                        if (nbb_cells[i].get_text() == nbb_unformatted_code) {\n",
       "                             nbb_cells[i].set_text(nbb_formatted_code);\n",
       "                        }\n",
       "                        break;\n",
       "                    }\n",
       "                }\n",
       "            }, 500);\n",
       "            "
      ],
      "text/plain": [
       "<IPython.core.display.Javascript object>"
      ]
     },
     "metadata": {},
     "output_type": "display_data"
    }
   ],
   "source": [
    "# This loop removes all the data points of the unavailable counties from our dataframe\n",
    "\n",
    "for i in unavailable:\n",
    "    ddx = covid.where(covid[\"county\"] == i)\n",
    "    covid = covid.drop(index=ddx.dropna().index[0])"
   ]
  },
  {
   "cell_type": "code",
   "execution_count": 7,
   "id": "f68560c9",
   "metadata": {},
   "outputs": [
    {
     "data": {
      "application/javascript": [
       "\n",
       "            setTimeout(function() {\n",
       "                var nbb_cell_id = 7;\n",
       "                var nbb_unformatted_code = \"a = np.array(pop.iloc[2])\\na = a[1:]\\ncovid[\\\"total population\\\"] = a\";\n",
       "                var nbb_formatted_code = \"a = np.array(pop.iloc[2])\\na = a[1:]\\ncovid[\\\"total population\\\"] = a\";\n",
       "                var nbb_cells = Jupyter.notebook.get_cells();\n",
       "                for (var i = 0; i < nbb_cells.length; ++i) {\n",
       "                    if (nbb_cells[i].input_prompt_number == nbb_cell_id) {\n",
       "                        if (nbb_cells[i].get_text() == nbb_unformatted_code) {\n",
       "                             nbb_cells[i].set_text(nbb_formatted_code);\n",
       "                        }\n",
       "                        break;\n",
       "                    }\n",
       "                }\n",
       "            }, 500);\n",
       "            "
      ],
      "text/plain": [
       "<IPython.core.display.Javascript object>"
      ]
     },
     "metadata": {},
     "output_type": "display_data"
    }
   ],
   "source": [
    "a = np.array(pop.iloc[2])\n",
    "a = a[1:]\n",
    "covid[\"total population\"] = a"
   ]
  },
  {
   "cell_type": "code",
   "execution_count": 8,
   "id": "95b77d86",
   "metadata": {},
   "outputs": [
    {
     "data": {
      "application/javascript": [
       "\n",
       "            setTimeout(function() {\n",
       "                var nbb_cell_id = 8;\n",
       "                var nbb_unformatted_code = \"covid[\\\"percentage infected\\\"] = covid.apply(\\n    lambda x: x[\\\"cases_mean\\\"] / x[\\\"total population\\\"],\\n    axis=1,\\n)\";\n",
       "                var nbb_formatted_code = \"covid[\\\"percentage infected\\\"] = covid.apply(\\n    lambda x: x[\\\"cases_mean\\\"] / x[\\\"total population\\\"],\\n    axis=1,\\n)\";\n",
       "                var nbb_cells = Jupyter.notebook.get_cells();\n",
       "                for (var i = 0; i < nbb_cells.length; ++i) {\n",
       "                    if (nbb_cells[i].input_prompt_number == nbb_cell_id) {\n",
       "                        if (nbb_cells[i].get_text() == nbb_unformatted_code) {\n",
       "                             nbb_cells[i].set_text(nbb_formatted_code);\n",
       "                        }\n",
       "                        break;\n",
       "                    }\n",
       "                }\n",
       "            }, 500);\n",
       "            "
      ],
      "text/plain": [
       "<IPython.core.display.Javascript object>"
      ]
     },
     "metadata": {},
     "output_type": "display_data"
    }
   ],
   "source": [
    "covid[\"percentage infected\"] = covid.apply(\n",
    "    lambda x: x[\"cases_mean\"] / x[\"total population\"],\n",
    "    axis=1,\n",
    ")"
   ]
  },
  {
   "cell_type": "code",
   "execution_count": 9,
   "id": "8b1b79b3",
   "metadata": {},
   "outputs": [
    {
     "data": {
      "text/plain": [
       "Text(0.5, 1.0, 'Distribution of the %population infected by covid of counties')"
      ]
     },
     "execution_count": 9,
     "metadata": {},
     "output_type": "execute_result"
    },
    {
     "data": {
      "image/png": "[encoded data removed]",
      "text/plain": [
       "<Figure size 432x288 with 1 Axes>"
      ]
     },
     "metadata": {
      "needs_background": "light"
     },
     "output_type": "display_data"
    },
    {
     "data": {
      "application/javascript": [
       "\n",
       "            setTimeout(function() {\n",
       "                var nbb_cell_id = 9;\n",
       "                var nbb_unformatted_code = \"sns.kdeplot(covid[\\\"percentage infected\\\"])\\nplt.title(\\\"Distribution of the %population infected by covid of counties\\\")\";\n",
       "                var nbb_formatted_code = \"sns.kdeplot(covid[\\\"percentage infected\\\"])\\nplt.title(\\\"Distribution of the %population infected by covid of counties\\\")\";\n",
       "                var nbb_cells = Jupyter.notebook.get_cells();\n",
       "                for (var i = 0; i < nbb_cells.length; ++i) {\n",
       "                    if (nbb_cells[i].input_prompt_number == nbb_cell_id) {\n",
       "                        if (nbb_cells[i].get_text() == nbb_unformatted_code) {\n",
       "                             nbb_cells[i].set_text(nbb_formatted_code);\n",
       "                        }\n",
       "                        break;\n",
       "                    }\n",
       "                }\n",
       "            }, 500);\n",
       "            "
      ],
      "text/plain": [
       "<IPython.core.display.Javascript object>"
      ]
     },
     "metadata": {},
     "output_type": "display_data"
    }
   ],
   "source": [
    "sns.kdeplot(covid[\"percentage infected\"])\n",
    "plt.title(\"Distribution of the %population infected by covid of counties\")"
   ]
  },
  {
   "cell_type": "markdown",
   "id": "809bca78",
   "metadata": {},
   "source": [
    "# The following code block deals with getting the POPULATION EDUCATION DATA\n",
    "\n",
    "This is our limiting/constraining data. \n",
    "\n",
    "The education levels are as follows:\n",
    "1. Less than 9th grade\t\n",
    "2. 9th to 12th grade, no diploma\t\n",
    "3. High school graduate (includes equivalency)\t\n",
    "4. Some college, no degree\t\n",
    "5. Associate's degree\t\n",
    "6. Bachelor's degree\t\n",
    "7. Graduate or professional degree\t\n",
    "\n",
    "Each of these has been assigned an arbitrary weightage of 10, 20, 30, 40, 50, 60, and 70 respectively. This helps us calculate a quantity called the \"Average education level of a county\", given by the formula:\n",
    "\n",
    "## <center>$avg_{county} =   \\frac{{\\sum}_{i=1}^{7} (10i) * (Pop_i) } {Pop_{tot}}$</center>\n",
    "\n",
    "where, \n",
    "\n",
    "$pop_i$ is the number of people with $i^{th}$ educational qualification \n",
    "\n",
    "$pop_{tot}$ is the total population of that county"
   ]
  },
  {
   "cell_type": "code",
   "execution_count": 10,
   "id": "466447fa",
   "metadata": {},
   "outputs": [
    {
     "data": {
      "application/javascript": [
       "\n",
       "            setTimeout(function() {\n",
       "                var nbb_cell_id = 10;\n",
       "                var nbb_unformatted_code = \"# code for getting the education data and weeding out unnecessary columns\\n\\nedu = pd.read_excel(\\\"better education data.xlsx\\\", sheet_name=\\\"Data\\\")\\n\\nfor i in np.arange(2, 79, 2):\\n    edu = edu.drop(columns=[f\\\"Unnamed: {i}\\\"])\";\n",
       "                var nbb_formatted_code = \"# code for getting the education data and weeding out unnecessary columns\\n\\nedu = pd.read_excel(\\\"better education data.xlsx\\\", sheet_name=\\\"Data\\\")\\n\\nfor i in np.arange(2, 79, 2):\\n    edu = edu.drop(columns=[f\\\"Unnamed: {i}\\\"])\";\n",
       "                var nbb_cells = Jupyter.notebook.get_cells();\n",
       "                for (var i = 0; i < nbb_cells.length; ++i) {\n",
       "                    if (nbb_cells[i].input_prompt_number == nbb_cell_id) {\n",
       "                        if (nbb_cells[i].get_text() == nbb_unformatted_code) {\n",
       "                             nbb_cells[i].set_text(nbb_formatted_code);\n",
       "                        }\n",
       "                        break;\n",
       "                    }\n",
       "                }\n",
       "            }, 500);\n",
       "            "
      ],
      "text/plain": [
       "<IPython.core.display.Javascript object>"
      ]
     },
     "metadata": {},
     "output_type": "display_data"
    }
   ],
   "source": [
    "# code for getting the education data and weeding out unnecessary columns\n",
    "\n",
    "edu = pd.read_excel(\"better education data.xlsx\", sheet_name=\"Data\")\n",
    "\n",
    "for i in np.arange(2, 79, 2):\n",
    "    edu = edu.drop(columns=[f\"Unnamed: {i}\"])"
   ]
  },
  {
   "cell_type": "code",
   "execution_count": 11,
   "id": "82e36a6a",
   "metadata": {},
   "outputs": [
    {
     "data": {
      "application/javascript": [
       "\n",
       "            setTimeout(function() {\n",
       "                var nbb_cell_id = 11;\n",
       "                var nbb_unformatted_code = \"# Code for getting the Average education level of the counties\\navg = np.array([])\\nfor j in np.arange(1, len(edu.columns)):\\n    a = 0\\n    tot = 0\\n    for i in np.arange(1, 9):\\n        tot = tot + (i - 1) * 10 * int(edu[edu.columns[j]][i])\\n        a = tot / edu[edu.columns[j]][1]\\n\\n    avg = np.concatenate([avg, a], axis=None)\";\n",
       "                var nbb_formatted_code = \"# Code for getting the Average education level of the counties\\navg = np.array([])\\nfor j in np.arange(1, len(edu.columns)):\\n    a = 0\\n    tot = 0\\n    for i in np.arange(1, 9):\\n        tot = tot + (i - 1) * 10 * int(edu[edu.columns[j]][i])\\n        a = tot / edu[edu.columns[j]][1]\\n\\n    avg = np.concatenate([avg, a], axis=None)\";\n",
       "                var nbb_cells = Jupyter.notebook.get_cells();\n",
       "                for (var i = 0; i < nbb_cells.length; ++i) {\n",
       "                    if (nbb_cells[i].input_prompt_number == nbb_cell_id) {\n",
       "                        if (nbb_cells[i].get_text() == nbb_unformatted_code) {\n",
       "                             nbb_cells[i].set_text(nbb_formatted_code);\n",
       "                        }\n",
       "                        break;\n",
       "                    }\n",
       "                }\n",
       "            }, 500);\n",
       "            "
      ],
      "text/plain": [
       "<IPython.core.display.Javascript object>"
      ]
     },
     "metadata": {},
     "output_type": "display_data"
    }
   ],
   "source": [
    "# Code for getting the Average education level of the counties\n",
    "avg = np.array([])\n",
    "for j in np.arange(1, len(edu.columns)):\n",
    "    a = 0\n",
    "    tot = 0\n",
    "    for i in np.arange(1, 9):\n",
    "        tot = tot + (i - 1) * 10 * int(edu[edu.columns[j]][i])\n",
    "        a = tot / edu[edu.columns[j]][1]\n",
    "\n",
    "    avg = np.concatenate([avg, a], axis=None)"
   ]
  },
  {
   "cell_type": "code",
   "execution_count": 12,
   "id": "aae7f120",
   "metadata": {},
   "outputs": [
    {
     "data": {
      "text/plain": [
       "Text(0.5, 1.0, 'Distribution of the average education level of each county')"
      ]
     },
     "execution_count": 12,
     "metadata": {},
     "output_type": "execute_result"
    },
    {
     "data": {
      "image/png": "[encoded data removed]",
      "text/plain": [
       "<Figure size 432x288 with 1 Axes>"
      ]
     },
     "metadata": {
      "needs_background": "light"
     },
     "output_type": "display_data"
    },
    {
     "data": {
      "application/javascript": [
       "\n",
       "            setTimeout(function() {\n",
       "                var nbb_cell_id = 12;\n",
       "                var nbb_unformatted_code = \"sns.kdeplot(avg)\\nplt.xlabel(\\\"Average education level of a county\\\")\\nplt.title(\\\"Distribution of the average education level of each county\\\")\";\n",
       "                var nbb_formatted_code = \"sns.kdeplot(avg)\\nplt.xlabel(\\\"Average education level of a county\\\")\\nplt.title(\\\"Distribution of the average education level of each county\\\")\";\n",
       "                var nbb_cells = Jupyter.notebook.get_cells();\n",
       "                for (var i = 0; i < nbb_cells.length; ++i) {\n",
       "                    if (nbb_cells[i].input_prompt_number == nbb_cell_id) {\n",
       "                        if (nbb_cells[i].get_text() == nbb_unformatted_code) {\n",
       "                             nbb_cells[i].set_text(nbb_formatted_code);\n",
       "                        }\n",
       "                        break;\n",
       "                    }\n",
       "                }\n",
       "            }, 500);\n",
       "            "
      ],
      "text/plain": [
       "<IPython.core.display.Javascript object>"
      ]
     },
     "metadata": {},
     "output_type": "display_data"
    }
   ],
   "source": [
    "sns.kdeplot(avg)\n",
    "plt.xlabel(\"Average education level of a county\")\n",
    "plt.title(\"Distribution of the average education level of each county\")"
   ]
  },
  {
   "cell_type": "markdown",
   "id": "a810f263",
   "metadata": {},
   "source": [
    "# The following code block deals with getting the VOTER DATA\n",
    "\n",
    "Here, each county is assigned a parameter called \"Orientation\". This parameter is 0 if a county has more republican voters than democrats and 1 otherwise. Voters who didn't vote for either of the two parties have been neglected as they are not relevant for our problem statement."
   ]
  },
  {
   "cell_type": "code",
   "execution_count": 13,
   "id": "6cc924f8",
   "metadata": {},
   "outputs": [
    {
     "data": {
      "application/javascript": [
       "\n",
       "            setTimeout(function() {\n",
       "                var nbb_cell_id = 13;\n",
       "                var nbb_unformatted_code = \"# Code for reading data from excel and removing excess\\nvoter = pd.read_excel(\\\"currentvotestats.xlsx\\\")\\nfor i in np.arange(3, 10, 2):\\n    voter = voter.drop(columns=[f\\\"Unnamed: {i}\\\"])\\n\\nvoter = voter.drop(index=67)\";\n",
       "                var nbb_formatted_code = \"# Code for reading data from excel and removing excess\\nvoter = pd.read_excel(\\\"currentvotestats.xlsx\\\")\\nfor i in np.arange(3, 10, 2):\\n    voter = voter.drop(columns=[f\\\"Unnamed: {i}\\\"])\\n\\nvoter = voter.drop(index=67)\";\n",
       "                var nbb_cells = Jupyter.notebook.get_cells();\n",
       "                for (var i = 0; i < nbb_cells.length; ++i) {\n",
       "                    if (nbb_cells[i].input_prompt_number == nbb_cell_id) {\n",
       "                        if (nbb_cells[i].get_text() == nbb_unformatted_code) {\n",
       "                             nbb_cells[i].set_text(nbb_formatted_code);\n",
       "                        }\n",
       "                        break;\n",
       "                    }\n",
       "                }\n",
       "            }, 500);\n",
       "            "
      ],
      "text/plain": [
       "<IPython.core.display.Javascript object>"
      ]
     },
     "metadata": {},
     "output_type": "display_data"
    }
   ],
   "source": [
    "# Code for reading data from excel and removing excess\n",
    "voter = pd.read_excel(\"currentvotestats.xlsx\")\n",
    "for i in np.arange(3, 10, 2):\n",
    "    voter = voter.drop(columns=[f\"Unnamed: {i}\"])\n",
    "\n",
    "voter = voter.drop(index=67)"
   ]
  },
  {
   "cell_type": "code",
   "execution_count": 14,
   "id": "91093b69",
   "metadata": {},
   "outputs": [
    {
     "data": {
      "application/javascript": [
       "\n",
       "            setTimeout(function() {\n",
       "                var nbb_cell_id = 14;\n",
       "                var nbb_unformatted_code = \"# Calculating orientation of each county\\nvoter[\\\"Orientation\\\"] = voter.apply(\\n    lambda x: 1\\n    if x[\\\"Count of Democratic Voters\\\"] > x[\\\"Count of Republican Voters\\\"]\\n    else 0,\\n    axis=1,\\n)\";\n",
       "                var nbb_formatted_code = \"# Calculating orientation of each county\\nvoter[\\\"Orientation\\\"] = voter.apply(\\n    lambda x: 1\\n    if x[\\\"Count of Democratic Voters\\\"] > x[\\\"Count of Republican Voters\\\"]\\n    else 0,\\n    axis=1,\\n)\";\n",
       "                var nbb_cells = Jupyter.notebook.get_cells();\n",
       "                for (var i = 0; i < nbb_cells.length; ++i) {\n",
       "                    if (nbb_cells[i].input_prompt_number == nbb_cell_id) {\n",
       "                        if (nbb_cells[i].get_text() == nbb_unformatted_code) {\n",
       "                             nbb_cells[i].set_text(nbb_formatted_code);\n",
       "                        }\n",
       "                        break;\n",
       "                    }\n",
       "                }\n",
       "            }, 500);\n",
       "            "
      ],
      "text/plain": [
       "<IPython.core.display.Javascript object>"
      ]
     },
     "metadata": {},
     "output_type": "display_data"
    }
   ],
   "source": [
    "# Calculating orientation of each county\n",
    "voter[\"Orientation\"] = voter.apply(\n",
    "    lambda x: 1\n",
    "    if x[\"Count of Democratic Voters\"] > x[\"Count of Republican Voters\"]\n",
    "    else 0,\n",
    "    axis=1,\n",
    ")"
   ]
  },
  {
   "cell_type": "code",
   "execution_count": 15,
   "id": "6061ad94",
   "metadata": {},
   "outputs": [
    {
     "data": {
      "application/javascript": [
       "\n",
       "            setTimeout(function() {\n",
       "                var nbb_cell_id = 15;\n",
       "                var nbb_unformatted_code = \"# Removing the unrequired counties\\n\\nfor i in unavailable:\\n    if i == \\\"McKean\\\":\\n        ddx = ddx = voter.where(voter.County == \\\"McKEAN\\\")\\n    else:\\n        ddx = voter.where(voter.County == i.upper())\\n    ind = ddx.dropna().index[0]\\n    voter = voter.drop(index=ind)\";\n",
       "                var nbb_formatted_code = \"# Removing the unrequired counties\\n\\nfor i in unavailable:\\n    if i == \\\"McKean\\\":\\n        ddx = ddx = voter.where(voter.County == \\\"McKEAN\\\")\\n    else:\\n        ddx = voter.where(voter.County == i.upper())\\n    ind = ddx.dropna().index[0]\\n    voter = voter.drop(index=ind)\";\n",
       "                var nbb_cells = Jupyter.notebook.get_cells();\n",
       "                for (var i = 0; i < nbb_cells.length; ++i) {\n",
       "                    if (nbb_cells[i].input_prompt_number == nbb_cell_id) {\n",
       "                        if (nbb_cells[i].get_text() == nbb_unformatted_code) {\n",
       "                             nbb_cells[i].set_text(nbb_formatted_code);\n",
       "                        }\n",
       "                        break;\n",
       "                    }\n",
       "                }\n",
       "            }, 500);\n",
       "            "
      ],
      "text/plain": [
       "<IPython.core.display.Javascript object>"
      ]
     },
     "metadata": {},
     "output_type": "display_data"
    }
   ],
   "source": [
    "# Removing the unrequired counties\n",
    "\n",
    "for i in unavailable:\n",
    "    if i == \"McKean\":\n",
    "        ddx = ddx = voter.where(voter.County == \"McKEAN\")\n",
    "    else:\n",
    "        ddx = voter.where(voter.County == i.upper())\n",
    "    ind = ddx.dropna().index[0]\n",
    "    voter = voter.drop(index=ind)"
   ]
  },
  {
   "cell_type": "code",
   "execution_count": 16,
   "id": "1bb93bd6",
   "metadata": {},
   "outputs": [
    {
     "data": {
      "text/plain": [
       "Text(0.5, 1.0, 'Orientation of counties')"
      ]
     },
     "execution_count": 16,
     "metadata": {},
     "output_type": "execute_result"
    },
    {
     "data": {
      "image/png": "[encoded data removed]",
      "text/plain": [
       "<Figure size 432x288 with 1 Axes>"
      ]
     },
     "metadata": {
      "needs_background": "light"
     },
     "output_type": "display_data"
    },
    {
     "data": {
      "application/javascript": [
       "\n",
       "            setTimeout(function() {\n",
       "                var nbb_cell_id = 16;\n",
       "                var nbb_unformatted_code = \"# plt.hist(voter[\\\"Orientation\\\"])\\nplt.hist(voter[\\\"Orientation\\\"])\\nplt.xlabel(\\\"Orientation\\\")\\nplt.ylabel(\\\"counts\\\")\\nplt.title(\\\"Orientation of counties\\\")\";\n",
       "                var nbb_formatted_code = \"# plt.hist(voter[\\\"Orientation\\\"])\\nplt.hist(voter[\\\"Orientation\\\"])\\nplt.xlabel(\\\"Orientation\\\")\\nplt.ylabel(\\\"counts\\\")\\nplt.title(\\\"Orientation of counties\\\")\";\n",
       "                var nbb_cells = Jupyter.notebook.get_cells();\n",
       "                for (var i = 0; i < nbb_cells.length; ++i) {\n",
       "                    if (nbb_cells[i].input_prompt_number == nbb_cell_id) {\n",
       "                        if (nbb_cells[i].get_text() == nbb_unformatted_code) {\n",
       "                             nbb_cells[i].set_text(nbb_formatted_code);\n",
       "                        }\n",
       "                        break;\n",
       "                    }\n",
       "                }\n",
       "            }, 500);\n",
       "            "
      ],
      "text/plain": [
       "<IPython.core.display.Javascript object>"
      ]
     },
     "metadata": {},
     "output_type": "display_data"
    }
   ],
   "source": [
    "# plt.hist(voter[\"Orientation\"])\n",
    "plt.hist(voter[\"Orientation\"])\n",
    "plt.xlabel(\"Orientation\")\n",
    "plt.ylabel(\"counts\")\n",
    "plt.title(\"Orientation of counties\")"
   ]
  },
  {
   "cell_type": "markdown",
   "id": "2155c2d2",
   "metadata": {},
   "source": [
    "## Final Data set-"
   ]
  },
  {
   "cell_type": "code",
   "execution_count": 17,
   "id": "e85bf5a7",
   "metadata": {},
   "outputs": [
    {
     "data": {
      "application/javascript": [
       "\n",
       "            setTimeout(function() {\n",
       "                var nbb_cell_id = 17;\n",
       "                var nbb_unformatted_code = \"final = pd.DataFrame()\\nfinal[\\\"y\\\"] = covid[\\\"percentage infected\\\"] * 100\\nfinal[\\\"x1\\\"] = avg\\nfinal[\\\"x2\\\"] = voter[\\\"Orientation\\\"]\";\n",
       "                var nbb_formatted_code = \"final = pd.DataFrame()\\nfinal[\\\"y\\\"] = covid[\\\"percentage infected\\\"] * 100\\nfinal[\\\"x1\\\"] = avg\\nfinal[\\\"x2\\\"] = voter[\\\"Orientation\\\"]\";\n",
       "                var nbb_cells = Jupyter.notebook.get_cells();\n",
       "                for (var i = 0; i < nbb_cells.length; ++i) {\n",
       "                    if (nbb_cells[i].input_prompt_number == nbb_cell_id) {\n",
       "                        if (nbb_cells[i].get_text() == nbb_unformatted_code) {\n",
       "                             nbb_cells[i].set_text(nbb_formatted_code);\n",
       "                        }\n",
       "                        break;\n",
       "                    }\n",
       "                }\n",
       "            }, 500);\n",
       "            "
      ],
      "text/plain": [
       "<IPython.core.display.Javascript object>"
      ]
     },
     "metadata": {},
     "output_type": "display_data"
    }
   ],
   "source": [
    "final = pd.DataFrame()\n",
    "final[\"y\"] = covid[\"percentage infected\"] * 100\n",
    "final[\"x1\"] = avg\n",
    "final[\"x2\"] = voter[\"Orientation\"]"
   ]
  },
  {
   "cell_type": "code",
   "execution_count": 18,
   "id": "3860523d",
   "metadata": {},
   "outputs": [
    {
     "data": {
      "text/html": [
       "<div>\n",
       "<style scoped>\n",
       "    .dataframe tbody tr th:only-of-type {\n",
       "        vertical-align: middle;\n",
       "    }\n",
       "\n",
       "    .dataframe tbody tr th {\n",
       "        vertical-align: top;\n",
       "    }\n",
       "\n",
       "    .dataframe thead th {\n",
       "        text-align: right;\n",
       "    }\n",
       "</style>\n",
       "<table border=\"1\" class=\"dataframe\">\n",
       "  <thead>\n",
       "    <tr style=\"text-align: right;\">\n",
       "      <th></th>\n",
       "      <th>y</th>\n",
       "      <th>x1</th>\n",
       "      <th>x2</th>\n",
       "    </tr>\n",
       "  </thead>\n",
       "  <tbody>\n",
       "    <tr>\n",
       "      <th>0</th>\n",
       "      <td>27.672473</td>\n",
       "      <td>40.491208</td>\n",
       "      <td>0</td>\n",
       "    </tr>\n",
       "    <tr>\n",
       "      <th>1</th>\n",
       "      <td>25.707420</td>\n",
       "      <td>47.243796</td>\n",
       "      <td>1</td>\n",
       "    </tr>\n",
       "    <tr>\n",
       "      <th>2</th>\n",
       "      <td>26.436815</td>\n",
       "      <td>38.142131</td>\n",
       "      <td>0</td>\n",
       "    </tr>\n",
       "    <tr>\n",
       "      <th>3</th>\n",
       "      <td>27.674188</td>\n",
       "      <td>42.776953</td>\n",
       "      <td>1</td>\n",
       "    </tr>\n",
       "    <tr>\n",
       "      <th>5</th>\n",
       "      <td>27.264737</td>\n",
       "      <td>40.136647</td>\n",
       "      <td>1</td>\n",
       "    </tr>\n",
       "    <tr>\n",
       "      <th>6</th>\n",
       "      <td>27.227675</td>\n",
       "      <td>40.063942</td>\n",
       "      <td>0</td>\n",
       "    </tr>\n",
       "    <tr>\n",
       "      <th>8</th>\n",
       "      <td>22.229056</td>\n",
       "      <td>46.642081</td>\n",
       "      <td>1</td>\n",
       "    </tr>\n",
       "    <tr>\n",
       "      <th>9</th>\n",
       "      <td>26.582579</td>\n",
       "      <td>45.312766</td>\n",
       "      <td>0</td>\n",
       "    </tr>\n",
       "    <tr>\n",
       "      <th>10</th>\n",
       "      <td>30.355730</td>\n",
       "      <td>40.003007</td>\n",
       "      <td>0</td>\n",
       "    </tr>\n",
       "    <tr>\n",
       "      <th>12</th>\n",
       "      <td>28.071696</td>\n",
       "      <td>37.654872</td>\n",
       "      <td>0</td>\n",
       "    </tr>\n",
       "    <tr>\n",
       "      <th>13</th>\n",
       "      <td>26.173025</td>\n",
       "      <td>44.597666</td>\n",
       "      <td>1</td>\n",
       "    </tr>\n",
       "    <tr>\n",
       "      <th>14</th>\n",
       "      <td>20.248490</td>\n",
       "      <td>49.478163</td>\n",
       "      <td>1</td>\n",
       "    </tr>\n",
       "    <tr>\n",
       "      <th>16</th>\n",
       "      <td>27.844846</td>\n",
       "      <td>39.266835</td>\n",
       "      <td>0</td>\n",
       "    </tr>\n",
       "    <tr>\n",
       "      <th>19</th>\n",
       "      <td>27.544728</td>\n",
       "      <td>39.080636</td>\n",
       "      <td>0</td>\n",
       "    </tr>\n",
       "    <tr>\n",
       "      <th>20</th>\n",
       "      <td>22.254113</td>\n",
       "      <td>44.217551</td>\n",
       "      <td>0</td>\n",
       "    </tr>\n",
       "    <tr>\n",
       "      <th>21</th>\n",
       "      <td>23.414181</td>\n",
       "      <td>42.491152</td>\n",
       "      <td>1</td>\n",
       "    </tr>\n",
       "    <tr>\n",
       "      <th>22</th>\n",
       "      <td>22.693112</td>\n",
       "      <td>46.661288</td>\n",
       "      <td>1</td>\n",
       "    </tr>\n",
       "    <tr>\n",
       "      <th>24</th>\n",
       "      <td>24.762940</td>\n",
       "      <td>42.178265</td>\n",
       "      <td>1</td>\n",
       "    </tr>\n",
       "    <tr>\n",
       "      <th>25</th>\n",
       "      <td>28.684393</td>\n",
       "      <td>37.692436</td>\n",
       "      <td>0</td>\n",
       "    </tr>\n",
       "    <tr>\n",
       "      <th>27</th>\n",
       "      <td>29.868963</td>\n",
       "      <td>40.140226</td>\n",
       "      <td>0</td>\n",
       "    </tr>\n",
       "    <tr>\n",
       "      <th>31</th>\n",
       "      <td>24.485321</td>\n",
       "      <td>39.845162</td>\n",
       "      <td>0</td>\n",
       "    </tr>\n",
       "    <tr>\n",
       "      <th>34</th>\n",
       "      <td>24.649988</td>\n",
       "      <td>42.694154</td>\n",
       "      <td>1</td>\n",
       "    </tr>\n",
       "    <tr>\n",
       "      <th>35</th>\n",
       "      <td>24.874324</td>\n",
       "      <td>40.689890</td>\n",
       "      <td>0</td>\n",
       "    </tr>\n",
       "    <tr>\n",
       "      <th>36</th>\n",
       "      <td>25.335316</td>\n",
       "      <td>39.173625</td>\n",
       "      <td>0</td>\n",
       "    </tr>\n",
       "    <tr>\n",
       "      <th>37</th>\n",
       "      <td>29.006518</td>\n",
       "      <td>39.750395</td>\n",
       "      <td>0</td>\n",
       "    </tr>\n",
       "    <tr>\n",
       "      <th>38</th>\n",
       "      <td>27.384218</td>\n",
       "      <td>42.869978</td>\n",
       "      <td>1</td>\n",
       "    </tr>\n",
       "    <tr>\n",
       "      <th>39</th>\n",
       "      <td>26.477063</td>\n",
       "      <td>41.383091</td>\n",
       "      <td>1</td>\n",
       "    </tr>\n",
       "    <tr>\n",
       "      <th>40</th>\n",
       "      <td>28.516606</td>\n",
       "      <td>41.098149</td>\n",
       "      <td>0</td>\n",
       "    </tr>\n",
       "    <tr>\n",
       "      <th>42</th>\n",
       "      <td>24.126640</td>\n",
       "      <td>40.732719</td>\n",
       "      <td>0</td>\n",
       "    </tr>\n",
       "    <tr>\n",
       "      <th>44</th>\n",
       "      <td>25.871264</td>\n",
       "      <td>41.879222</td>\n",
       "      <td>1</td>\n",
       "    </tr>\n",
       "    <tr>\n",
       "      <th>45</th>\n",
       "      <td>21.305816</td>\n",
       "      <td>49.289144</td>\n",
       "      <td>1</td>\n",
       "    </tr>\n",
       "    <tr>\n",
       "      <th>47</th>\n",
       "      <td>29.365445</td>\n",
       "      <td>43.388752</td>\n",
       "      <td>1</td>\n",
       "    </tr>\n",
       "    <tr>\n",
       "      <th>48</th>\n",
       "      <td>28.823050</td>\n",
       "      <td>38.250708</td>\n",
       "      <td>0</td>\n",
       "    </tr>\n",
       "    <tr>\n",
       "      <th>50</th>\n",
       "      <td>23.091412</td>\n",
       "      <td>42.896264</td>\n",
       "      <td>1</td>\n",
       "    </tr>\n",
       "    <tr>\n",
       "      <th>53</th>\n",
       "      <td>27.260816</td>\n",
       "      <td>38.246129</td>\n",
       "      <td>0</td>\n",
       "    </tr>\n",
       "    <tr>\n",
       "      <th>55</th>\n",
       "      <td>28.476492</td>\n",
       "      <td>37.079904</td>\n",
       "      <td>0</td>\n",
       "    </tr>\n",
       "    <tr>\n",
       "      <th>62</th>\n",
       "      <td>28.629383</td>\n",
       "      <td>43.409242</td>\n",
       "      <td>0</td>\n",
       "    </tr>\n",
       "    <tr>\n",
       "      <th>64</th>\n",
       "      <td>26.217689</td>\n",
       "      <td>43.134705</td>\n",
       "      <td>0</td>\n",
       "    </tr>\n",
       "    <tr>\n",
       "      <th>66</th>\n",
       "      <td>29.681630</td>\n",
       "      <td>41.230947</td>\n",
       "      <td>0</td>\n",
       "    </tr>\n",
       "  </tbody>\n",
       "</table>\n",
       "</div>"
      ],
      "text/plain": [
       "            y         x1  x2\n",
       "0   27.672473  40.491208   0\n",
       "1   25.707420  47.243796   1\n",
       "2   26.436815  38.142131   0\n",
       "3   27.674188  42.776953   1\n",
       "5   27.264737  40.136647   1\n",
       "6   27.227675  40.063942   0\n",
       "8   22.229056  46.642081   1\n",
       "9   26.582579  45.312766   0\n",
       "10  30.355730  40.003007   0\n",
       "12  28.071696  37.654872   0\n",
       "13  26.173025  44.597666   1\n",
       "14  20.248490  49.478163   1\n",
       "16  27.844846  39.266835   0\n",
       "19  27.544728  39.080636   0\n",
       "20  22.254113  44.217551   0\n",
       "21  23.414181  42.491152   1\n",
       "22  22.693112  46.661288   1\n",
       "24  24.762940  42.178265   1\n",
       "25  28.684393  37.692436   0\n",
       "27  29.868963  40.140226   0\n",
       "31  24.485321  39.845162   0\n",
       "34  24.649988  42.694154   1\n",
       "35  24.874324  40.689890   0\n",
       "36  25.335316  39.173625   0\n",
       "37  29.006518  39.750395   0\n",
       "38  27.384218  42.869978   1\n",
       "39  26.477063  41.383091   1\n",
       "40  28.516606  41.098149   0\n",
       "42  24.126640  40.732719   0\n",
       "44  25.871264  41.879222   1\n",
       "45  21.305816  49.289144   1\n",
       "47  29.365445  43.388752   1\n",
       "48  28.823050  38.250708   0\n",
       "50  23.091412  42.896264   1\n",
       "53  27.260816  38.246129   0\n",
       "55  28.476492  37.079904   0\n",
       "62  28.629383  43.409242   0\n",
       "64  26.217689  43.134705   0\n",
       "66  29.681630  41.230947   0"
      ]
     },
     "execution_count": 18,
     "metadata": {},
     "output_type": "execute_result"
    },
    {
     "data": {
      "application/javascript": [
       "\n",
       "            setTimeout(function() {\n",
       "                var nbb_cell_id = 18;\n",
       "                var nbb_unformatted_code = \"final\";\n",
       "                var nbb_formatted_code = \"final\";\n",
       "                var nbb_cells = Jupyter.notebook.get_cells();\n",
       "                for (var i = 0; i < nbb_cells.length; ++i) {\n",
       "                    if (nbb_cells[i].input_prompt_number == nbb_cell_id) {\n",
       "                        if (nbb_cells[i].get_text() == nbb_unformatted_code) {\n",
       "                             nbb_cells[i].set_text(nbb_formatted_code);\n",
       "                        }\n",
       "                        break;\n",
       "                    }\n",
       "                }\n",
       "            }, 500);\n",
       "            "
      ],
      "text/plain": [
       "<IPython.core.display.Javascript object>"
      ]
     },
     "metadata": {},
     "output_type": "display_data"
    }
   ],
   "source": [
    "final"
   ]
  },
  {
   "cell_type": "code",
   "execution_count": 19,
   "id": "60590c51",
   "metadata": {},
   "outputs": [
    {
     "name": "stdout",
     "output_type": "stream",
     "text": [
      "                            OLS Regression Results                            \n",
      "==============================================================================\n",
      "Dep. Variable:                      y   R-squared:                       0.431\n",
      "Model:                            OLS   Adj. R-squared:                  0.400\n",
      "Method:                 Least Squares   F-statistic:                     13.66\n",
      "Date:                Mon, 24 Oct 2022   Prob (F-statistic):           3.85e-05\n",
      "Time:                        01:12:31   Log-Likelihood:                -79.930\n",
      "No. Observations:                  39   AIC:                             165.9\n",
      "Df Residuals:                      36   BIC:                             170.9\n",
      "Df Model:                           2                                         \n",
      "Covariance Type:            nonrobust                                         \n",
      "==============================================================================\n",
      "                 coef    std err          t      P>|t|      [0.025      0.975]\n",
      "------------------------------------------------------------------------------\n",
      "const         46.3240      5.292      8.754      0.000      35.592      57.056\n",
      "x1            -0.4731      0.131     -3.605      0.001      -0.739      -0.207\n",
      "x2            -0.5362      0.822     -0.653      0.518      -2.202       1.130\n",
      "==============================================================================\n",
      "Omnibus:                        2.354   Durbin-Watson:                   1.921\n",
      "Prob(Omnibus):                  0.308   Jarque-Bera (JB):                1.417\n",
      "Skew:                           0.166   Prob(JB):                        0.492\n",
      "Kurtosis:                       2.127   Cond. No.                         712.\n",
      "==============================================================================\n",
      "\n",
      "Notes:\n",
      "[1] Standard Errors assume that the covariance matrix of the errors is correctly specified.\n"
     ]
    },
    {
     "data": {
      "application/javascript": [
       "\n",
       "            setTimeout(function() {\n",
       "                var nbb_cell_id = 19;\n",
       "                var nbb_unformatted_code = \"sol = sm.OLS(final[\\\"y\\\"], sm.add_constant(final[[\\\"x1\\\", \\\"x2\\\"]])).fit()\\n\\nprint(sol.summary())\";\n",
       "                var nbb_formatted_code = \"sol = sm.OLS(final[\\\"y\\\"], sm.add_constant(final[[\\\"x1\\\", \\\"x2\\\"]])).fit()\\n\\nprint(sol.summary())\";\n",
       "                var nbb_cells = Jupyter.notebook.get_cells();\n",
       "                for (var i = 0; i < nbb_cells.length; ++i) {\n",
       "                    if (nbb_cells[i].input_prompt_number == nbb_cell_id) {\n",
       "                        if (nbb_cells[i].get_text() == nbb_unformatted_code) {\n",
       "                             nbb_cells[i].set_text(nbb_formatted_code);\n",
       "                        }\n",
       "                        break;\n",
       "                    }\n",
       "                }\n",
       "            }, 500);\n",
       "            "
      ],
      "text/plain": [
       "<IPython.core.display.Javascript object>"
      ]
     },
     "metadata": {},
     "output_type": "display_data"
    }
   ],
   "source": [
    "sol = sm.OLS(final[\"y\"], sm.add_constant(final[[\"x1\", \"x2\"]])).fit()\n",
    "\n",
    "print(sol.summary())"
   ]
  },
  {
   "cell_type": "code",
   "execution_count": null,
   "id": "8afb0dab",
   "metadata": {},
   "outputs": [],
   "source": []
  }
 ],
 "metadata": {
  "kernelspec": {
   "display_name": "Python 3 (ipykernel)",
   "language": "python",
   "name": "python3"
  },
  "language_info": {
   "codemirror_mode": {
    "name": "ipython",
    "version": 3
   },
   "file_extension": ".py",
   "mimetype": "text/x-python",
   "name": "python",
   "nbconvert_exporter": "python",
   "pygments_lexer": "ipython3",
   "version": "3.10.6"
  }
 },
 "nbformat": 4,
 "nbformat_minor": 5
}
