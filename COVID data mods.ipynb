{
 "cells": [
  {
   "cell_type": "code",
   "execution_count": 1,
   "id": "bcde81e0",
   "metadata": {},
   "outputs": [
    {
     "data": {
      "application/javascript": [
       "\n",
       "            setTimeout(function() {\n",
       "                var nbb_cell_id = 1;\n",
       "                var nbb_unformatted_code = \"import numpy as np\\nimport matplotlib.pyplot as plt\\n\\n# import scipy.optimize as sciopt\\nimport pandas as pd\\nfrom scipy import stats\\n\\n# import scipy.integrate as scint\\n# import statsmodels.api as sm\\nimport seaborn as sns\\n\\n%load_ext nb_black\";\n",
       "                var nbb_formatted_code = \"import numpy as np\\nimport matplotlib.pyplot as plt\\n\\n# import scipy.optimize as sciopt\\nimport pandas as pd\\nfrom scipy import stats\\n\\n# import scipy.integrate as scint\\n# import statsmodels.api as sm\\nimport seaborn as sns\\n\\n%load_ext nb_black\";\n",
       "                var nbb_cells = Jupyter.notebook.get_cells();\n",
       "                for (var i = 0; i < nbb_cells.length; ++i) {\n",
       "                    if (nbb_cells[i].input_prompt_number == nbb_cell_id) {\n",
       "                        if (nbb_cells[i].get_text() == nbb_unformatted_code) {\n",
       "                             nbb_cells[i].set_text(nbb_formatted_code);\n",
       "                        }\n",
       "                        break;\n",
       "                    }\n",
       "                }\n",
       "            }, 500);\n",
       "            "
      ],
      "text/plain": [
       "<IPython.core.display.Javascript object>"
      ]
     },
     "metadata": {},
     "output_type": "display_data"
    }
   ],
   "source": [
    "import numpy as np\n",
    "import matplotlib.pyplot as plt\n",
    "\n",
    "# import scipy.optimize as sciopt\n",
    "import pandas as pd\n",
    "from scipy import stats\n",
    "\n",
    "# import scipy.integrate as scint\n",
    "# import statsmodels.api as sm\n",
    "import seaborn as sns\n",
    "\n",
    "%load_ext nb_black"
   ]
  },
  {
   "cell_type": "code",
   "execution_count": 2,
   "id": "885246f9",
   "metadata": {},
   "outputs": [
    {
     "data": {
      "application/javascript": [
       "\n",
       "            setTimeout(function() {\n",
       "                var nbb_cell_id = 2;\n",
       "                var nbb_unformatted_code = \"df = pd.read_csv(\\\"us-counties-recent.csv\\\")\\ndf = df[df[\\\"state\\\"] == \\\"Pennsylvania\\\"]\";\n",
       "                var nbb_formatted_code = \"df = pd.read_csv(\\\"us-counties-recent.csv\\\")\\ndf = df[df[\\\"state\\\"] == \\\"Pennsylvania\\\"]\";\n",
       "                var nbb_cells = Jupyter.notebook.get_cells();\n",
       "                for (var i = 0; i < nbb_cells.length; ++i) {\n",
       "                    if (nbb_cells[i].input_prompt_number == nbb_cell_id) {\n",
       "                        if (nbb_cells[i].get_text() == nbb_unformatted_code) {\n",
       "                             nbb_cells[i].set_text(nbb_formatted_code);\n",
       "                        }\n",
       "                        break;\n",
       "                    }\n",
       "                }\n",
       "            }, 500);\n",
       "            "
      ],
      "text/plain": [
       "<IPython.core.display.Javascript object>"
      ]
     },
     "metadata": {},
     "output_type": "display_data"
    }
   ],
   "source": [
    "df = pd.read_csv(\"us-counties-recent.csv\")\n",
    "df = df[df[\"state\"] == \"Pennsylvania\"]"
   ]
  },
  {
   "cell_type": "code",
   "execution_count": 3,
   "id": "6009a2f4",
   "metadata": {},
   "outputs": [
    {
     "data": {
      "application/javascript": [
       "\n",
       "            setTimeout(function() {\n",
       "                var nbb_cell_id = 3;\n",
       "                var nbb_unformatted_code = \"means = np.array([])\\ncounty = np.array([])\\n\\nfor i in np.arange(42001, 42134, 2):\\n    dd = df[df[\\\"fips\\\"] == i]\\n    means = np.concatenate([means, np.mean(dd[\\\"cases\\\"])], axis=None)\\n    county = np.concatenate([county, dd.drop_duplicates(subset=\\\"county\\\")[\\\"county\\\"]])\\n\\n\\ndd = pd.DataFrame()\\ndd[\\\"fips\\\"] = np.arange(42001, 42134, 2)\\ndd[\\\"cases_mean\\\"] = means\\ndd[\\\"county\\\"] = county\";\n",
       "                var nbb_formatted_code = \"means = np.array([])\\ncounty = np.array([])\\n\\nfor i in np.arange(42001, 42134, 2):\\n    dd = df[df[\\\"fips\\\"] == i]\\n    means = np.concatenate([means, np.mean(dd[\\\"cases\\\"])], axis=None)\\n    county = np.concatenate([county, dd.drop_duplicates(subset=\\\"county\\\")[\\\"county\\\"]])\\n\\n\\ndd = pd.DataFrame()\\ndd[\\\"fips\\\"] = np.arange(42001, 42134, 2)\\ndd[\\\"cases_mean\\\"] = means\\ndd[\\\"county\\\"] = county\";\n",
       "                var nbb_cells = Jupyter.notebook.get_cells();\n",
       "                for (var i = 0; i < nbb_cells.length; ++i) {\n",
       "                    if (nbb_cells[i].input_prompt_number == nbb_cell_id) {\n",
       "                        if (nbb_cells[i].get_text() == nbb_unformatted_code) {\n",
       "                             nbb_cells[i].set_text(nbb_formatted_code);\n",
       "                        }\n",
       "                        break;\n",
       "                    }\n",
       "                }\n",
       "            }, 500);\n",
       "            "
      ],
      "text/plain": [
       "<IPython.core.display.Javascript object>"
      ]
     },
     "metadata": {},
     "output_type": "display_data"
    }
   ],
   "source": [
    "means = np.array([])\n",
    "county = np.array([])\n",
    "\n",
    "for i in np.arange(42001, 42134, 2):\n",
    "    dd = df[df[\"fips\"] == i]\n",
    "    means = np.concatenate([means, np.mean(dd[\"cases\"])], axis=None)\n",
    "    county = np.concatenate([county, dd.drop_duplicates(subset=\"county\")[\"county\"]])\n",
    "\n",
    "\n",
    "dd = pd.DataFrame()\n",
    "dd[\"fips\"] = np.arange(42001, 42134, 2)\n",
    "dd[\"cases_mean\"] = means\n",
    "dd[\"county\"] = county"
   ]
  },
  {
   "cell_type": "code",
   "execution_count": 4,
   "id": "508719d5",
   "metadata": {},
   "outputs": [
    {
     "data": {
      "application/javascript": [
       "\n",
       "            setTimeout(function() {\n",
       "                var nbb_cell_id = 4;\n",
       "                var nbb_unformatted_code = \"pop = pd.read_excel(\\\"age and sex.xlsx\\\", sheet_name=\\\"Sheet2\\\")\";\n",
       "                var nbb_formatted_code = \"pop = pd.read_excel(\\\"age and sex.xlsx\\\", sheet_name=\\\"Sheet2\\\")\";\n",
       "                var nbb_cells = Jupyter.notebook.get_cells();\n",
       "                for (var i = 0; i < nbb_cells.length; ++i) {\n",
       "                    if (nbb_cells[i].input_prompt_number == nbb_cell_id) {\n",
       "                        if (nbb_cells[i].get_text() == nbb_unformatted_code) {\n",
       "                             nbb_cells[i].set_text(nbb_formatted_code);\n",
       "                        }\n",
       "                        break;\n",
       "                    }\n",
       "                }\n",
       "            }, 500);\n",
       "            "
      ],
      "text/plain": [
       "<IPython.core.display.Javascript object>"
      ]
     },
     "metadata": {},
     "output_type": "display_data"
    }
   ],
   "source": [
    "pop = pd.read_excel(\"age and sex.xlsx\", sheet_name=\"Sheet2\")"
   ]
  },
  {
   "cell_type": "code",
   "execution_count": 5,
   "id": "1cf55c0b",
   "metadata": {},
   "outputs": [
    {
     "data": {
      "application/javascript": [
       "\n",
       "            setTimeout(function() {\n",
       "                var nbb_cell_id = 5;\n",
       "                var nbb_unformatted_code = \"unavailable = []\\ncounter = 0\\nfor i in county:\\n    counter = 0\\n    # print(i)\\n    for j in pop.columns:\\n        if f\\\"{i} County, Pennsylvania\\\" == j:\\n            counter = counter + 1\\n\\n        else:\\n            continue\\n    if counter == 0:\\n        unavailable.append(i)\";\n",
       "                var nbb_formatted_code = \"unavailable = []\\ncounter = 0\\nfor i in county:\\n    counter = 0\\n    # print(i)\\n    for j in pop.columns:\\n        if f\\\"{i} County, Pennsylvania\\\" == j:\\n            counter = counter + 1\\n\\n        else:\\n            continue\\n    if counter == 0:\\n        unavailable.append(i)\";\n",
       "                var nbb_cells = Jupyter.notebook.get_cells();\n",
       "                for (var i = 0; i < nbb_cells.length; ++i) {\n",
       "                    if (nbb_cells[i].input_prompt_number == nbb_cell_id) {\n",
       "                        if (nbb_cells[i].get_text() == nbb_unformatted_code) {\n",
       "                             nbb_cells[i].set_text(nbb_formatted_code);\n",
       "                        }\n",
       "                        break;\n",
       "                    }\n",
       "                }\n",
       "            }, 500);\n",
       "            "
      ],
      "text/plain": [
       "<IPython.core.display.Javascript object>"
      ]
     },
     "metadata": {},
     "output_type": "display_data"
    }
   ],
   "source": [
    "unavailable = []\n",
    "counter = 0\n",
    "for i in county:\n",
    "    counter = 0\n",
    "    # print(i)\n",
    "    for j in pop.columns:\n",
    "        if f\"{i} County, Pennsylvania\" == j:\n",
    "            counter = counter + 1\n",
    "\n",
    "        else:\n",
    "            continue\n",
    "    if counter == 0:\n",
    "        unavailable.append(i)"
   ]
  },
  {
   "cell_type": "code",
   "execution_count": 6,
   "id": "fffb1ee9",
   "metadata": {},
   "outputs": [
    {
     "name": "stdout",
     "output_type": "stream",
     "text": [
      "The counties without data: ['Bedford', 'Bradford', 'Cameron', 'Clarion', 'Clinton', 'Columbia', 'Elk', 'Forest', 'Fulton', 'Greene', 'Huntingdon', 'Jefferson', 'Juniata', 'McKean', 'Mifflin', 'Montour', 'Perry', 'Pike', 'Potter', 'Snyder', 'Sullivan', 'Susquehanna', 'Tioga', 'Union', 'Venango', 'Warren', 'Wayne', 'Wyoming']\n"
     ]
    },
    {
     "data": {
      "application/javascript": [
       "\n",
       "            setTimeout(function() {\n",
       "                var nbb_cell_id = 6;\n",
       "                var nbb_unformatted_code = \"print(\\\"The counties without data:\\\", unavailable)\";\n",
       "                var nbb_formatted_code = \"print(\\\"The counties without data:\\\", unavailable)\";\n",
       "                var nbb_cells = Jupyter.notebook.get_cells();\n",
       "                for (var i = 0; i < nbb_cells.length; ++i) {\n",
       "                    if (nbb_cells[i].input_prompt_number == nbb_cell_id) {\n",
       "                        if (nbb_cells[i].get_text() == nbb_unformatted_code) {\n",
       "                             nbb_cells[i].set_text(nbb_formatted_code);\n",
       "                        }\n",
       "                        break;\n",
       "                    }\n",
       "                }\n",
       "            }, 500);\n",
       "            "
      ],
      "text/plain": [
       "<IPython.core.display.Javascript object>"
      ]
     },
     "metadata": {},
     "output_type": "display_data"
    }
   ],
   "source": [
    "print(\"The counties without data:\", unavailable)"
   ]
  },
  {
   "cell_type": "code",
   "execution_count": 7,
   "id": "efac88ba",
   "metadata": {},
   "outputs": [
    {
     "data": {
      "application/javascript": [
       "\n",
       "            setTimeout(function() {\n",
       "                var nbb_cell_id = 7;\n",
       "                var nbb_unformatted_code = \"for i in unavailable:\\n    ddx = dd.where(dd[\\\"county\\\"] == i)\\n    dd = dd.drop(index=ddx.dropna().index[0])\";\n",
       "                var nbb_formatted_code = \"for i in unavailable:\\n    ddx = dd.where(dd[\\\"county\\\"] == i)\\n    dd = dd.drop(index=ddx.dropna().index[0])\";\n",
       "                var nbb_cells = Jupyter.notebook.get_cells();\n",
       "                for (var i = 0; i < nbb_cells.length; ++i) {\n",
       "                    if (nbb_cells[i].input_prompt_number == nbb_cell_id) {\n",
       "                        if (nbb_cells[i].get_text() == nbb_unformatted_code) {\n",
       "                             nbb_cells[i].set_text(nbb_formatted_code);\n",
       "                        }\n",
       "                        break;\n",
       "                    }\n",
       "                }\n",
       "            }, 500);\n",
       "            "
      ],
      "text/plain": [
       "<IPython.core.display.Javascript object>"
      ]
     },
     "metadata": {},
     "output_type": "display_data"
    }
   ],
   "source": [
    "for i in unavailable:\n",
    "    ddx = dd.where(dd[\"county\"] == i)\n",
    "    dd = dd.drop(index=ddx.dropna().index[0])"
   ]
  },
  {
   "cell_type": "code",
   "execution_count": 8,
   "id": "5a4430b7",
   "metadata": {},
   "outputs": [
    {
     "data": {
      "application/javascript": [
       "\n",
       "            setTimeout(function() {\n",
       "                var nbb_cell_id = 8;\n",
       "                var nbb_unformatted_code = \"a = np.array(pop.iloc[2])\\na = a[1:]\\ndd[\\\"total population\\\"] = a\";\n",
       "                var nbb_formatted_code = \"a = np.array(pop.iloc[2])\\na = a[1:]\\ndd[\\\"total population\\\"] = a\";\n",
       "                var nbb_cells = Jupyter.notebook.get_cells();\n",
       "                for (var i = 0; i < nbb_cells.length; ++i) {\n",
       "                    if (nbb_cells[i].input_prompt_number == nbb_cell_id) {\n",
       "                        if (nbb_cells[i].get_text() == nbb_unformatted_code) {\n",
       "                             nbb_cells[i].set_text(nbb_formatted_code);\n",
       "                        }\n",
       "                        break;\n",
       "                    }\n",
       "                }\n",
       "            }, 500);\n",
       "            "
      ],
      "text/plain": [
       "<IPython.core.display.Javascript object>"
      ]
     },
     "metadata": {},
     "output_type": "display_data"
    }
   ],
   "source": [
    "a = np.array(pop.iloc[2])\n",
    "a = a[1:]\n",
    "dd[\"total population\"] = a"
   ]
  },
  {
   "cell_type": "code",
   "execution_count": 9,
   "id": "9d302659",
   "metadata": {},
   "outputs": [
    {
     "data": {
      "application/javascript": [
       "\n",
       "            setTimeout(function() {\n",
       "                var nbb_cell_id = 9;\n",
       "                var nbb_unformatted_code = \"# orientation\\n\\ndd[\\\"percentage infected\\\"] = dd.apply(\\n    lambda x: x[\\\"cases_mean\\\"] / x[\\\"total population\\\"],\\n    axis=1,\\n)\";\n",
       "                var nbb_formatted_code = \"# orientation\\n\\ndd[\\\"percentage infected\\\"] = dd.apply(\\n    lambda x: x[\\\"cases_mean\\\"] / x[\\\"total population\\\"],\\n    axis=1,\\n)\";\n",
       "                var nbb_cells = Jupyter.notebook.get_cells();\n",
       "                for (var i = 0; i < nbb_cells.length; ++i) {\n",
       "                    if (nbb_cells[i].input_prompt_number == nbb_cell_id) {\n",
       "                        if (nbb_cells[i].get_text() == nbb_unformatted_code) {\n",
       "                             nbb_cells[i].set_text(nbb_formatted_code);\n",
       "                        }\n",
       "                        break;\n",
       "                    }\n",
       "                }\n",
       "            }, 500);\n",
       "            "
      ],
      "text/plain": [
       "<IPython.core.display.Javascript object>"
      ]
     },
     "metadata": {},
     "output_type": "display_data"
    }
   ],
   "source": [
    "# orientation\n",
    "\n",
    "dd[\"percentage infected\"] = dd.apply(\n",
    "    lambda x: x[\"cases_mean\"] / x[\"total population\"],\n",
    "    axis=1,\n",
    ")"
   ]
  },
  {
   "cell_type": "code",
   "execution_count": 10,
   "id": "812bc017",
   "metadata": {},
   "outputs": [
    {
     "data": {
      "text/plain": [
       "(array([1., 0., 1., 2., 1., 1., 1., 1., 3., 1., 2., 3., 3., 3., 4., 2., 5.,\n",
       "        1., 2., 2.]),\n",
       " array([0.2024849 , 0.20753852, 0.21259214, 0.21764576, 0.22269938,\n",
       "        0.227753  , 0.23280662, 0.23786024, 0.24291386, 0.24796748,\n",
       "        0.2530211 , 0.25807472, 0.26312834, 0.26818196, 0.27323558,\n",
       "        0.2782892 , 0.28334282, 0.28839644, 0.29345006, 0.29850368,\n",
       "        0.3035573 ]),\n",
       " <BarContainer object of 20 artists>)"
      ]
     },
     "execution_count": 10,
     "metadata": {},
     "output_type": "execute_result"
    },
    {
     "data": {
      "image/png": "[encoded data removed]",
      "text/plain": [
       "<Figure size 432x288 with 1 Axes>"
      ]
     },
     "metadata": {
      "needs_background": "light"
     },
     "output_type": "display_data"
    },
    {
     "data": {
      "application/javascript": [
       "\n",
       "            setTimeout(function() {\n",
       "                var nbb_cell_id = 10;\n",
       "                var nbb_unformatted_code = \"plt.hist(dd[\\\"percentage infected\\\"], bins=20)\";\n",
       "                var nbb_formatted_code = \"plt.hist(dd[\\\"percentage infected\\\"], bins=20)\";\n",
       "                var nbb_cells = Jupyter.notebook.get_cells();\n",
       "                for (var i = 0; i < nbb_cells.length; ++i) {\n",
       "                    if (nbb_cells[i].input_prompt_number == nbb_cell_id) {\n",
       "                        if (nbb_cells[i].get_text() == nbb_unformatted_code) {\n",
       "                             nbb_cells[i].set_text(nbb_formatted_code);\n",
       "                        }\n",
       "                        break;\n",
       "                    }\n",
       "                }\n",
       "            }, 500);\n",
       "            "
      ],
      "text/plain": [
       "<IPython.core.display.Javascript object>"
      ]
     },
     "metadata": {},
     "output_type": "display_data"
    }
   ],
   "source": [
    "plt.hist(dd[\"percentage infected\"], bins=20)"
   ]
  },
  {
   "cell_type": "code",
   "execution_count": null,
   "id": "30210c52",
   "metadata": {},
   "outputs": [],
   "source": []
  }
 ],
 "metadata": {
  "kernelspec": {
   "display_name": "Python 3 (ipykernel)",
   "language": "python",
   "name": "python3"
  },
  "language_info": {
   "codemirror_mode": {
    "name": "ipython",
    "version": 3
   },
   "file_extension": ".py",
   "mimetype": "text/x-python",
   "name": "python",
   "nbconvert_exporter": "python",
   "pygments_lexer": "ipython3",
   "version": "3.10.6"
  }
 },
 "nbformat": 4,
 "nbformat_minor": 5
}
