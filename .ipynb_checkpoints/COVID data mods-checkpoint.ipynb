{
 "cells": [
  {
   "cell_type": "code",
   "execution_count": 1,
   "id": "bcde81e0",
   "metadata": {},
   "outputs": [
    {
     "data": {
      "application/javascript": [
       "\n",
       "            setTimeout(function() {\n",
       "                var nbb_cell_id = 1;\n",
       "                var nbb_unformatted_code = \"import numpy as np\\nimport matplotlib.pyplot as plt\\n\\n# import scipy.optimize as sciopt\\nimport pandas as pd\\nfrom scipy import stats\\n\\n# import scipy.integrate as scint\\n# import statsmodels.api as sm\\nimport seaborn as sns\\n\\n%load_ext nb_black\";\n",
       "                var nbb_formatted_code = \"import numpy as np\\nimport matplotlib.pyplot as plt\\n\\n# import scipy.optimize as sciopt\\nimport pandas as pd\\nfrom scipy import stats\\n\\n# import scipy.integrate as scint\\n# import statsmodels.api as sm\\nimport seaborn as sns\\n\\n%load_ext nb_black\";\n",
       "                var nbb_cells = Jupyter.notebook.get_cells();\n",
       "                for (var i = 0; i < nbb_cells.length; ++i) {\n",
       "                    if (nbb_cells[i].input_prompt_number == nbb_cell_id) {\n",
       "                        if (nbb_cells[i].get_text() == nbb_unformatted_code) {\n",
       "                             nbb_cells[i].set_text(nbb_formatted_code);\n",
       "                        }\n",
       "                        break;\n",
       "                    }\n",
       "                }\n",
       "            }, 500);\n",
       "            "
      ],
      "text/plain": [
       "<IPython.core.display.Javascript object>"
      ]
     },
     "metadata": {},
     "output_type": "display_data"
    }
   ],
   "source": [
    "import numpy as np\n",
    "import matplotlib.pyplot as plt\n",
    "\n",
    "# import scipy.optimize as sciopt\n",
    "import pandas as pd\n",
    "from scipy import stats\n",
    "\n",
    "# import scipy.integrate as scint\n",
    "# import statsmodels.api as sm\n",
    "import seaborn as sns\n",
    "\n",
    "%load_ext nb_black"
   ]
  },
  {
   "cell_type": "code",
   "execution_count": 2,
   "id": "885246f9",
   "metadata": {},
   "outputs": [
    {
     "data": {
      "application/javascript": [
       "\n",
       "            setTimeout(function() {\n",
       "                var nbb_cell_id = 2;\n",
       "                var nbb_unformatted_code = \"df = pd.read_csv(\\\"us-counties-recent.csv\\\")\\ndf = df[df[\\\"state\\\"] == \\\"Pennsylvania\\\"]\";\n",
       "                var nbb_formatted_code = \"df = pd.read_csv(\\\"us-counties-recent.csv\\\")\\ndf = df[df[\\\"state\\\"] == \\\"Pennsylvania\\\"]\";\n",
       "                var nbb_cells = Jupyter.notebook.get_cells();\n",
       "                for (var i = 0; i < nbb_cells.length; ++i) {\n",
       "                    if (nbb_cells[i].input_prompt_number == nbb_cell_id) {\n",
       "                        if (nbb_cells[i].get_text() == nbb_unformatted_code) {\n",
       "                             nbb_cells[i].set_text(nbb_formatted_code);\n",
       "                        }\n",
       "                        break;\n",
       "                    }\n",
       "                }\n",
       "            }, 500);\n",
       "            "
      ],
      "text/plain": [
       "<IPython.core.display.Javascript object>"
      ]
     },
     "metadata": {},
     "output_type": "display_data"
    }
   ],
   "source": [
    "df = pd.read_csv(\"us-counties-recent.csv\")\n",
    "df = df[df[\"state\"] == \"Pennsylvania\"]"
   ]
  },
  {
   "cell_type": "code",
   "execution_count": 3,
   "id": "6009a2f4",
   "metadata": {},
   "outputs": [
    {
     "data": {
      "application/javascript": [
       "\n",
       "            setTimeout(function() {\n",
       "                var nbb_cell_id = 3;\n",
       "                var nbb_unformatted_code = \"means = np.array([])\\ncounty = np.array([])\\n\\nfor i in np.arange(42001, 42134, 2):\\n    dd = df[df[\\\"fips\\\"] == i]\\n    means = np.concatenate([means, np.mean(dd[\\\"cases\\\"])], axis=None)\\n    county = np.concatenate([county, dd.drop_duplicates(subset=\\\"county\\\")[\\\"county\\\"]])\\n\\n\\ndd = pd.DataFrame()\\ndd[\\\"fips\\\"] = np.arange(42001, 42134, 2)\\ndd[\\\"cases_mean\\\"] = means\\ndd[\\\"county\\\"] = county\";\n",
       "                var nbb_formatted_code = \"means = np.array([])\\ncounty = np.array([])\\n\\nfor i in np.arange(42001, 42134, 2):\\n    dd = df[df[\\\"fips\\\"] == i]\\n    means = np.concatenate([means, np.mean(dd[\\\"cases\\\"])], axis=None)\\n    county = np.concatenate([county, dd.drop_duplicates(subset=\\\"county\\\")[\\\"county\\\"]])\\n\\n\\ndd = pd.DataFrame()\\ndd[\\\"fips\\\"] = np.arange(42001, 42134, 2)\\ndd[\\\"cases_mean\\\"] = means\\ndd[\\\"county\\\"] = county\";\n",
       "                var nbb_cells = Jupyter.notebook.get_cells();\n",
       "                for (var i = 0; i < nbb_cells.length; ++i) {\n",
       "                    if (nbb_cells[i].input_prompt_number == nbb_cell_id) {\n",
       "                        if (nbb_cells[i].get_text() == nbb_unformatted_code) {\n",
       "                             nbb_cells[i].set_text(nbb_formatted_code);\n",
       "                        }\n",
       "                        break;\n",
       "                    }\n",
       "                }\n",
       "            }, 500);\n",
       "            "
      ],
      "text/plain": [
       "<IPython.core.display.Javascript object>"
      ]
     },
     "metadata": {},
     "output_type": "display_data"
    }
   ],
   "source": [
    "means = np.array([])\n",
    "county = np.array([])\n",
    "\n",
    "for i in np.arange(42001, 42134, 2):\n",
    "    dd = df[df[\"fips\"] == i]\n",
    "    means = np.concatenate([means, np.mean(dd[\"cases\"])], axis=None)\n",
    "    county = np.concatenate([county, dd.drop_duplicates(subset=\"county\")[\"county\"]])\n",
    "\n",
    "\n",
    "dd = pd.DataFrame()\n",
    "dd[\"fips\"] = np.arange(42001, 42134, 2)\n",
    "dd[\"cases_mean\"] = means\n",
    "dd[\"county\"] = county"
   ]
  },
  {
   "cell_type": "code",
   "execution_count": 18,
   "id": "508719d5",
   "metadata": {},
   "outputs": [
    {
     "data": {
      "application/javascript": [
       "\n",
       "            setTimeout(function() {\n",
       "                var nbb_cell_id = 18;\n",
       "                var nbb_unformatted_code = \"pop = pd.read_excel(\\\"Penn age and sex.xlsx\\\", sheet_name=\\\"Sheet2\\\")\";\n",
       "                var nbb_formatted_code = \"pop = pd.read_excel(\\\"Penn age and sex.xlsx\\\", sheet_name=\\\"Sheet2\\\")\";\n",
       "                var nbb_cells = Jupyter.notebook.get_cells();\n",
       "                for (var i = 0; i < nbb_cells.length; ++i) {\n",
       "                    if (nbb_cells[i].input_prompt_number == nbb_cell_id) {\n",
       "                        if (nbb_cells[i].get_text() == nbb_unformatted_code) {\n",
       "                             nbb_cells[i].set_text(nbb_formatted_code);\n",
       "                        }\n",
       "                        break;\n",
       "                    }\n",
       "                }\n",
       "            }, 500);\n",
       "            "
      ],
      "text/plain": [
       "<IPython.core.display.Javascript object>"
      ]
     },
     "metadata": {},
     "output_type": "display_data"
    }
   ],
   "source": [
    "pop = pd.read_excel(\"Penn age and sex.xlsx\", sheet_name=\"Sheet2\")"
   ]
  },
  {
   "cell_type": "code",
   "execution_count": 5,
   "id": "1cf55c0b",
   "metadata": {},
   "outputs": [
    {
     "data": {
      "application/javascript": [
       "\n",
       "            setTimeout(function() {\n",
       "                var nbb_cell_id = 5;\n",
       "                var nbb_unformatted_code = \"unavailable = []\\ncounter = 0\\nfor i in county:\\n    counter = 0\\n    # print(i)\\n    for j in pop.columns:\\n        if f\\\"{i} County, Pennsylvania\\\" == j:\\n            counter = counter + 1\\n\\n        else:\\n            continue\\n    if counter == 0:\\n        unavailable.append(i)\";\n",
       "                var nbb_formatted_code = \"unavailable = []\\ncounter = 0\\nfor i in county:\\n    counter = 0\\n    # print(i)\\n    for j in pop.columns:\\n        if f\\\"{i} County, Pennsylvania\\\" == j:\\n            counter = counter + 1\\n\\n        else:\\n            continue\\n    if counter == 0:\\n        unavailable.append(i)\";\n",
       "                var nbb_cells = Jupyter.notebook.get_cells();\n",
       "                for (var i = 0; i < nbb_cells.length; ++i) {\n",
       "                    if (nbb_cells[i].input_prompt_number == nbb_cell_id) {\n",
       "                        if (nbb_cells[i].get_text() == nbb_unformatted_code) {\n",
       "                             nbb_cells[i].set_text(nbb_formatted_code);\n",
       "                        }\n",
       "                        break;\n",
       "                    }\n",
       "                }\n",
       "            }, 500);\n",
       "            "
      ],
      "text/plain": [
       "<IPython.core.display.Javascript object>"
      ]
     },
     "metadata": {},
     "output_type": "display_data"
    }
   ],
   "source": [
    "unavailable = []\n",
    "counter = 0\n",
    "for i in county:\n",
    "    counter = 0\n",
    "    # print(i)\n",
    "    for j in pop.columns:\n",
    "        if f\"{i} County, Pennsylvania\" == j:\n",
    "            counter = counter + 1\n",
    "\n",
    "        else:\n",
    "            continue\n",
    "    if counter == 0:\n",
    "        unavailable.append(i)"
   ]
  },
  {
   "cell_type": "code",
   "execution_count": 6,
   "id": "fffb1ee9",
   "metadata": {},
   "outputs": [
    {
     "name": "stdout",
     "output_type": "stream",
     "text": [
      "The counties without data: ['Bedford', 'Bradford', 'Cameron', 'Clarion', 'Clinton', 'Columbia', 'Elk', 'Forest', 'Fulton', 'Greene', 'Huntingdon', 'Jefferson', 'Juniata', 'McKean', 'Mifflin', 'Montour', 'Perry', 'Pike', 'Potter', 'Snyder', 'Sullivan', 'Susquehanna', 'Tioga', 'Union', 'Venango', 'Warren', 'Wayne', 'Wyoming']\n"
     ]
    },
    {
     "data": {
      "application/javascript": [
       "\n",
       "            setTimeout(function() {\n",
       "                var nbb_cell_id = 6;\n",
       "                var nbb_unformatted_code = \"print(\\\"The counties without data:\\\", unavailable)\";\n",
       "                var nbb_formatted_code = \"print(\\\"The counties without data:\\\", unavailable)\";\n",
       "                var nbb_cells = Jupyter.notebook.get_cells();\n",
       "                for (var i = 0; i < nbb_cells.length; ++i) {\n",
       "                    if (nbb_cells[i].input_prompt_number == nbb_cell_id) {\n",
       "                        if (nbb_cells[i].get_text() == nbb_unformatted_code) {\n",
       "                             nbb_cells[i].set_text(nbb_formatted_code);\n",
       "                        }\n",
       "                        break;\n",
       "                    }\n",
       "                }\n",
       "            }, 500);\n",
       "            "
      ],
      "text/plain": [
       "<IPython.core.display.Javascript object>"
      ]
     },
     "metadata": {},
     "output_type": "display_data"
    }
   ],
   "source": [
    "print(\"The counties without data:\", unavailable)"
   ]
  },
  {
   "cell_type": "code",
   "execution_count": 7,
   "id": "efac88ba",
   "metadata": {},
   "outputs": [
    {
     "data": {
      "application/javascript": [
       "\n",
       "            setTimeout(function() {\n",
       "                var nbb_cell_id = 7;\n",
       "                var nbb_unformatted_code = \"for i in unavailable:\\n    ddx = dd.where(dd[\\\"county\\\"] == i)\\n    dd = dd.drop(index=ddx.dropna().index[0])\";\n",
       "                var nbb_formatted_code = \"for i in unavailable:\\n    ddx = dd.where(dd[\\\"county\\\"] == i)\\n    dd = dd.drop(index=ddx.dropna().index[0])\";\n",
       "                var nbb_cells = Jupyter.notebook.get_cells();\n",
       "                for (var i = 0; i < nbb_cells.length; ++i) {\n",
       "                    if (nbb_cells[i].input_prompt_number == nbb_cell_id) {\n",
       "                        if (nbb_cells[i].get_text() == nbb_unformatted_code) {\n",
       "                             nbb_cells[i].set_text(nbb_formatted_code);\n",
       "                        }\n",
       "                        break;\n",
       "                    }\n",
       "                }\n",
       "            }, 500);\n",
       "            "
      ],
      "text/plain": [
       "<IPython.core.display.Javascript object>"
      ]
     },
     "metadata": {},
     "output_type": "display_data"
    }
   ],
   "source": [
    "for i in unavailable:\n",
    "    ddx = dd.where(dd[\"county\"] == i)\n",
    "    dd = dd.drop(index=ddx.dropna().index[0])"
   ]
  },
  {
   "cell_type": "code",
   "execution_count": 8,
   "id": "5a4430b7",
   "metadata": {},
   "outputs": [
    {
     "data": {
      "application/javascript": [
       "\n",
       "            setTimeout(function() {\n",
       "                var nbb_cell_id = 8;\n",
       "                var nbb_unformatted_code = \"a = np.array(pop.iloc[2])\\na = a[1:]\\ndd[\\\"total population\\\"] = a\";\n",
       "                var nbb_formatted_code = \"a = np.array(pop.iloc[2])\\na = a[1:]\\ndd[\\\"total population\\\"] = a\";\n",
       "                var nbb_cells = Jupyter.notebook.get_cells();\n",
       "                for (var i = 0; i < nbb_cells.length; ++i) {\n",
       "                    if (nbb_cells[i].input_prompt_number == nbb_cell_id) {\n",
       "                        if (nbb_cells[i].get_text() == nbb_unformatted_code) {\n",
       "                             nbb_cells[i].set_text(nbb_formatted_code);\n",
       "                        }\n",
       "                        break;\n",
       "                    }\n",
       "                }\n",
       "            }, 500);\n",
       "            "
      ],
      "text/plain": [
       "<IPython.core.display.Javascript object>"
      ]
     },
     "metadata": {},
     "output_type": "display_data"
    }
   ],
   "source": [
    "a = np.array(pop.iloc[2])\n",
    "a = a[1:]\n",
    "dd[\"total population\"] = a"
   ]
  },
  {
   "cell_type": "code",
   "execution_count": 9,
   "id": "9d302659",
   "metadata": {},
   "outputs": [
    {
     "data": {
      "application/javascript": [
       "\n",
       "            setTimeout(function() {\n",
       "                var nbb_cell_id = 9;\n",
       "                var nbb_unformatted_code = \"# orientation\\n\\ndd[\\\"percentage infected\\\"] = dd.apply(\\n    lambda x: x[\\\"cases_mean\\\"] / x[\\\"total population\\\"],\\n    axis=1,\\n)\";\n",
       "                var nbb_formatted_code = \"# orientation\\n\\ndd[\\\"percentage infected\\\"] = dd.apply(\\n    lambda x: x[\\\"cases_mean\\\"] / x[\\\"total population\\\"],\\n    axis=1,\\n)\";\n",
       "                var nbb_cells = Jupyter.notebook.get_cells();\n",
       "                for (var i = 0; i < nbb_cells.length; ++i) {\n",
       "                    if (nbb_cells[i].input_prompt_number == nbb_cell_id) {\n",
       "                        if (nbb_cells[i].get_text() == nbb_unformatted_code) {\n",
       "                             nbb_cells[i].set_text(nbb_formatted_code);\n",
       "                        }\n",
       "                        break;\n",
       "                    }\n",
       "                }\n",
       "            }, 500);\n",
       "            "
      ],
      "text/plain": [
       "<IPython.core.display.Javascript object>"
      ]
     },
     "metadata": {},
     "output_type": "display_data"
    }
   ],
   "source": [
    "# orientation\n",
    "\n",
    "dd[\"percentage infected\"] = dd.apply(\n",
    "    lambda x: x[\"cases_mean\"] / x[\"total population\"],\n",
    "    axis=1,\n",
    ")"
   ]
  },
  {
   "cell_type": "code",
   "execution_count": 10,
   "id": "812bc017",
   "metadata": {},
   "outputs": [
    {
     "data": {
      "text/plain": [
       "(array([1., 0., 1., 2., 1., 1., 1., 1., 3., 1., 2., 3., 3., 3., 4., 2., 5.,\n",
       "        1., 2., 2.]),\n",
       " array([0.2024849 , 0.20753852, 0.21259214, 0.21764576, 0.22269938,\n",
       "        0.227753  , 0.23280662, 0.23786024, 0.24291386, 0.24796748,\n",
       "        0.2530211 , 0.25807472, 0.26312834, 0.26818196, 0.27323558,\n",
       "        0.2782892 , 0.28334282, 0.28839644, 0.29345006, 0.29850368,\n",
       "        0.3035573 ]),\n",
       " <BarContainer object of 20 artists>)"
      ]
     },
     "execution_count": 10,
     "metadata": {},
     "output_type": "execute_result"
    },
    {
     "data": {
      "image/png": "[encoded data removed]",
      "text/plain": [
       "<Figure size 432x288 with 1 Axes>"
      ]
     },
     "metadata": {
      "needs_background": "light"
     },
     "output_type": "display_data"
    },
    {
     "data": {
      "application/javascript": [
       "\n",
       "            setTimeout(function() {\n",
       "                var nbb_cell_id = 10;\n",
       "                var nbb_unformatted_code = \"plt.hist(dd[\\\"percentage infected\\\"], bins=20)\";\n",
       "                var nbb_formatted_code = \"plt.hist(dd[\\\"percentage infected\\\"], bins=20)\";\n",
       "                var nbb_cells = Jupyter.notebook.get_cells();\n",
       "                for (var i = 0; i < nbb_cells.length; ++i) {\n",
       "                    if (nbb_cells[i].input_prompt_number == nbb_cell_id) {\n",
       "                        if (nbb_cells[i].get_text() == nbb_unformatted_code) {\n",
       "                             nbb_cells[i].set_text(nbb_formatted_code);\n",
       "                        }\n",
       "                        break;\n",
       "                    }\n",
       "                }\n",
       "            }, 500);\n",
       "            "
      ],
      "text/plain": [
       "<IPython.core.display.Javascript object>"
      ]
     },
     "metadata": {},
     "output_type": "display_data"
    }
   ],
   "source": [
    "plt.hist(dd[\"percentage infected\"], bins=20)"
   ]
  },
  {
   "cell_type": "markdown",
   "id": "ed75abd6",
   "metadata": {},
   "source": [
    "## FOR OHIO STATE"
   ]
  },
  {
   "cell_type": "code",
   "execution_count": 54,
   "id": "6be3a9c6",
   "metadata": {},
   "outputs": [
    {
     "data": {
      "application/javascript": [
       "\n",
       "            setTimeout(function() {\n",
       "                var nbb_cell_id = 54;\n",
       "                var nbb_unformatted_code = \"df2 = pd.read_csv(\\\"us-counties-recent.csv\\\")\\ndf2 = df2[df2[\\\"state\\\"] == \\\"Ohio\\\"]\";\n",
       "                var nbb_formatted_code = \"df2 = pd.read_csv(\\\"us-counties-recent.csv\\\")\\ndf2 = df2[df2[\\\"state\\\"] == \\\"Ohio\\\"]\";\n",
       "                var nbb_cells = Jupyter.notebook.get_cells();\n",
       "                for (var i = 0; i < nbb_cells.length; ++i) {\n",
       "                    if (nbb_cells[i].input_prompt_number == nbb_cell_id) {\n",
       "                        if (nbb_cells[i].get_text() == nbb_unformatted_code) {\n",
       "                             nbb_cells[i].set_text(nbb_formatted_code);\n",
       "                        }\n",
       "                        break;\n",
       "                    }\n",
       "                }\n",
       "            }, 500);\n",
       "            "
      ],
      "text/plain": [
       "<IPython.core.display.Javascript object>"
      ]
     },
     "metadata": {},
     "output_type": "display_data"
    }
   ],
   "source": [
    "df2 = pd.read_csv(\"us-counties-recent.csv\")\n",
    "df2 = df2[df2[\"state\"] == \"Ohio\"]"
   ]
  },
  {
   "cell_type": "code",
   "execution_count": 55,
   "id": "0388ed86",
   "metadata": {},
   "outputs": [
    {
     "data": {
      "application/javascript": [
       "\n",
       "            setTimeout(function() {\n",
       "                var nbb_cell_id = 55;\n",
       "                var nbb_unformatted_code = \"means2 = np.array([])\\ncounty2 = np.array([])\\n\\nfor i in np.arange(39001, 39176, 2):\\n    dd2 = df2[df2[\\\"fips\\\"] == i]\\n    means2 = np.concatenate([means2, np.mean(dd2[\\\"cases\\\"])], axis=None)\\n    county2 = np.concatenate([county2, dd2.drop_duplicates(subset=\\\"county\\\")[\\\"county\\\"]])\\n\\n\\ndd2 = pd.DataFrame()\\ndd2[\\\"fips\\\"] = np.arange(39001, 39176, 2)\\ndd2[\\\"cases_mean\\\"] = means2\\ndd2[\\\"county\\\"] = county2\";\n",
       "                var nbb_formatted_code = \"means2 = np.array([])\\ncounty2 = np.array([])\\n\\nfor i in np.arange(39001, 39176, 2):\\n    dd2 = df2[df2[\\\"fips\\\"] == i]\\n    means2 = np.concatenate([means2, np.mean(dd2[\\\"cases\\\"])], axis=None)\\n    county2 = np.concatenate([county2, dd2.drop_duplicates(subset=\\\"county\\\")[\\\"county\\\"]])\\n\\n\\ndd2 = pd.DataFrame()\\ndd2[\\\"fips\\\"] = np.arange(39001, 39176, 2)\\ndd2[\\\"cases_mean\\\"] = means2\\ndd2[\\\"county\\\"] = county2\";\n",
       "                var nbb_cells = Jupyter.notebook.get_cells();\n",
       "                for (var i = 0; i < nbb_cells.length; ++i) {\n",
       "                    if (nbb_cells[i].input_prompt_number == nbb_cell_id) {\n",
       "                        if (nbb_cells[i].get_text() == nbb_unformatted_code) {\n",
       "                             nbb_cells[i].set_text(nbb_formatted_code);\n",
       "                        }\n",
       "                        break;\n",
       "                    }\n",
       "                }\n",
       "            }, 500);\n",
       "            "
      ],
      "text/plain": [
       "<IPython.core.display.Javascript object>"
      ]
     },
     "metadata": {},
     "output_type": "display_data"
    }
   ],
   "source": [
    "means2 = np.array([])\n",
    "county2 = np.array([])\n",
    "\n",
    "for i in np.arange(39001, 39176, 2):\n",
    "    dd2 = df2[df2[\"fips\"] == i]\n",
    "    means2 = np.concatenate([means2, np.mean(dd2[\"cases\"])], axis=None)\n",
    "    county2 = np.concatenate([county2, dd2.drop_duplicates(subset=\"county\")[\"county\"]])\n",
    "\n",
    "\n",
    "dd2 = pd.DataFrame()\n",
    "dd2[\"fips\"] = np.arange(39001, 39176, 2)\n",
    "dd2[\"cases_mean\"] = means2\n",
    "dd2[\"county\"] = county2"
   ]
  },
  {
   "cell_type": "code",
   "execution_count": 56,
   "id": "fa995799",
   "metadata": {},
   "outputs": [
    {
     "data": {
      "text/html": [
       "<div>\n",
       "<style scoped>\n",
       "    .dataframe tbody tr th:only-of-type {\n",
       "        vertical-align: middle;\n",
       "    }\n",
       "\n",
       "    .dataframe tbody tr th {\n",
       "        vertical-align: top;\n",
       "    }\n",
       "\n",
       "    .dataframe thead th {\n",
       "        text-align: right;\n",
       "    }\n",
       "</style>\n",
       "<table border=\"1\" class=\"dataframe\">\n",
       "  <thead>\n",
       "    <tr style=\"text-align: right;\">\n",
       "      <th></th>\n",
       "      <th>fips</th>\n",
       "      <th>cases_mean</th>\n",
       "      <th>county</th>\n",
       "    </tr>\n",
       "  </thead>\n",
       "  <tbody>\n",
       "    <tr>\n",
       "      <th>0</th>\n",
       "      <td>39001</td>\n",
       "      <td>8281.161290</td>\n",
       "      <td>Adams</td>\n",
       "    </tr>\n",
       "    <tr>\n",
       "      <th>1</th>\n",
       "      <td>39003</td>\n",
       "      <td>31054.354839</td>\n",
       "      <td>Allen</td>\n",
       "    </tr>\n",
       "    <tr>\n",
       "      <th>2</th>\n",
       "      <td>39005</td>\n",
       "      <td>13933.483871</td>\n",
       "      <td>Ashland</td>\n",
       "    </tr>\n",
       "    <tr>\n",
       "      <th>3</th>\n",
       "      <td>39007</td>\n",
       "      <td>23628.387097</td>\n",
       "      <td>Ashtabula</td>\n",
       "    </tr>\n",
       "    <tr>\n",
       "      <th>4</th>\n",
       "      <td>39009</td>\n",
       "      <td>18458.096774</td>\n",
       "      <td>Athens</td>\n",
       "    </tr>\n",
       "    <tr>\n",
       "      <th>...</th>\n",
       "      <td>...</td>\n",
       "      <td>...</td>\n",
       "      <td>...</td>\n",
       "    </tr>\n",
       "    <tr>\n",
       "      <th>83</th>\n",
       "      <td>39167</td>\n",
       "      <td>14389.516129</td>\n",
       "      <td>Washington</td>\n",
       "    </tr>\n",
       "    <tr>\n",
       "      <th>84</th>\n",
       "      <td>39169</td>\n",
       "      <td>26642.000000</td>\n",
       "      <td>Wayne</td>\n",
       "    </tr>\n",
       "    <tr>\n",
       "      <th>85</th>\n",
       "      <td>39171</td>\n",
       "      <td>10673.903226</td>\n",
       "      <td>Williams</td>\n",
       "    </tr>\n",
       "    <tr>\n",
       "      <th>86</th>\n",
       "      <td>39173</td>\n",
       "      <td>36312.677419</td>\n",
       "      <td>Wood</td>\n",
       "    </tr>\n",
       "    <tr>\n",
       "      <th>87</th>\n",
       "      <td>39175</td>\n",
       "      <td>6175.677419</td>\n",
       "      <td>Wyandot</td>\n",
       "    </tr>\n",
       "  </tbody>\n",
       "</table>\n",
       "<p>88 rows × 3 columns</p>\n",
       "</div>"
      ],
      "text/plain": [
       "     fips    cases_mean      county\n",
       "0   39001   8281.161290       Adams\n",
       "1   39003  31054.354839       Allen\n",
       "2   39005  13933.483871     Ashland\n",
       "3   39007  23628.387097   Ashtabula\n",
       "4   39009  18458.096774      Athens\n",
       "..    ...           ...         ...\n",
       "83  39167  14389.516129  Washington\n",
       "84  39169  26642.000000       Wayne\n",
       "85  39171  10673.903226    Williams\n",
       "86  39173  36312.677419        Wood\n",
       "87  39175   6175.677419     Wyandot\n",
       "\n",
       "[88 rows x 3 columns]"
      ]
     },
     "execution_count": 56,
     "metadata": {},
     "output_type": "execute_result"
    },
    {
     "data": {
      "application/javascript": [
       "\n",
       "            setTimeout(function() {\n",
       "                var nbb_cell_id = 56;\n",
       "                var nbb_unformatted_code = \"dd2\";\n",
       "                var nbb_formatted_code = \"dd2\";\n",
       "                var nbb_cells = Jupyter.notebook.get_cells();\n",
       "                for (var i = 0; i < nbb_cells.length; ++i) {\n",
       "                    if (nbb_cells[i].input_prompt_number == nbb_cell_id) {\n",
       "                        if (nbb_cells[i].get_text() == nbb_unformatted_code) {\n",
       "                             nbb_cells[i].set_text(nbb_formatted_code);\n",
       "                        }\n",
       "                        break;\n",
       "                    }\n",
       "                }\n",
       "            }, 500);\n",
       "            "
      ],
      "text/plain": [
       "<IPython.core.display.Javascript object>"
      ]
     },
     "metadata": {},
     "output_type": "display_data"
    }
   ],
   "source": [
    "dd2"
   ]
  },
  {
   "cell_type": "code",
   "execution_count": 57,
   "id": "41878575",
   "metadata": {},
   "outputs": [
    {
     "data": {
      "application/javascript": [
       "\n",
       "            setTimeout(function() {\n",
       "                var nbb_cell_id = 57;\n",
       "                var nbb_unformatted_code = \"pop_ohio = pd.read_excel(\\\"Ohio age and sex.xlsx\\\", sheet_name=\\\"Data\\\")\";\n",
       "                var nbb_formatted_code = \"pop_ohio = pd.read_excel(\\\"Ohio age and sex.xlsx\\\", sheet_name=\\\"Data\\\")\";\n",
       "                var nbb_cells = Jupyter.notebook.get_cells();\n",
       "                for (var i = 0; i < nbb_cells.length; ++i) {\n",
       "                    if (nbb_cells[i].input_prompt_number == nbb_cell_id) {\n",
       "                        if (nbb_cells[i].get_text() == nbb_unformatted_code) {\n",
       "                             nbb_cells[i].set_text(nbb_formatted_code);\n",
       "                        }\n",
       "                        break;\n",
       "                    }\n",
       "                }\n",
       "            }, 500);\n",
       "            "
      ],
      "text/plain": [
       "<IPython.core.display.Javascript object>"
      ]
     },
     "metadata": {},
     "output_type": "display_data"
    }
   ],
   "source": [
    "pop_ohio = pd.read_excel(\"Ohio age and sex.xlsx\", sheet_name=\"Data\")\n"
   ]
  },
  {
   "cell_type": "code",
   "execution_count": 58,
   "id": "ce29a70b",
   "metadata": {},
   "outputs": [
    {
     "data": {
      "application/javascript": [
       "\n",
       "            setTimeout(function() {\n",
       "                var nbb_cell_id = 58;\n",
       "                var nbb_unformatted_code = \"for i in np.arange(2, 148, 1):\\n    if (i - 1) % 4 == 0:\\n        continue\\n    else:\\n        pop_ohio = pop_ohio.drop(columns=[f\\\"Unnamed: {i}\\\"])\";\n",
       "                var nbb_formatted_code = \"for i in np.arange(2, 148, 1):\\n    if (i - 1) % 4 == 0:\\n        continue\\n    else:\\n        pop_ohio = pop_ohio.drop(columns=[f\\\"Unnamed: {i}\\\"])\";\n",
       "                var nbb_cells = Jupyter.notebook.get_cells();\n",
       "                for (var i = 0; i < nbb_cells.length; ++i) {\n",
       "                    if (nbb_cells[i].input_prompt_number == nbb_cell_id) {\n",
       "                        if (nbb_cells[i].get_text() == nbb_unformatted_code) {\n",
       "                             nbb_cells[i].set_text(nbb_formatted_code);\n",
       "                        }\n",
       "                        break;\n",
       "                    }\n",
       "                }\n",
       "            }, 500);\n",
       "            "
      ],
      "text/plain": [
       "<IPython.core.display.Javascript object>"
      ]
     },
     "metadata": {},
     "output_type": "display_data"
    }
   ],
   "source": [
    "for i in np.arange(2, 148, 1):\n",
    "    if (i - 1) % 4 == 0:\n",
    "        continue\n",
    "    else:\n",
    "        pop_ohio = pop_ohio.drop(columns=[f\"Unnamed: {i}\"])"
   ]
  },
  {
   "cell_type": "code",
   "execution_count": 64,
   "id": "85b63787",
   "metadata": {},
   "outputs": [
    {
     "data": {
      "application/javascript": [
       "\n",
       "            setTimeout(function() {\n",
       "                var nbb_cell_id = 64;\n",
       "                var nbb_unformatted_code = \"unavailable_ohio = []\\ncounter = 0\\nfor i in county2:\\n    counter = 0\\n    # print(i)\\n    for j in pop_ohio.columns:\\n        if f\\\"{i} County, Ohio\\\" == j:\\n            counter = counter + 1\\n\\n        else:\\n            continue\\n    if counter == 0:\\n        unavailable_ohio.append(i)\";\n",
       "                var nbb_formatted_code = \"unavailable_ohio = []\\ncounter = 0\\nfor i in county2:\\n    counter = 0\\n    # print(i)\\n    for j in pop_ohio.columns:\\n        if f\\\"{i} County, Ohio\\\" == j:\\n            counter = counter + 1\\n\\n        else:\\n            continue\\n    if counter == 0:\\n        unavailable_ohio.append(i)\";\n",
       "                var nbb_cells = Jupyter.notebook.get_cells();\n",
       "                for (var i = 0; i < nbb_cells.length; ++i) {\n",
       "                    if (nbb_cells[i].input_prompt_number == nbb_cell_id) {\n",
       "                        if (nbb_cells[i].get_text() == nbb_unformatted_code) {\n",
       "                             nbb_cells[i].set_text(nbb_formatted_code);\n",
       "                        }\n",
       "                        break;\n",
       "                    }\n",
       "                }\n",
       "            }, 500);\n",
       "            "
      ],
      "text/plain": [
       "<IPython.core.display.Javascript object>"
      ]
     },
     "metadata": {},
     "output_type": "display_data"
    }
   ],
   "source": [
    "unavailable_ohio = []\n",
    "counter = 0\n",
    "for i in county2:\n",
    "    counter = 0\n",
    "    # print(i)\n",
    "    for j in pop_ohio.columns:\n",
    "        if f\"{i} County, Ohio\" == j:\n",
    "            counter = counter + 1\n",
    "\n",
    "        else:\n",
    "            continue\n",
    "    if counter == 0:\n",
    "        unavailable_ohio.append(i)\n"
   ]
  },
  {
   "cell_type": "code",
   "execution_count": 61,
   "id": "8d74b203",
   "metadata": {},
   "outputs": [
    {
     "data": {
      "application/javascript": [
       "\n",
       "            setTimeout(function() {\n",
       "                var nbb_cell_id = 61;\n",
       "                var nbb_unformatted_code = \"for i in unavailable_ohio:\\n    ddx = dd2.where(dd2[\\\"county\\\"] == i)\\n    dd2 = dd2.drop(index=ddx.dropna().index[0])\";\n",
       "                var nbb_formatted_code = \"for i in unavailable_ohio:\\n    ddx = dd2.where(dd2[\\\"county\\\"] == i)\\n    dd2 = dd2.drop(index=ddx.dropna().index[0])\";\n",
       "                var nbb_cells = Jupyter.notebook.get_cells();\n",
       "                for (var i = 0; i < nbb_cells.length; ++i) {\n",
       "                    if (nbb_cells[i].input_prompt_number == nbb_cell_id) {\n",
       "                        if (nbb_cells[i].get_text() == nbb_unformatted_code) {\n",
       "                             nbb_cells[i].set_text(nbb_formatted_code);\n",
       "                        }\n",
       "                        break;\n",
       "                    }\n",
       "                }\n",
       "            }, 500);\n",
       "            "
      ],
      "text/plain": [
       "<IPython.core.display.Javascript object>"
      ]
     },
     "metadata": {},
     "output_type": "display_data"
    }
   ],
   "source": [
    "for i in unavailable_ohio:\n",
    "    ddx = dd2.where(dd2[\"county\"] == i)\n",
    "    dd2 = dd2.drop(index=ddx.dropna().index[0])"
   ]
  },
  {
   "cell_type": "code",
   "execution_count": 69,
   "id": "36643807",
   "metadata": {},
   "outputs": [
    {
     "data": {
      "application/javascript": [
       "\n",
       "            setTimeout(function() {\n",
       "                var nbb_cell_id = 69;\n",
       "                var nbb_unformatted_code = \"aa = np.array(pop_ohio.iloc[2])\\naa = aa[1:]\\n# dd2[\\\"total population\\\"] = a\\n\\naa = aa[:-1]\\ndd2[\\\"total population\\\"] = aa\";\n",
       "                var nbb_formatted_code = \"aa = np.array(pop_ohio.iloc[2])\\naa = aa[1:]\\n# dd2[\\\"total population\\\"] = a\\n\\naa = aa[:-1]\\ndd2[\\\"total population\\\"] = aa\";\n",
       "                var nbb_cells = Jupyter.notebook.get_cells();\n",
       "                for (var i = 0; i < nbb_cells.length; ++i) {\n",
       "                    if (nbb_cells[i].input_prompt_number == nbb_cell_id) {\n",
       "                        if (nbb_cells[i].get_text() == nbb_unformatted_code) {\n",
       "                             nbb_cells[i].set_text(nbb_formatted_code);\n",
       "                        }\n",
       "                        break;\n",
       "                    }\n",
       "                }\n",
       "            }, 500);\n",
       "            "
      ],
      "text/plain": [
       "<IPython.core.display.Javascript object>"
      ]
     },
     "metadata": {},
     "output_type": "display_data"
    }
   ],
   "source": [
    "aa = np.array(pop_ohio.iloc[2])\n",
    "aa = aa[1:]\n",
    "aa = aa[:-1]\n",
    "dd2[\"total population\"] = aa"
   ]
  },
  {
   "cell_type": "code",
   "execution_count": 70,
   "id": "4980bed2",
   "metadata": {},
   "outputs": [
    {
     "data": {
      "application/javascript": [
       "\n",
       "            setTimeout(function() {\n",
       "                var nbb_cell_id = 70;\n",
       "                var nbb_unformatted_code = \"# orientation\\n\\ndd2[\\\"percentage infected\\\"] = dd2.apply(\\n    lambda x: x[\\\"cases_mean\\\"] / x[\\\"total population\\\"],\\n    axis=1,\\n)\";\n",
       "                var nbb_formatted_code = \"# orientation\\n\\ndd2[\\\"percentage infected\\\"] = dd2.apply(\\n    lambda x: x[\\\"cases_mean\\\"] / x[\\\"total population\\\"],\\n    axis=1,\\n)\";\n",
       "                var nbb_cells = Jupyter.notebook.get_cells();\n",
       "                for (var i = 0; i < nbb_cells.length; ++i) {\n",
       "                    if (nbb_cells[i].input_prompt_number == nbb_cell_id) {\n",
       "                        if (nbb_cells[i].get_text() == nbb_unformatted_code) {\n",
       "                             nbb_cells[i].set_text(nbb_formatted_code);\n",
       "                        }\n",
       "                        break;\n",
       "                    }\n",
       "                }\n",
       "            }, 500);\n",
       "            "
      ],
      "text/plain": [
       "<IPython.core.display.Javascript object>"
      ]
     },
     "metadata": {},
     "output_type": "display_data"
    }
   ],
   "source": [
    "# orientation\n",
    "\n",
    "dd2[\"percentage infected\"] = dd2.apply(\n",
    "    lambda x: x[\"cases_mean\"] / x[\"total population\"],\n",
    "    axis=1,\n",
    ")"
   ]
  },
  {
   "cell_type": "code",
   "execution_count": 71,
   "id": "41e64b95",
   "metadata": {},
   "outputs": [
    {
     "data": {
      "text/plain": [
       "Text(0.5, 1.0, 'Distribution of the %population infected by covid of counties')"
      ]
     },
     "execution_count": 71,
     "metadata": {},
     "output_type": "execute_result"
    },
    {
     "data": {
      "image/png": "[encoded data removed]",
      "text/plain": [
       "<Figure size 432x288 with 1 Axes>"
      ]
     },
     "metadata": {
      "needs_background": "light"
     },
     "output_type": "display_data"
    },
    {
     "data": {
      "application/javascript": [
       "\n",
       "            setTimeout(function() {\n",
       "                var nbb_cell_id = 71;\n",
       "                var nbb_unformatted_code = \"sns.kdeplot(dd2[\\\"percentage infected\\\"])\\nplt.title(\\\"Distribution of the %population infected by covid of counties\\\")\";\n",
       "                var nbb_formatted_code = \"sns.kdeplot(dd2[\\\"percentage infected\\\"])\\nplt.title(\\\"Distribution of the %population infected by covid of counties\\\")\";\n",
       "                var nbb_cells = Jupyter.notebook.get_cells();\n",
       "                for (var i = 0; i < nbb_cells.length; ++i) {\n",
       "                    if (nbb_cells[i].input_prompt_number == nbb_cell_id) {\n",
       "                        if (nbb_cells[i].get_text() == nbb_unformatted_code) {\n",
       "                             nbb_cells[i].set_text(nbb_formatted_code);\n",
       "                        }\n",
       "                        break;\n",
       "                    }\n",
       "                }\n",
       "            }, 500);\n",
       "            "
      ],
      "text/plain": [
       "<IPython.core.display.Javascript object>"
      ]
     },
     "metadata": {},
     "output_type": "display_data"
    }
   ],
   "source": [
    "sns.kdeplot(dd2[\"percentage infected\"])\n",
    "plt.title(\"Distribution of the %population infected by covid of counties\")"
   ]
  },
  {
   "cell_type": "markdown",
   "id": "3fe60fe6",
   "metadata": {},
   "source": [
    "## New Jersey"
   ]
  },
  {
   "cell_type": "code",
   "execution_count": 73,
   "id": "b46898f4",
   "metadata": {},
   "outputs": [
    {
     "data": {
      "application/javascript": [
       "\n",
       "            setTimeout(function() {\n",
       "                var nbb_cell_id = 73;\n",
       "                var nbb_unformatted_code = \"df3 = pd.read_csv(\\\"us-counties-recent.csv\\\")\\ndf3 = df3[df3[\\\"state\\\"] == \\\"New Jersey\\\"]\";\n",
       "                var nbb_formatted_code = \"df3 = pd.read_csv(\\\"us-counties-recent.csv\\\")\\ndf3 = df3[df3[\\\"state\\\"] == \\\"New Jersey\\\"]\";\n",
       "                var nbb_cells = Jupyter.notebook.get_cells();\n",
       "                for (var i = 0; i < nbb_cells.length; ++i) {\n",
       "                    if (nbb_cells[i].input_prompt_number == nbb_cell_id) {\n",
       "                        if (nbb_cells[i].get_text() == nbb_unformatted_code) {\n",
       "                             nbb_cells[i].set_text(nbb_formatted_code);\n",
       "                        }\n",
       "                        break;\n",
       "                    }\n",
       "                }\n",
       "            }, 500);\n",
       "            "
      ],
      "text/plain": [
       "<IPython.core.display.Javascript object>"
      ]
     },
     "metadata": {},
     "output_type": "display_data"
    }
   ],
   "source": [
    "df3 = pd.read_csv(\"us-counties-recent.csv\")\n",
    "df3 = df3[df3[\"state\"] == \"New Jersey\"]"
   ]
  },
  {
   "cell_type": "code",
   "execution_count": 79,
   "id": "56227c12",
   "metadata": {},
   "outputs": [
    {
     "data": {
      "application/javascript": [
       "\n",
       "            setTimeout(function() {\n",
       "                var nbb_cell_id = 79;\n",
       "                var nbb_unformatted_code = \"means3 = np.array([])\\ncounty3 = np.array([])\\n\\nfor i in np.arange(34001, 34042, 2):\\n    dd3 = df3[df3[\\\"fips\\\"] == i]\\n    means3 = np.concatenate([means3, np.mean(dd3[\\\"cases\\\"])], axis=None)\\n    county3 = np.concatenate([county3, dd3.drop_duplicates(subset=\\\"county\\\")[\\\"county\\\"]])\\n\\n\\ndd3 = pd.DataFrame()\\ndd3[\\\"fips\\\"] = np.arange(34001, 34042, 2)\\ndd3[\\\"cases_mean\\\"] = means3\\ndd3[\\\"county\\\"] = county3\";\n",
       "                var nbb_formatted_code = \"means3 = np.array([])\\ncounty3 = np.array([])\\n\\nfor i in np.arange(34001, 34042, 2):\\n    dd3 = df3[df3[\\\"fips\\\"] == i]\\n    means3 = np.concatenate([means3, np.mean(dd3[\\\"cases\\\"])], axis=None)\\n    county3 = np.concatenate([county3, dd3.drop_duplicates(subset=\\\"county\\\")[\\\"county\\\"]])\\n\\n\\ndd3 = pd.DataFrame()\\ndd3[\\\"fips\\\"] = np.arange(34001, 34042, 2)\\ndd3[\\\"cases_mean\\\"] = means3\\ndd3[\\\"county\\\"] = county3\";\n",
       "                var nbb_cells = Jupyter.notebook.get_cells();\n",
       "                for (var i = 0; i < nbb_cells.length; ++i) {\n",
       "                    if (nbb_cells[i].input_prompt_number == nbb_cell_id) {\n",
       "                        if (nbb_cells[i].get_text() == nbb_unformatted_code) {\n",
       "                             nbb_cells[i].set_text(nbb_formatted_code);\n",
       "                        }\n",
       "                        break;\n",
       "                    }\n",
       "                }\n",
       "            }, 500);\n",
       "            "
      ],
      "text/plain": [
       "<IPython.core.display.Javascript object>"
      ]
     },
     "metadata": {},
     "output_type": "display_data"
    }
   ],
   "source": [
    "means3 = np.array([])\n",
    "county3 = np.array([])\n",
    "\n",
    "for i in np.arange(34001, 34042, 2):\n",
    "    dd3 = df3[df3[\"fips\"] == i]\n",
    "    means3 = np.concatenate([means3, np.mean(dd3[\"cases\"])], axis=None)\n",
    "    county3 = np.concatenate([county3, dd3.drop_duplicates(subset=\"county\")[\"county\"]])\n",
    "\n",
    "\n",
    "dd3 = pd.DataFrame()\n",
    "dd3[\"fips\"] = np.arange(34001, 34042, 2)\n",
    "dd3[\"cases_mean\"] = means3\n",
    "dd3[\"county\"] = county3"
   ]
  },
  {
   "cell_type": "code",
   "execution_count": 99,
   "id": "caf4c28e",
   "metadata": {},
   "outputs": [
    {
     "data": {
      "application/javascript": [
       "\n",
       "            setTimeout(function() {\n",
       "                var nbb_cell_id = 99;\n",
       "                var nbb_unformatted_code = \"pop_New_Jersey = pd.read_excel(\\\"New Jersey age and sex.xlsx\\\", sheet_name=\\\"Data\\\")\\n\\nfor i in np.arange(2, 84, 1):\\n    if (i - 1) % 4 == 0:\\n        continue\\n    else:\\n        pop_New_Jersey = pop_New_Jersey.drop(columns=[f\\\"Unnamed: {i}\\\"])\";\n",
       "                var nbb_formatted_code = \"pop_New_Jersey = pd.read_excel(\\\"New Jersey age and sex.xlsx\\\", sheet_name=\\\"Data\\\")\\n\\nfor i in np.arange(2, 84, 1):\\n    if (i - 1) % 4 == 0:\\n        continue\\n    else:\\n        pop_New_Jersey = pop_New_Jersey.drop(columns=[f\\\"Unnamed: {i}\\\"])\";\n",
       "                var nbb_cells = Jupyter.notebook.get_cells();\n",
       "                for (var i = 0; i < nbb_cells.length; ++i) {\n",
       "                    if (nbb_cells[i].input_prompt_number == nbb_cell_id) {\n",
       "                        if (nbb_cells[i].get_text() == nbb_unformatted_code) {\n",
       "                             nbb_cells[i].set_text(nbb_formatted_code);\n",
       "                        }\n",
       "                        break;\n",
       "                    }\n",
       "                }\n",
       "            }, 500);\n",
       "            "
      ],
      "text/plain": [
       "<IPython.core.display.Javascript object>"
      ]
     },
     "metadata": {},
     "output_type": "display_data"
    }
   ],
   "source": [
    "pop_New_Jersey = pd.read_excel(\"New Jersey age and sex.xlsx\", sheet_name=\"Data\")\n",
    "\n",
    "for i in np.arange(2, 84, 1):\n",
    "    if (i - 1) % 4 == 0:\n",
    "        continue\n",
    "    else:\n",
    "        pop_New_Jersey = pop_New_Jersey.drop(columns=[f\"Unnamed: {i}\"])\n"
   ]
  },
  {
   "cell_type": "code",
   "execution_count": 98,
   "id": "b9cb0c0a",
   "metadata": {},
   "outputs": [
    {
     "data": {
      "application/javascript": [
       "\n",
       "            setTimeout(function() {\n",
       "                var nbb_cell_id = 98;\n",
       "                var nbb_unformatted_code = \"aaa = np.array(pop_New_Jersey.iloc[2])\\naaa = aaa[1:]\\naaa = aaa[:-1]\\ndd3[\\\"total population\\\"] = aaa\\n\\n# orientation\\n\\ndd3[\\\"percentage infected\\\"] = dd3.apply(\\n    lambda x: x[\\\"cases_mean\\\"] / x[\\\"total population\\\"],\\n    axis=1,\\n)\";\n",
       "                var nbb_formatted_code = \"aaa = np.array(pop_New_Jersey.iloc[2])\\naaa = aaa[1:]\\naaa = aaa[:-1]\\ndd3[\\\"total population\\\"] = aaa\\n\\n# orientation\\n\\ndd3[\\\"percentage infected\\\"] = dd3.apply(\\n    lambda x: x[\\\"cases_mean\\\"] / x[\\\"total population\\\"],\\n    axis=1,\\n)\";\n",
       "                var nbb_cells = Jupyter.notebook.get_cells();\n",
       "                for (var i = 0; i < nbb_cells.length; ++i) {\n",
       "                    if (nbb_cells[i].input_prompt_number == nbb_cell_id) {\n",
       "                        if (nbb_cells[i].get_text() == nbb_unformatted_code) {\n",
       "                             nbb_cells[i].set_text(nbb_formatted_code);\n",
       "                        }\n",
       "                        break;\n",
       "                    }\n",
       "                }\n",
       "            }, 500);\n",
       "            "
      ],
      "text/plain": [
       "<IPython.core.display.Javascript object>"
      ]
     },
     "metadata": {},
     "output_type": "display_data"
    }
   ],
   "source": [
    "aaa = np.array(pop_New_Jersey.iloc[2])\n",
    "aaa = aaa[1:]\n",
    "aaa = aaa[:-1]\n",
    "dd3[\"total population\"] = aaa\n",
    "\n",
    "# orientation\n",
    "\n",
    "dd3[\"percentage infected\"] = dd3.apply(\n",
    "    lambda x: x[\"cases_mean\"] / x[\"total population\"],\n",
    "    axis=1,\n",
    ")"
   ]
  },
  {
   "cell_type": "code",
   "execution_count": null,
   "id": "f5da6a5a",
   "metadata": {},
   "outputs": [],
   "source": []
  },
  {
   "cell_type": "code",
   "execution_count": null,
   "id": "a3912d75",
   "metadata": {},
   "outputs": [],
   "source": []
  }
 ],
 "metadata": {
  "kernelspec": {
   "display_name": "Python 3 (ipykernel)",
   "language": "python",
   "name": "python3"
  },
  "language_info": {
   "codemirror_mode": {
    "name": "ipython",
    "version": 3
   },
   "file_extension": ".py",
   "mimetype": "text/x-python",
   "name": "python",
   "nbconvert_exporter": "python",
   "pygments_lexer": "ipython3",
   "version": "3.10.6"
  }
 },
 "nbformat": 4,
 "nbformat_minor": 5
}
