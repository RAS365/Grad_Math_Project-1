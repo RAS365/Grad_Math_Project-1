{
 "cells": [
  {
   "cell_type": "markdown",
   "id": "a9c1eb5a",
   "metadata": {},
   "source": [
    "# Project topic-\n",
    "\n",
    "### The relation between covid infection rates and the political orientation of the population and their level of education.\n",
    "\n",
    "$y$ = infection rates\n",
    "\n",
    "$x_1$ = political orientation\n",
    "\n",
    "$x_2$ = level of education\n",
    "\n",
    "- potentially useful variable to add more context: The field of the people's education,i.e., a degree in arts vs a degree in chem e"
   ]
  },
  {
   "cell_type": "code",
   "execution_count": 1,
   "id": "646670a0",
   "metadata": {},
   "outputs": [
    {
     "data": {
      "application/javascript": [
       "\n",
       "            setTimeout(function() {\n",
       "                var nbb_cell_id = 1;\n",
       "                var nbb_unformatted_code = \"import numpy as np\\nimport matplotlib.pyplot as plt\\n\\n# import scipy.optimize as sciopt\\nimport pandas as pd\\nfrom scipy import stats\\n\\n# import scipy.integrate as scint\\nimport statsmodels.api as sm\\nimport seaborn as sns\\n\\n%load_ext nb_black\";\n",
       "                var nbb_formatted_code = \"import numpy as np\\nimport matplotlib.pyplot as plt\\n\\n# import scipy.optimize as sciopt\\nimport pandas as pd\\nfrom scipy import stats\\n\\n# import scipy.integrate as scint\\nimport statsmodels.api as sm\\nimport seaborn as sns\\n\\n%load_ext nb_black\";\n",
       "                var nbb_cells = Jupyter.notebook.get_cells();\n",
       "                for (var i = 0; i < nbb_cells.length; ++i) {\n",
       "                    if (nbb_cells[i].input_prompt_number == nbb_cell_id) {\n",
       "                        if (nbb_cells[i].get_text() == nbb_unformatted_code) {\n",
       "                             nbb_cells[i].set_text(nbb_formatted_code);\n",
       "                        }\n",
       "                        break;\n",
       "                    }\n",
       "                }\n",
       "            }, 500);\n",
       "            "
      ],
      "text/plain": [
       "<IPython.core.display.Javascript object>"
      ]
     },
     "metadata": {},
     "output_type": "display_data"
    }
   ],
   "source": [
    "import numpy as np\n",
    "import matplotlib.pyplot as plt\n",
    "\n",
    "# import scipy.optimize as sciopt\n",
    "import pandas as pd\n",
    "from scipy import stats\n",
    "\n",
    "# import scipy.integrate as scint\n",
    "import statsmodels.api as sm\n",
    "import seaborn as sns\n",
    "\n",
    "%load_ext nb_black"
   ]
  },
  {
   "cell_type": "markdown",
   "id": "ace86ecc",
   "metadata": {},
   "source": [
    "# The following code block deals with getting the COVID INFECTION DATA\n",
    "\n",
    "Since the data is over a time period, we take the average number of cases over that time period as an indicator of the covid infection rate. We then convert that into the percentage of population infected to normalize the infection rate with a county's population.\n"
   ]
  },
  {
   "cell_type": "code",
   "execution_count": 2,
   "id": "e1a5524d",
   "metadata": {},
   "outputs": [
    {
     "data": {
      "application/javascript": [
       "\n",
       "            setTimeout(function() {\n",
       "                var nbb_cell_id = 2;\n",
       "                var nbb_unformatted_code = \"# Reading from a CSV file\\n\\ndf = pd.read_csv(\\\"us-counties-recent.csv\\\")\\ndf = df[df[\\\"state\\\"] == \\\"Pennsylvania\\\"]\";\n",
       "                var nbb_formatted_code = \"# Reading from a CSV file\\n\\ndf = pd.read_csv(\\\"us-counties-recent.csv\\\")\\ndf = df[df[\\\"state\\\"] == \\\"Pennsylvania\\\"]\";\n",
       "                var nbb_cells = Jupyter.notebook.get_cells();\n",
       "                for (var i = 0; i < nbb_cells.length; ++i) {\n",
       "                    if (nbb_cells[i].input_prompt_number == nbb_cell_id) {\n",
       "                        if (nbb_cells[i].get_text() == nbb_unformatted_code) {\n",
       "                             nbb_cells[i].set_text(nbb_formatted_code);\n",
       "                        }\n",
       "                        break;\n",
       "                    }\n",
       "                }\n",
       "            }, 500);\n",
       "            "
      ],
      "text/plain": [
       "<IPython.core.display.Javascript object>"
      ]
     },
     "metadata": {},
     "output_type": "display_data"
    }
   ],
   "source": [
    "# Reading from a CSV file\n",
    "\n",
    "df = pd.read_csv(\"us-counties-recent.csv\")\n",
    "df = df[df[\"state\"] == \"Pennsylvania\"]"
   ]
  },
  {
   "cell_type": "code",
   "execution_count": 3,
   "id": "edf2c424",
   "metadata": {},
   "outputs": [
    {
     "data": {
      "application/javascript": [
       "\n",
       "            setTimeout(function() {\n",
       "                var nbb_cell_id = 3;\n",
       "                var nbb_unformatted_code = \"# Creating a new dataframe containing all the relevant data\\nmeans = np.array([])\\ncounty = np.array([])\\n\\n\\nfor i in np.arange(42001, 42134, 2):\\n    dd = df[df[\\\"fips\\\"] == i]\\n    means = np.concatenate([means, np.mean(dd[\\\"cases\\\"])], axis=None)\\n    county = np.concatenate([county, dd.drop_duplicates(subset=\\\"county\\\")[\\\"county\\\"]])\\n\\n\\ncovid = pd.DataFrame()\\ncovid[\\\"fips\\\"] = np.arange(42001, 42134, 2)\\ncovid[\\\"cases_mean\\\"] = means\\ncovid[\\\"county\\\"] = county\";\n",
       "                var nbb_formatted_code = \"# Creating a new dataframe containing all the relevant data\\nmeans = np.array([])\\ncounty = np.array([])\\n\\n\\nfor i in np.arange(42001, 42134, 2):\\n    dd = df[df[\\\"fips\\\"] == i]\\n    means = np.concatenate([means, np.mean(dd[\\\"cases\\\"])], axis=None)\\n    county = np.concatenate([county, dd.drop_duplicates(subset=\\\"county\\\")[\\\"county\\\"]])\\n\\n\\ncovid = pd.DataFrame()\\ncovid[\\\"fips\\\"] = np.arange(42001, 42134, 2)\\ncovid[\\\"cases_mean\\\"] = means\\ncovid[\\\"county\\\"] = county\";\n",
       "                var nbb_cells = Jupyter.notebook.get_cells();\n",
       "                for (var i = 0; i < nbb_cells.length; ++i) {\n",
       "                    if (nbb_cells[i].input_prompt_number == nbb_cell_id) {\n",
       "                        if (nbb_cells[i].get_text() == nbb_unformatted_code) {\n",
       "                             nbb_cells[i].set_text(nbb_formatted_code);\n",
       "                        }\n",
       "                        break;\n",
       "                    }\n",
       "                }\n",
       "            }, 500);\n",
       "            "
      ],
      "text/plain": [
       "<IPython.core.display.Javascript object>"
      ]
     },
     "metadata": {},
     "output_type": "display_data"
    }
   ],
   "source": [
    "# Creating a new dataframe containing all the relevant data\n",
    "means = np.array([])\n",
    "county = np.array([])\n",
    "\n",
    "\n",
    "for i in np.arange(42001, 42134, 2):\n",
    "    dd = df[df[\"fips\"] == i]\n",
    "    means = np.concatenate([means, np.mean(dd[\"cases\"])], axis=None)\n",
    "    county = np.concatenate([county, dd.drop_duplicates(subset=\"county\")[\"county\"]])\n",
    "\n",
    "\n",
    "covid = pd.DataFrame()\n",
    "covid[\"fips\"] = np.arange(42001, 42134, 2)\n",
    "covid[\"cases_mean\"] = means\n",
    "covid[\"county\"] = county"
   ]
  },
  {
   "cell_type": "code",
   "execution_count": 4,
   "id": "18ac372a",
   "metadata": {},
   "outputs": [
    {
     "data": {
      "application/javascript": [
       "\n",
       "            setTimeout(function() {\n",
       "                var nbb_cell_id = 4;\n",
       "                var nbb_unformatted_code = \"#Similar method is followed for Ohio state data\\n\\ndf2 = pd.read_csv(\\\"us-counties-recent.csv\\\")\\ndf2 = df2[df2[\\\"state\\\"] == \\\"Ohio\\\"]\\n\\nmeans2 = np.array([])\\ncounty2 = np.array([])\\n\\nfor i in np.arange(39001, 39176, 2):\\n    dd2 = df2[df2[\\\"fips\\\"] == i]\\n    means2 = np.concatenate([means2, np.mean(dd2[\\\"cases\\\"])], axis=None)\\n    county2 = np.concatenate([county2, dd2.drop_duplicates(subset=\\\"county\\\")[\\\"county\\\"]])\\n\\n\\ndd2 = pd.DataFrame()\\ndd2[\\\"fips\\\"] = np.arange(39001, 39176, 2)\\ndd2[\\\"cases_mean\\\"] = means2\\ndd2[\\\"county\\\"] = county2\";\n",
       "                var nbb_formatted_code = \"# Similar method is followed for Ohio state data\\n\\ndf2 = pd.read_csv(\\\"us-counties-recent.csv\\\")\\ndf2 = df2[df2[\\\"state\\\"] == \\\"Ohio\\\"]\\n\\nmeans2 = np.array([])\\ncounty2 = np.array([])\\n\\nfor i in np.arange(39001, 39176, 2):\\n    dd2 = df2[df2[\\\"fips\\\"] == i]\\n    means2 = np.concatenate([means2, np.mean(dd2[\\\"cases\\\"])], axis=None)\\n    county2 = np.concatenate([county2, dd2.drop_duplicates(subset=\\\"county\\\")[\\\"county\\\"]])\\n\\n\\ndd2 = pd.DataFrame()\\ndd2[\\\"fips\\\"] = np.arange(39001, 39176, 2)\\ndd2[\\\"cases_mean\\\"] = means2\\ndd2[\\\"county\\\"] = county2\";\n",
       "                var nbb_cells = Jupyter.notebook.get_cells();\n",
       "                for (var i = 0; i < nbb_cells.length; ++i) {\n",
       "                    if (nbb_cells[i].input_prompt_number == nbb_cell_id) {\n",
       "                        if (nbb_cells[i].get_text() == nbb_unformatted_code) {\n",
       "                             nbb_cells[i].set_text(nbb_formatted_code);\n",
       "                        }\n",
       "                        break;\n",
       "                    }\n",
       "                }\n",
       "            }, 500);\n",
       "            "
      ],
      "text/plain": [
       "<IPython.core.display.Javascript object>"
      ]
     },
     "metadata": {},
     "output_type": "display_data"
    }
   ],
   "source": [
    "#Similar method is followed for Ohio state data\n",
    "\n",
    "df2 = pd.read_csv(\"us-counties-recent.csv\")\n",
    "df2 = df2[df2[\"state\"] == \"Ohio\"]\n",
    "\n",
    "means2 = np.array([])\n",
    "county2 = np.array([])\n",
    "\n",
    "for i in np.arange(39001, 39176, 2):\n",
    "    dd2 = df2[df2[\"fips\"] == i]\n",
    "    means2 = np.concatenate([means2, np.mean(dd2[\"cases\"])], axis=None)\n",
    "    county2 = np.concatenate([county2, dd2.drop_duplicates(subset=\"county\")[\"county\"]])\n",
    "\n",
    "\n",
    "dd2 = pd.DataFrame()\n",
    "dd2[\"fips\"] = np.arange(39001, 39176, 2)\n",
    "dd2[\"cases_mean\"] = means2\n",
    "dd2[\"county\"] = county2\n"
   ]
  },
  {
   "cell_type": "markdown",
   "id": "6a938e8f",
   "metadata": {},
   "source": [
    "# WE HAVE LIMITED DATA!\n",
    "\n",
    "We only have all the required data points for 39 out of 67 counties. We compensate for this by getting more states' data"
   ]
  },
  {
   "cell_type": "markdown",
   "id": "e2e461d5",
   "metadata": {},
   "source": [
    "### For Penn"
   ]
  },
  {
   "cell_type": "code",
   "execution_count": 5,
   "id": "026940f7",
   "metadata": {},
   "outputs": [
    {
     "data": {
      "application/javascript": [
       "\n",
       "            setTimeout(function() {\n",
       "                var nbb_cell_id = 5;\n",
       "                var nbb_unformatted_code = \"# This excel sheet contains the total population of the relevant counties\\n\\npop = pd.read_excel(\\\"Penn age and sex.xlsx\\\", sheet_name=\\\"Sheet2\\\")\";\n",
       "                var nbb_formatted_code = \"# This excel sheet contains the total population of the relevant counties\\n\\npop = pd.read_excel(\\\"Penn age and sex.xlsx\\\", sheet_name=\\\"Sheet2\\\")\";\n",
       "                var nbb_cells = Jupyter.notebook.get_cells();\n",
       "                for (var i = 0; i < nbb_cells.length; ++i) {\n",
       "                    if (nbb_cells[i].input_prompt_number == nbb_cell_id) {\n",
       "                        if (nbb_cells[i].get_text() == nbb_unformatted_code) {\n",
       "                             nbb_cells[i].set_text(nbb_formatted_code);\n",
       "                        }\n",
       "                        break;\n",
       "                    }\n",
       "                }\n",
       "            }, 500);\n",
       "            "
      ],
      "text/plain": [
       "<IPython.core.display.Javascript object>"
      ]
     },
     "metadata": {},
     "output_type": "display_data"
    }
   ],
   "source": [
    "# This excel sheet contains the total population of the relevant counties\n",
    "\n",
    "pop = pd.read_excel(\"Penn age and sex.xlsx\", sheet_name=\"Sheet2\")"
   ]
  },
  {
   "cell_type": "code",
   "execution_count": 6,
   "id": "bb32b826",
   "metadata": {},
   "outputs": [
    {
     "data": {
      "application/javascript": [
       "\n",
       "            setTimeout(function() {\n",
       "                var nbb_cell_id = 6;\n",
       "                var nbb_unformatted_code = \"# The following block of code creates a list containing the names of the counties whose population and education data are unavailable\\nunavailable = []\\ncounter = 0\\nfor i in county:\\n    counter = 0\\n    # print(i)\\n    for j in pop.columns:\\n        if f\\\"{i} County, Pennsylvania\\\" == j:\\n            counter = counter + 1\\n\\n        else:\\n            continue\\n    if counter == 0:\\n        unavailable.append(i)\";\n",
       "                var nbb_formatted_code = \"# The following block of code creates a list containing the names of the counties whose population and education data are unavailable\\nunavailable = []\\ncounter = 0\\nfor i in county:\\n    counter = 0\\n    # print(i)\\n    for j in pop.columns:\\n        if f\\\"{i} County, Pennsylvania\\\" == j:\\n            counter = counter + 1\\n\\n        else:\\n            continue\\n    if counter == 0:\\n        unavailable.append(i)\";\n",
       "                var nbb_cells = Jupyter.notebook.get_cells();\n",
       "                for (var i = 0; i < nbb_cells.length; ++i) {\n",
       "                    if (nbb_cells[i].input_prompt_number == nbb_cell_id) {\n",
       "                        if (nbb_cells[i].get_text() == nbb_unformatted_code) {\n",
       "                             nbb_cells[i].set_text(nbb_formatted_code);\n",
       "                        }\n",
       "                        break;\n",
       "                    }\n",
       "                }\n",
       "            }, 500);\n",
       "            "
      ],
      "text/plain": [
       "<IPython.core.display.Javascript object>"
      ]
     },
     "metadata": {},
     "output_type": "display_data"
    }
   ],
   "source": [
    "# The following block of code creates a list containing the names of the counties whose population and education data are unavailable\n",
    "unavailable = []\n",
    "counter = 0\n",
    "for i in county:\n",
    "    counter = 0\n",
    "    # print(i)\n",
    "    for j in pop.columns:\n",
    "        if f\"{i} County, Pennsylvania\" == j:\n",
    "            counter = counter + 1\n",
    "\n",
    "        else:\n",
    "            continue\n",
    "    if counter == 0:\n",
    "        unavailable.append(i)"
   ]
  },
  {
   "cell_type": "code",
   "execution_count": 7,
   "id": "c50c3ae6",
   "metadata": {},
   "outputs": [
    {
     "data": {
      "application/javascript": [
       "\n",
       "            setTimeout(function() {\n",
       "                var nbb_cell_id = 7;\n",
       "                var nbb_unformatted_code = \"# This loop removes all the data points of the unavailable counties from our dataframe\\n\\nfor i in unavailable:\\n    ddx = covid.where(covid[\\\"county\\\"] == i)\\n    covid = covid.drop(index=ddx.dropna().index[0])\";\n",
       "                var nbb_formatted_code = \"# This loop removes all the data points of the unavailable counties from our dataframe\\n\\nfor i in unavailable:\\n    ddx = covid.where(covid[\\\"county\\\"] == i)\\n    covid = covid.drop(index=ddx.dropna().index[0])\";\n",
       "                var nbb_cells = Jupyter.notebook.get_cells();\n",
       "                for (var i = 0; i < nbb_cells.length; ++i) {\n",
       "                    if (nbb_cells[i].input_prompt_number == nbb_cell_id) {\n",
       "                        if (nbb_cells[i].get_text() == nbb_unformatted_code) {\n",
       "                             nbb_cells[i].set_text(nbb_formatted_code);\n",
       "                        }\n",
       "                        break;\n",
       "                    }\n",
       "                }\n",
       "            }, 500);\n",
       "            "
      ],
      "text/plain": [
       "<IPython.core.display.Javascript object>"
      ]
     },
     "metadata": {},
     "output_type": "display_data"
    }
   ],
   "source": [
    "# This loop removes all the data points of the unavailable counties from our dataframe\n",
    "\n",
    "for i in unavailable:\n",
    "    ddx = covid.where(covid[\"county\"] == i)\n",
    "    covid = covid.drop(index=ddx.dropna().index[0])"
   ]
  },
  {
   "cell_type": "code",
   "execution_count": 8,
   "id": "f68560c9",
   "metadata": {},
   "outputs": [
    {
     "data": {
      "application/javascript": [
       "\n",
       "            setTimeout(function() {\n",
       "                var nbb_cell_id = 8;\n",
       "                var nbb_unformatted_code = \"a = np.array(pop.iloc[2])\\na = a[1:]\\ncovid[\\\"total population\\\"] = a\";\n",
       "                var nbb_formatted_code = \"a = np.array(pop.iloc[2])\\na = a[1:]\\ncovid[\\\"total population\\\"] = a\";\n",
       "                var nbb_cells = Jupyter.notebook.get_cells();\n",
       "                for (var i = 0; i < nbb_cells.length; ++i) {\n",
       "                    if (nbb_cells[i].input_prompt_number == nbb_cell_id) {\n",
       "                        if (nbb_cells[i].get_text() == nbb_unformatted_code) {\n",
       "                             nbb_cells[i].set_text(nbb_formatted_code);\n",
       "                        }\n",
       "                        break;\n",
       "                    }\n",
       "                }\n",
       "            }, 500);\n",
       "            "
      ],
      "text/plain": [
       "<IPython.core.display.Javascript object>"
      ]
     },
     "metadata": {},
     "output_type": "display_data"
    }
   ],
   "source": [
    "a = np.array(pop.iloc[2])\n",
    "a = a[1:]\n",
    "covid[\"total population\"] = a"
   ]
  },
  {
   "cell_type": "code",
   "execution_count": 9,
   "id": "95b77d86",
   "metadata": {},
   "outputs": [
    {
     "data": {
      "application/javascript": [
       "\n",
       "            setTimeout(function() {\n",
       "                var nbb_cell_id = 9;\n",
       "                var nbb_unformatted_code = \"covid[\\\"percentage infected\\\"] = covid.apply(\\n    lambda x: x[\\\"cases_mean\\\"] / x[\\\"total population\\\"],\\n    axis=1,\\n)\";\n",
       "                var nbb_formatted_code = \"covid[\\\"percentage infected\\\"] = covid.apply(\\n    lambda x: x[\\\"cases_mean\\\"] / x[\\\"total population\\\"],\\n    axis=1,\\n)\";\n",
       "                var nbb_cells = Jupyter.notebook.get_cells();\n",
       "                for (var i = 0; i < nbb_cells.length; ++i) {\n",
       "                    if (nbb_cells[i].input_prompt_number == nbb_cell_id) {\n",
       "                        if (nbb_cells[i].get_text() == nbb_unformatted_code) {\n",
       "                             nbb_cells[i].set_text(nbb_formatted_code);\n",
       "                        }\n",
       "                        break;\n",
       "                    }\n",
       "                }\n",
       "            }, 500);\n",
       "            "
      ],
      "text/plain": [
       "<IPython.core.display.Javascript object>"
      ]
     },
     "metadata": {},
     "output_type": "display_data"
    }
   ],
   "source": [
    "covid[\"percentage infected\"] = covid.apply(\n",
    "    lambda x: x[\"cases_mean\"] / x[\"total population\"],\n",
    "    axis=1,\n",
    ")"
   ]
  },
  {
   "cell_type": "markdown",
   "id": "e9d3777f",
   "metadata": {},
   "source": [
    "### For Ohio"
   ]
  },
  {
   "cell_type": "code",
   "execution_count": 10,
   "id": "85933c42",
   "metadata": {},
   "outputs": [
    {
     "data": {
      "application/javascript": [
       "\n",
       "            setTimeout(function() {\n",
       "                var nbb_cell_id = 10;\n",
       "                var nbb_unformatted_code = \"pop_ohio = pd.read_excel(\\\"Ohio age and sex.xlsx\\\", sheet_name=\\\"Data\\\")\\n\\nfor i in np.arange(2, 148, 1):\\n    if (i - 1) % 4 == 0:\\n        continue\\n    else:\\n        pop_ohio = pop_ohio.drop(columns=[f\\\"Unnamed: {i}\\\"])\\n\\nunavailable_ohio = []\\ncounter = 0\\nfor i in county2:\\n    counter = 0\\n    # print(i)\\n    for j in pop_ohio.columns:\\n        if f\\\"{i} County, Ohio\\\" == j:\\n            counter = counter + 1\\n\\n        else:\\n            continue\\n    if counter == 0:\\n        unavailable_ohio.append(i)\\n\\n\\nfor i in unavailable_ohio:\\n    ddx = dd2.where(dd2[\\\"county\\\"] == i)\\n    dd2 = dd2.drop(index=ddx.dropna().index[0])\";\n",
       "                var nbb_formatted_code = \"pop_ohio = pd.read_excel(\\\"Ohio age and sex.xlsx\\\", sheet_name=\\\"Data\\\")\\n\\nfor i in np.arange(2, 148, 1):\\n    if (i - 1) % 4 == 0:\\n        continue\\n    else:\\n        pop_ohio = pop_ohio.drop(columns=[f\\\"Unnamed: {i}\\\"])\\n\\nunavailable_ohio = []\\ncounter = 0\\nfor i in county2:\\n    counter = 0\\n    # print(i)\\n    for j in pop_ohio.columns:\\n        if f\\\"{i} County, Ohio\\\" == j:\\n            counter = counter + 1\\n\\n        else:\\n            continue\\n    if counter == 0:\\n        unavailable_ohio.append(i)\\n\\n\\nfor i in unavailable_ohio:\\n    ddx = dd2.where(dd2[\\\"county\\\"] == i)\\n    dd2 = dd2.drop(index=ddx.dropna().index[0])\";\n",
       "                var nbb_cells = Jupyter.notebook.get_cells();\n",
       "                for (var i = 0; i < nbb_cells.length; ++i) {\n",
       "                    if (nbb_cells[i].input_prompt_number == nbb_cell_id) {\n",
       "                        if (nbb_cells[i].get_text() == nbb_unformatted_code) {\n",
       "                             nbb_cells[i].set_text(nbb_formatted_code);\n",
       "                        }\n",
       "                        break;\n",
       "                    }\n",
       "                }\n",
       "            }, 500);\n",
       "            "
      ],
      "text/plain": [
       "<IPython.core.display.Javascript object>"
      ]
     },
     "metadata": {},
     "output_type": "display_data"
    }
   ],
   "source": [
    "pop_ohio = pd.read_excel(\"Ohio age and sex.xlsx\", sheet_name=\"Data\")\n",
    "\n",
    "for i in np.arange(2, 148, 1):\n",
    "    if (i - 1) % 4 == 0:\n",
    "        continue\n",
    "    else:\n",
    "        pop_ohio = pop_ohio.drop(columns=[f\"Unnamed: {i}\"])\n",
    "\n",
    "unavailable_ohio = []\n",
    "counter = 0\n",
    "for i in county2:\n",
    "    counter = 0\n",
    "    # print(i)\n",
    "    for j in pop_ohio.columns:\n",
    "        if f\"{i} County, Ohio\" == j:\n",
    "            counter = counter + 1\n",
    "\n",
    "        else:\n",
    "            continue\n",
    "    if counter == 0:\n",
    "        unavailable_ohio.append(i)\n",
    "\n",
    "\n",
    "for i in unavailable_ohio:\n",
    "    ddx = dd2.where(dd2[\"county\"] == i)\n",
    "    dd2 = dd2.drop(index=ddx.dropna().index[0])\n"
   ]
  },
  {
   "cell_type": "code",
   "execution_count": 11,
   "id": "d38ddff1",
   "metadata": {},
   "outputs": [
    {
     "data": {
      "application/javascript": [
       "\n",
       "            setTimeout(function() {\n",
       "                var nbb_cell_id = 11;\n",
       "                var nbb_unformatted_code = \"aa = np.array(pop_ohio.iloc[2])\\naa = aa[1:]\\naa = aa[:-1]\\ndd2[\\\"total population\\\"] = aa\\n\\n# orientation\\n\\ndd2[\\\"percentage infected\\\"] = dd2.apply(\\n    lambda x: x[\\\"cases_mean\\\"] / x[\\\"total population\\\"],\\n    axis=1,\\n)\";\n",
       "                var nbb_formatted_code = \"aa = np.array(pop_ohio.iloc[2])\\naa = aa[1:]\\naa = aa[:-1]\\ndd2[\\\"total population\\\"] = aa\\n\\n# orientation\\n\\ndd2[\\\"percentage infected\\\"] = dd2.apply(\\n    lambda x: x[\\\"cases_mean\\\"] / x[\\\"total population\\\"],\\n    axis=1,\\n)\";\n",
       "                var nbb_cells = Jupyter.notebook.get_cells();\n",
       "                for (var i = 0; i < nbb_cells.length; ++i) {\n",
       "                    if (nbb_cells[i].input_prompt_number == nbb_cell_id) {\n",
       "                        if (nbb_cells[i].get_text() == nbb_unformatted_code) {\n",
       "                             nbb_cells[i].set_text(nbb_formatted_code);\n",
       "                        }\n",
       "                        break;\n",
       "                    }\n",
       "                }\n",
       "            }, 500);\n",
       "            "
      ],
      "text/plain": [
       "<IPython.core.display.Javascript object>"
      ]
     },
     "metadata": {},
     "output_type": "display_data"
    }
   ],
   "source": [
    "aa = np.array(pop_ohio.iloc[2])\n",
    "aa = aa[1:]\n",
    "aa = aa[:-1]\n",
    "dd2[\"total population\"] = aa\n",
    "\n",
    "# orientation\n",
    "\n",
    "dd2[\"percentage infected\"] = dd2.apply(\n",
    "    lambda x: x[\"cases_mean\"] / x[\"total population\"],\n",
    "    axis=1,\n",
    ")"
   ]
  },
  {
   "cell_type": "markdown",
   "id": "6085b4d3",
   "metadata": {},
   "source": [
    "### For New Jersey"
   ]
  },
  {
   "cell_type": "code",
   "execution_count": 12,
   "id": "90535d60",
   "metadata": {},
   "outputs": [
    {
     "data": {
      "application/javascript": [
       "\n",
       "            setTimeout(function() {\n",
       "                var nbb_cell_id = 12;\n",
       "                var nbb_unformatted_code = \"df3 = pd.read_csv(\\\"us-counties-recent.csv\\\")\\ndf3 = df3[df3[\\\"state\\\"] == \\\"New Jersey\\\"]\\nmeans3 = np.array([])\\ncounty3 = np.array([])\\n\\nfor i in np.arange(34001, 34042, 2):\\n    dd3 = df3[df3[\\\"fips\\\"] == i]\\n    means3 = np.concatenate([means3, np.mean(dd3[\\\"cases\\\"])], axis=None)\\n    county3 = np.concatenate([county3, dd3.drop_duplicates(subset=\\\"county\\\")[\\\"county\\\"]])\\n\\n\\ndd3 = pd.DataFrame()\\ndd3[\\\"fips\\\"] = np.arange(34001, 34042, 2)\\ndd3[\\\"cases_mean\\\"] = means3\\ndd3[\\\"county\\\"] = county3\\n\\npop_New_Jersey = pd.read_excel(\\\"New Jersey age and sex.xlsx\\\", sheet_name=\\\"Data\\\")\\n\\nfor i in np.arange(2, 84, 1):\\n    if (i - 1) % 4 == 0:\\n        continue\\n    else:\\n        pop_New_Jersey = pop_New_Jersey.drop(columns=[f\\\"Unnamed: {i}\\\"])\\n\\naaa = np.array(pop_New_Jersey.iloc[2])\\naaa = aaa[1:]\\naaa = aaa[:-1]\\ndd3[\\\"total population\\\"] = aaa\\n\\n# orientation\\n\\ndd3[\\\"percentage infected\\\"] = dd3.apply(\\n    lambda x: x[\\\"cases_mean\\\"] / x[\\\"total population\\\"],\\n    axis=1,\\n)\";\n",
       "                var nbb_formatted_code = \"df3 = pd.read_csv(\\\"us-counties-recent.csv\\\")\\ndf3 = df3[df3[\\\"state\\\"] == \\\"New Jersey\\\"]\\nmeans3 = np.array([])\\ncounty3 = np.array([])\\n\\nfor i in np.arange(34001, 34042, 2):\\n    dd3 = df3[df3[\\\"fips\\\"] == i]\\n    means3 = np.concatenate([means3, np.mean(dd3[\\\"cases\\\"])], axis=None)\\n    county3 = np.concatenate([county3, dd3.drop_duplicates(subset=\\\"county\\\")[\\\"county\\\"]])\\n\\n\\ndd3 = pd.DataFrame()\\ndd3[\\\"fips\\\"] = np.arange(34001, 34042, 2)\\ndd3[\\\"cases_mean\\\"] = means3\\ndd3[\\\"county\\\"] = county3\\n\\npop_New_Jersey = pd.read_excel(\\\"New Jersey age and sex.xlsx\\\", sheet_name=\\\"Data\\\")\\n\\nfor i in np.arange(2, 84, 1):\\n    if (i - 1) % 4 == 0:\\n        continue\\n    else:\\n        pop_New_Jersey = pop_New_Jersey.drop(columns=[f\\\"Unnamed: {i}\\\"])\\n\\naaa = np.array(pop_New_Jersey.iloc[2])\\naaa = aaa[1:]\\naaa = aaa[:-1]\\ndd3[\\\"total population\\\"] = aaa\\n\\n# orientation\\n\\ndd3[\\\"percentage infected\\\"] = dd3.apply(\\n    lambda x: x[\\\"cases_mean\\\"] / x[\\\"total population\\\"],\\n    axis=1,\\n)\";\n",
       "                var nbb_cells = Jupyter.notebook.get_cells();\n",
       "                for (var i = 0; i < nbb_cells.length; ++i) {\n",
       "                    if (nbb_cells[i].input_prompt_number == nbb_cell_id) {\n",
       "                        if (nbb_cells[i].get_text() == nbb_unformatted_code) {\n",
       "                             nbb_cells[i].set_text(nbb_formatted_code);\n",
       "                        }\n",
       "                        break;\n",
       "                    }\n",
       "                }\n",
       "            }, 500);\n",
       "            "
      ],
      "text/plain": [
       "<IPython.core.display.Javascript object>"
      ]
     },
     "metadata": {},
     "output_type": "display_data"
    }
   ],
   "source": [
    "df3 = pd.read_csv(\"us-counties-recent.csv\")\n",
    "df3 = df3[df3[\"state\"] == \"New Jersey\"]\n",
    "means3 = np.array([])\n",
    "county3 = np.array([])\n",
    "\n",
    "for i in np.arange(34001, 34042, 2):\n",
    "    dd3 = df3[df3[\"fips\"] == i]\n",
    "    means3 = np.concatenate([means3, np.mean(dd3[\"cases\"])], axis=None)\n",
    "    county3 = np.concatenate([county3, dd3.drop_duplicates(subset=\"county\")[\"county\"]])\n",
    "\n",
    "\n",
    "dd3 = pd.DataFrame()\n",
    "dd3[\"fips\"] = np.arange(34001, 34042, 2)\n",
    "dd3[\"cases_mean\"] = means3\n",
    "dd3[\"county\"] = county3\n",
    "\n",
    "pop_New_Jersey = pd.read_excel(\"New Jersey age and sex.xlsx\", sheet_name=\"Data\")\n",
    "\n",
    "for i in np.arange(2, 84, 1):\n",
    "    if (i - 1) % 4 == 0:\n",
    "        continue\n",
    "    else:\n",
    "        pop_New_Jersey = pop_New_Jersey.drop(columns=[f\"Unnamed: {i}\"])\n",
    "\n",
    "aaa = np.array(pop_New_Jersey.iloc[2])\n",
    "aaa = aaa[1:]\n",
    "aaa = aaa[:-1]\n",
    "dd3[\"total population\"] = aaa\n",
    "\n",
    "# orientation\n",
    "\n",
    "dd3[\"percentage infected\"] = dd3.apply(\n",
    "    lambda x: x[\"cases_mean\"] / x[\"total population\"],\n",
    "    axis=1,\n",
    ")"
   ]
  },
  {
   "cell_type": "code",
   "execution_count": 13,
   "id": "8b1b79b3",
   "metadata": {},
   "outputs": [
    {
     "data": {
      "text/plain": [
       "Text(0.5, 1.0, 'Distribution of the %population infected by covid of counties')"
      ]
     },
     "execution_count": 13,
     "metadata": {},
     "output_type": "execute_result"
    },
    {
     "data": {
      "image/png": "[encoded data removed]",
      "text/plain": [
       "<Figure size 432x288 with 1 Axes>"
      ]
     },
     "metadata": {
      "needs_background": "light"
     },
     "output_type": "display_data"
    },
    {
     "data": {
      "application/javascript": [
       "\n",
       "            setTimeout(function() {\n",
       "                var nbb_cell_id = 13;\n",
       "                var nbb_unformatted_code = \"covid = pd.concat([covid, dd2, dd3])\\nsns.kdeplot(covid[\\\"percentage infected\\\"])\\nplt.title(\\\"Distribution of the %population infected by covid of counties\\\")\";\n",
       "                var nbb_formatted_code = \"covid = pd.concat([covid, dd2, dd3])\\nsns.kdeplot(covid[\\\"percentage infected\\\"])\\nplt.title(\\\"Distribution of the %population infected by covid of counties\\\")\";\n",
       "                var nbb_cells = Jupyter.notebook.get_cells();\n",
       "                for (var i = 0; i < nbb_cells.length; ++i) {\n",
       "                    if (nbb_cells[i].input_prompt_number == nbb_cell_id) {\n",
       "                        if (nbb_cells[i].get_text() == nbb_unformatted_code) {\n",
       "                             nbb_cells[i].set_text(nbb_formatted_code);\n",
       "                        }\n",
       "                        break;\n",
       "                    }\n",
       "                }\n",
       "            }, 500);\n",
       "            "
      ],
      "text/plain": [
       "<IPython.core.display.Javascript object>"
      ]
     },
     "metadata": {},
     "output_type": "display_data"
    }
   ],
   "source": [
    "covid = pd.concat([covid, dd2, dd3])\n",
    "sns.kdeplot(covid[\"percentage infected\"])\n",
    "plt.title(\"Distribution of the %population infected by covid of counties\")"
   ]
  },
  {
   "cell_type": "markdown",
   "id": "809bca78",
   "metadata": {},
   "source": [
    "# The following code block deals with getting the POPULATION EDUCATION DATA\n",
    "\n",
    "This is our limiting/constraining data. \n",
    "\n",
    "The education levels are as follows:\n",
    "1. Less than 9th grade\t\n",
    "2. 9th to 12th grade, no diploma\t\n",
    "3. High school graduate (includes equivalency)\t\n",
    "4. Some college, no degree\t\n",
    "5. Associate's degree\t\n",
    "6. Bachelor's degree\t\n",
    "7. Graduate or professional degree\t\n",
    "\n",
    "Each of these has been assigned an arbitrary weightage of 10, 20, 30, 40, 50, 60, and 70 respectively. This helps us calculate a quantity called the \"Average education level of a county\", given by the formula:\n",
    "\n",
    "## <center>$avg_{county} =   \\frac{{\\sum}_{i=1}^{7} (10i) * (Pop_i) } {Pop_{tot}}$</center>\n",
    "\n",
    "where, \n",
    "\n",
    "$pop_i$ is the number of people with $i^{th}$ educational qualification \n",
    "\n",
    "$pop_{tot}$ is the total population of that county"
   ]
  },
  {
   "cell_type": "markdown",
   "id": "3e0ee076",
   "metadata": {},
   "source": [
    "### For Penn"
   ]
  },
  {
   "cell_type": "code",
   "execution_count": 14,
   "id": "466447fa",
   "metadata": {},
   "outputs": [
    {
     "data": {
      "application/javascript": [
       "\n",
       "            setTimeout(function() {\n",
       "                var nbb_cell_id = 14;\n",
       "                var nbb_unformatted_code = \"# code for getting the education data and weeding out unnecessary columns\\n\\nedu = pd.read_excel(\\\"Penn better education data.xlsx\\\", sheet_name=\\\"Data\\\")\\n\\nfor i in np.arange(2, 79, 2):\\n    edu = edu.drop(columns=[f\\\"Unnamed: {i}\\\"])\";\n",
       "                var nbb_formatted_code = \"# code for getting the education data and weeding out unnecessary columns\\n\\nedu = pd.read_excel(\\\"Penn better education data.xlsx\\\", sheet_name=\\\"Data\\\")\\n\\nfor i in np.arange(2, 79, 2):\\n    edu = edu.drop(columns=[f\\\"Unnamed: {i}\\\"])\";\n",
       "                var nbb_cells = Jupyter.notebook.get_cells();\n",
       "                for (var i = 0; i < nbb_cells.length; ++i) {\n",
       "                    if (nbb_cells[i].input_prompt_number == nbb_cell_id) {\n",
       "                        if (nbb_cells[i].get_text() == nbb_unformatted_code) {\n",
       "                             nbb_cells[i].set_text(nbb_formatted_code);\n",
       "                        }\n",
       "                        break;\n",
       "                    }\n",
       "                }\n",
       "            }, 500);\n",
       "            "
      ],
      "text/plain": [
       "<IPython.core.display.Javascript object>"
      ]
     },
     "metadata": {},
     "output_type": "display_data"
    }
   ],
   "source": [
    "# code for getting the education data and weeding out unnecessary columns\n",
    "\n",
    "edu = pd.read_excel(\"Penn better education data.xlsx\", sheet_name=\"Data\")\n",
    "\n",
    "for i in np.arange(2, 79, 2):\n",
    "    edu = edu.drop(columns=[f\"Unnamed: {i}\"])"
   ]
  },
  {
   "cell_type": "code",
   "execution_count": 15,
   "id": "82e36a6a",
   "metadata": {},
   "outputs": [
    {
     "data": {
      "application/javascript": [
       "\n",
       "            setTimeout(function() {\n",
       "                var nbb_cell_id = 15;\n",
       "                var nbb_unformatted_code = \"# Code for getting the Average education level of the counties\\navg = np.array([])\\nfor j in np.arange(1, len(edu.columns)):\\n    a = 0\\n    tot = 0\\n    for i in np.arange(1, 9):\\n        tot = tot + (i - 1) * 10 * int(edu[edu.columns[j]][i])\\n        a = tot / edu[edu.columns[j]][1]\\n\\n    avg = np.concatenate([avg, a], axis=None)\";\n",
       "                var nbb_formatted_code = \"# Code for getting the Average education level of the counties\\navg = np.array([])\\nfor j in np.arange(1, len(edu.columns)):\\n    a = 0\\n    tot = 0\\n    for i in np.arange(1, 9):\\n        tot = tot + (i - 1) * 10 * int(edu[edu.columns[j]][i])\\n        a = tot / edu[edu.columns[j]][1]\\n\\n    avg = np.concatenate([avg, a], axis=None)\";\n",
       "                var nbb_cells = Jupyter.notebook.get_cells();\n",
       "                for (var i = 0; i < nbb_cells.length; ++i) {\n",
       "                    if (nbb_cells[i].input_prompt_number == nbb_cell_id) {\n",
       "                        if (nbb_cells[i].get_text() == nbb_unformatted_code) {\n",
       "                             nbb_cells[i].set_text(nbb_formatted_code);\n",
       "                        }\n",
       "                        break;\n",
       "                    }\n",
       "                }\n",
       "            }, 500);\n",
       "            "
      ],
      "text/plain": [
       "<IPython.core.display.Javascript object>"
      ]
     },
     "metadata": {},
     "output_type": "display_data"
    }
   ],
   "source": [
    "# Code for getting the Average education level of the counties\n",
    "avg = np.array([])\n",
    "for j in np.arange(1, len(edu.columns)):\n",
    "    a = 0\n",
    "    tot = 0\n",
    "    for i in np.arange(1, 9):\n",
    "        tot = tot + (i - 1) * 10 * int(edu[edu.columns[j]][i])\n",
    "        a = tot / edu[edu.columns[j]][1]\n",
    "\n",
    "    avg = np.concatenate([avg, a], axis=None)"
   ]
  },
  {
   "cell_type": "markdown",
   "id": "2544981f",
   "metadata": {},
   "source": [
    "### For Ohio"
   ]
  },
  {
   "cell_type": "code",
   "execution_count": 16,
   "id": "bf1517e6",
   "metadata": {},
   "outputs": [
    {
     "data": {
      "application/javascript": [
       "\n",
       "            setTimeout(function() {\n",
       "                var nbb_cell_id = 16;\n",
       "                var nbb_unformatted_code = \"edu_ohio = pd.read_excel(\\\"Ohio education data.xlsx\\\", sheet_name=\\\"Data\\\")\\n\\nfor i in np.arange(2, 75, 2):\\n    edu_ohio = edu_ohio.drop(columns=[f\\\"Unnamed: {i}\\\"])\\n\\navg2 = np.array([])\\nfor j in np.arange(1, len(edu_ohio.columns)):\\n    a = 0\\n    tot = 0\\n    for i in np.arange(1, 9):\\n        tot = tot + (i - 1) * 10 * int(edu_ohio[edu_ohio.columns[j]][i])\\n        # print(type(tot))\\n        a = tot / edu_ohio[edu_ohio.columns[j]][1]\\n        # print(a)\\n    avg2 = np.concatenate([avg2, a], axis=None)\";\n",
       "                var nbb_formatted_code = \"edu_ohio = pd.read_excel(\\\"Ohio education data.xlsx\\\", sheet_name=\\\"Data\\\")\\n\\nfor i in np.arange(2, 75, 2):\\n    edu_ohio = edu_ohio.drop(columns=[f\\\"Unnamed: {i}\\\"])\\n\\navg2 = np.array([])\\nfor j in np.arange(1, len(edu_ohio.columns)):\\n    a = 0\\n    tot = 0\\n    for i in np.arange(1, 9):\\n        tot = tot + (i - 1) * 10 * int(edu_ohio[edu_ohio.columns[j]][i])\\n        # print(type(tot))\\n        a = tot / edu_ohio[edu_ohio.columns[j]][1]\\n        # print(a)\\n    avg2 = np.concatenate([avg2, a], axis=None)\";\n",
       "                var nbb_cells = Jupyter.notebook.get_cells();\n",
       "                for (var i = 0; i < nbb_cells.length; ++i) {\n",
       "                    if (nbb_cells[i].input_prompt_number == nbb_cell_id) {\n",
       "                        if (nbb_cells[i].get_text() == nbb_unformatted_code) {\n",
       "                             nbb_cells[i].set_text(nbb_formatted_code);\n",
       "                        }\n",
       "                        break;\n",
       "                    }\n",
       "                }\n",
       "            }, 500);\n",
       "            "
      ],
      "text/plain": [
       "<IPython.core.display.Javascript object>"
      ]
     },
     "metadata": {},
     "output_type": "display_data"
    }
   ],
   "source": [
    "edu_ohio = pd.read_excel(\"Ohio education data.xlsx\", sheet_name=\"Data\")\n",
    "\n",
    "for i in np.arange(2, 75, 2):\n",
    "    edu_ohio = edu_ohio.drop(columns=[f\"Unnamed: {i}\"])\n",
    "\n",
    "avg2 = np.array([])\n",
    "for j in np.arange(1, len(edu_ohio.columns)):\n",
    "    a = 0\n",
    "    tot = 0\n",
    "    for i in np.arange(1, 9):\n",
    "        tot = tot + (i - 1) * 10 * int(edu_ohio[edu_ohio.columns[j]][i])\n",
    "        # print(type(tot))\n",
    "        a = tot / edu_ohio[edu_ohio.columns[j]][1]\n",
    "        # print(a)\n",
    "    avg2 = np.concatenate([avg2, a], axis=None)"
   ]
  },
  {
   "cell_type": "markdown",
   "id": "18d7fc8c",
   "metadata": {},
   "source": [
    "### For New Jersey"
   ]
  },
  {
   "cell_type": "code",
   "execution_count": 17,
   "id": "78ccdbd5",
   "metadata": {},
   "outputs": [
    {
     "data": {
      "application/javascript": [
       "\n",
       "            setTimeout(function() {\n",
       "                var nbb_cell_id = 17;\n",
       "                var nbb_unformatted_code = \"edu_New_Jersey = pd.read_excel(\\\"New Jersey education data.xlsx\\\", sheet_name=\\\"Data\\\")\\n\\nfor i in np.arange(2, 43, 2):\\n    edu_New_Jersey = edu_New_Jersey.drop(columns=[f\\\"Unnamed: {i}\\\"])\\n\\navg3 = np.array([])\\nfor j in np.arange(1, len(edu_New_Jersey.columns)):\\n    a = 0\\n    tot = 0\\n    for i in np.arange(1, 9):\\n        tot = tot + (i - 1) * 10 * int(edu_New_Jersey[edu_New_Jersey.columns[j]][i])\\n        # print(type(tot))\\n        a = tot / edu_New_Jersey[edu_New_Jersey.columns[j]][1]\\n        # print(a)\\n    avg3 = np.concatenate([avg3, a], axis=None)\";\n",
       "                var nbb_formatted_code = \"edu_New_Jersey = pd.read_excel(\\\"New Jersey education data.xlsx\\\", sheet_name=\\\"Data\\\")\\n\\nfor i in np.arange(2, 43, 2):\\n    edu_New_Jersey = edu_New_Jersey.drop(columns=[f\\\"Unnamed: {i}\\\"])\\n\\navg3 = np.array([])\\nfor j in np.arange(1, len(edu_New_Jersey.columns)):\\n    a = 0\\n    tot = 0\\n    for i in np.arange(1, 9):\\n        tot = tot + (i - 1) * 10 * int(edu_New_Jersey[edu_New_Jersey.columns[j]][i])\\n        # print(type(tot))\\n        a = tot / edu_New_Jersey[edu_New_Jersey.columns[j]][1]\\n        # print(a)\\n    avg3 = np.concatenate([avg3, a], axis=None)\";\n",
       "                var nbb_cells = Jupyter.notebook.get_cells();\n",
       "                for (var i = 0; i < nbb_cells.length; ++i) {\n",
       "                    if (nbb_cells[i].input_prompt_number == nbb_cell_id) {\n",
       "                        if (nbb_cells[i].get_text() == nbb_unformatted_code) {\n",
       "                             nbb_cells[i].set_text(nbb_formatted_code);\n",
       "                        }\n",
       "                        break;\n",
       "                    }\n",
       "                }\n",
       "            }, 500);\n",
       "            "
      ],
      "text/plain": [
       "<IPython.core.display.Javascript object>"
      ]
     },
     "metadata": {},
     "output_type": "display_data"
    }
   ],
   "source": [
    "edu_New_Jersey = pd.read_excel(\"New Jersey education data.xlsx\", sheet_name=\"Data\")\n",
    "\n",
    "for i in np.arange(2, 43, 2):\n",
    "    edu_New_Jersey = edu_New_Jersey.drop(columns=[f\"Unnamed: {i}\"])\n",
    "\n",
    "avg3 = np.array([])\n",
    "for j in np.arange(1, len(edu_New_Jersey.columns)):\n",
    "    a = 0\n",
    "    tot = 0\n",
    "    for i in np.arange(1, 9):\n",
    "        tot = tot + (i - 1) * 10 * int(edu_New_Jersey[edu_New_Jersey.columns[j]][i])\n",
    "        # print(type(tot))\n",
    "        a = tot / edu_New_Jersey[edu_New_Jersey.columns[j]][1]\n",
    "        # print(a)\n",
    "    avg3 = np.concatenate([avg3, a], axis=None)"
   ]
  },
  {
   "cell_type": "code",
   "execution_count": 18,
   "id": "b59d05a7",
   "metadata": {},
   "outputs": [
    {
     "data": {
      "application/javascript": [
       "\n",
       "            setTimeout(function() {\n",
       "                var nbb_cell_id = 18;\n",
       "                var nbb_unformatted_code = \"avg = np.concatenate([avg, avg2, avg3])\";\n",
       "                var nbb_formatted_code = \"avg = np.concatenate([avg, avg2, avg3])\";\n",
       "                var nbb_cells = Jupyter.notebook.get_cells();\n",
       "                for (var i = 0; i < nbb_cells.length; ++i) {\n",
       "                    if (nbb_cells[i].input_prompt_number == nbb_cell_id) {\n",
       "                        if (nbb_cells[i].get_text() == nbb_unformatted_code) {\n",
       "                             nbb_cells[i].set_text(nbb_formatted_code);\n",
       "                        }\n",
       "                        break;\n",
       "                    }\n",
       "                }\n",
       "            }, 500);\n",
       "            "
      ],
      "text/plain": [
       "<IPython.core.display.Javascript object>"
      ]
     },
     "metadata": {},
     "output_type": "display_data"
    }
   ],
   "source": [
    "avg = np.concatenate([avg, avg2, avg3])"
   ]
  },
  {
   "cell_type": "code",
   "execution_count": 19,
   "id": "aae7f120",
   "metadata": {},
   "outputs": [
    {
     "data": {
      "text/plain": [
       "Text(0.5, 1.0, 'Distribution of the average education level of each county')"
      ]
     },
     "execution_count": 19,
     "metadata": {},
     "output_type": "execute_result"
    },
    {
     "data": {
      "image/png": "[encoded data removed]",
      "text/plain": [
       "<Figure size 432x288 with 1 Axes>"
      ]
     },
     "metadata": {
      "needs_background": "light"
     },
     "output_type": "display_data"
    },
    {
     "data": {
      "application/javascript": [
       "\n",
       "            setTimeout(function() {\n",
       "                var nbb_cell_id = 19;\n",
       "                var nbb_unformatted_code = \"sns.kdeplot(avg)\\nplt.xlabel(\\\"Average education level of a county\\\")\\nplt.title(\\\"Distribution of the average education level of each county\\\")\";\n",
       "                var nbb_formatted_code = \"sns.kdeplot(avg)\\nplt.xlabel(\\\"Average education level of a county\\\")\\nplt.title(\\\"Distribution of the average education level of each county\\\")\";\n",
       "                var nbb_cells = Jupyter.notebook.get_cells();\n",
       "                for (var i = 0; i < nbb_cells.length; ++i) {\n",
       "                    if (nbb_cells[i].input_prompt_number == nbb_cell_id) {\n",
       "                        if (nbb_cells[i].get_text() == nbb_unformatted_code) {\n",
       "                             nbb_cells[i].set_text(nbb_formatted_code);\n",
       "                        }\n",
       "                        break;\n",
       "                    }\n",
       "                }\n",
       "            }, 500);\n",
       "            "
      ],
      "text/plain": [
       "<IPython.core.display.Javascript object>"
      ]
     },
     "metadata": {},
     "output_type": "display_data"
    }
   ],
   "source": [
    "sns.kdeplot(avg)\n",
    "plt.xlabel(\"Average education level of a county\")\n",
    "plt.title(\"Distribution of the average education level of each county\")"
   ]
  },
  {
   "cell_type": "markdown",
   "id": "a810f263",
   "metadata": {},
   "source": [
    "# The following code block deals with getting the VOTER DATA\n",
    "\n",
    "Here, each county is assigned a parameter called \"Orientation\". This parameter is 0 if a county has more republican voters than democrats and 1 otherwise. Voters who didn't vote for either of the two parties have been neglected as they are not relevant for our problem statement."
   ]
  },
  {
   "cell_type": "markdown",
   "id": "074ebde1",
   "metadata": {},
   "source": [
    "### For Penn"
   ]
  },
  {
   "cell_type": "code",
   "execution_count": 20,
   "id": "6cc924f8",
   "metadata": {},
   "outputs": [
    {
     "data": {
      "application/javascript": [
       "\n",
       "            setTimeout(function() {\n",
       "                var nbb_cell_id = 20;\n",
       "                var nbb_unformatted_code = \"# Code for reading data from excel and removing excess\\nvoter = pd.read_excel(\\\"Penn currentvotestats.xlsx\\\")\\nfor i in np.arange(3, 10, 2):\\n    voter = voter.drop(columns=[f\\\"Unnamed: {i}\\\"])\\n\\nvoter = voter.drop(index=67)\";\n",
       "                var nbb_formatted_code = \"# Code for reading data from excel and removing excess\\nvoter = pd.read_excel(\\\"Penn currentvotestats.xlsx\\\")\\nfor i in np.arange(3, 10, 2):\\n    voter = voter.drop(columns=[f\\\"Unnamed: {i}\\\"])\\n\\nvoter = voter.drop(index=67)\";\n",
       "                var nbb_cells = Jupyter.notebook.get_cells();\n",
       "                for (var i = 0; i < nbb_cells.length; ++i) {\n",
       "                    if (nbb_cells[i].input_prompt_number == nbb_cell_id) {\n",
       "                        if (nbb_cells[i].get_text() == nbb_unformatted_code) {\n",
       "                             nbb_cells[i].set_text(nbb_formatted_code);\n",
       "                        }\n",
       "                        break;\n",
       "                    }\n",
       "                }\n",
       "            }, 500);\n",
       "            "
      ],
      "text/plain": [
       "<IPython.core.display.Javascript object>"
      ]
     },
     "metadata": {},
     "output_type": "display_data"
    }
   ],
   "source": [
    "# Code for reading data from excel and removing excess\n",
    "voter = pd.read_excel(\"Penn currentvotestats.xlsx\")\n",
    "for i in np.arange(3, 10, 2):\n",
    "    voter = voter.drop(columns=[f\"Unnamed: {i}\"])\n",
    "\n",
    "voter = voter.drop(index=67)"
   ]
  },
  {
   "cell_type": "code",
   "execution_count": 21,
   "id": "91093b69",
   "metadata": {},
   "outputs": [
    {
     "data": {
      "application/javascript": [
       "\n",
       "            setTimeout(function() {\n",
       "                var nbb_cell_id = 21;\n",
       "                var nbb_unformatted_code = \"# Calculating orientation of each county\\n# voter[\\\"Orientation\\\"] = voter.apply(\\n#     lambda x: 1\\n#     if x[\\\"Count of Democratic Voters\\\"] > x[\\\"Count of Republican Voters\\\"]\\n#     else 0,\\n#     axis=1,\\n# )\\nvoter[\\\"Orientation\\\"] = voter.apply(\\n    lambda x: 100 * x[\\\"Count of Democratic Voters\\\"] / x[\\\"Total Count of All Voters\\\"]\\n    if x[\\\"Count of Democratic Voters\\\"] > x[\\\"Count of Republican Voters\\\"]\\n    else -100 * x[\\\"Count of Republican Voters\\\"] / x[\\\"Total Count of All Voters\\\"],\\n    axis=1,\\n)\";\n",
       "                var nbb_formatted_code = \"# Calculating orientation of each county\\n# voter[\\\"Orientation\\\"] = voter.apply(\\n#     lambda x: 1\\n#     if x[\\\"Count of Democratic Voters\\\"] > x[\\\"Count of Republican Voters\\\"]\\n#     else 0,\\n#     axis=1,\\n# )\\nvoter[\\\"Orientation\\\"] = voter.apply(\\n    lambda x: 100 * x[\\\"Count of Democratic Voters\\\"] / x[\\\"Total Count of All Voters\\\"]\\n    if x[\\\"Count of Democratic Voters\\\"] > x[\\\"Count of Republican Voters\\\"]\\n    else -100 * x[\\\"Count of Republican Voters\\\"] / x[\\\"Total Count of All Voters\\\"],\\n    axis=1,\\n)\";\n",
       "                var nbb_cells = Jupyter.notebook.get_cells();\n",
       "                for (var i = 0; i < nbb_cells.length; ++i) {\n",
       "                    if (nbb_cells[i].input_prompt_number == nbb_cell_id) {\n",
       "                        if (nbb_cells[i].get_text() == nbb_unformatted_code) {\n",
       "                             nbb_cells[i].set_text(nbb_formatted_code);\n",
       "                        }\n",
       "                        break;\n",
       "                    }\n",
       "                }\n",
       "            }, 500);\n",
       "            "
      ],
      "text/plain": [
       "<IPython.core.display.Javascript object>"
      ]
     },
     "metadata": {},
     "output_type": "display_data"
    }
   ],
   "source": [
    "# Calculating orientation of each county\n",
    "# voter[\"Orientation\"] = voter.apply(\n",
    "#     lambda x: 1\n",
    "#     if x[\"Count of Democratic Voters\"] > x[\"Count of Republican Voters\"]\n",
    "#     else 0,\n",
    "#     axis=1,\n",
    "# )\n",
    "voter[\"Orientation\"] = voter.apply(\n",
    "    lambda x: 100 * x[\"Count of Democratic Voters\"] / x[\"Total Count of All Voters\"]\n",
    "    if x[\"Count of Democratic Voters\"] > x[\"Count of Republican Voters\"]\n",
    "    else -100 * x[\"Count of Republican Voters\"] / x[\"Total Count of All Voters\"],\n",
    "    axis=1,\n",
    ")"
   ]
  },
  {
   "cell_type": "code",
   "execution_count": 22,
   "id": "6061ad94",
   "metadata": {},
   "outputs": [
    {
     "data": {
      "application/javascript": [
       "\n",
       "            setTimeout(function() {\n",
       "                var nbb_cell_id = 22;\n",
       "                var nbb_unformatted_code = \"# Removing the unrequired counties\\n\\nfor i in unavailable:\\n    if i == \\\"McKean\\\":\\n        ddx = voter.where(voter.County == \\\"McKEAN\\\")\\n    else:\\n        ddx = voter.where(voter.County == i.upper())\\n    ind = ddx.dropna().index[0]\\n    voter = voter.drop(index=ind)\";\n",
       "                var nbb_formatted_code = \"# Removing the unrequired counties\\n\\nfor i in unavailable:\\n    if i == \\\"McKean\\\":\\n        ddx = voter.where(voter.County == \\\"McKEAN\\\")\\n    else:\\n        ddx = voter.where(voter.County == i.upper())\\n    ind = ddx.dropna().index[0]\\n    voter = voter.drop(index=ind)\";\n",
       "                var nbb_cells = Jupyter.notebook.get_cells();\n",
       "                for (var i = 0; i < nbb_cells.length; ++i) {\n",
       "                    if (nbb_cells[i].input_prompt_number == nbb_cell_id) {\n",
       "                        if (nbb_cells[i].get_text() == nbb_unformatted_code) {\n",
       "                             nbb_cells[i].set_text(nbb_formatted_code);\n",
       "                        }\n",
       "                        break;\n",
       "                    }\n",
       "                }\n",
       "            }, 500);\n",
       "            "
      ],
      "text/plain": [
       "<IPython.core.display.Javascript object>"
      ]
     },
     "metadata": {},
     "output_type": "display_data"
    }
   ],
   "source": [
    "# Removing the unrequired counties\n",
    "\n",
    "for i in unavailable:\n",
    "    if i == \"McKean\":\n",
    "        ddx = voter.where(voter.County == \"McKEAN\")\n",
    "    else:\n",
    "        ddx = voter.where(voter.County == i.upper())\n",
    "    ind = ddx.dropna().index[0]\n",
    "    voter = voter.drop(index=ind)"
   ]
  },
  {
   "cell_type": "markdown",
   "id": "430d8a2c",
   "metadata": {},
   "source": [
    "### For Ohio"
   ]
  },
  {
   "cell_type": "code",
   "execution_count": 23,
   "id": "d700784b",
   "metadata": {},
   "outputs": [
    {
     "data": {
      "application/javascript": [
       "\n",
       "            setTimeout(function() {\n",
       "                var nbb_cell_id = 23;\n",
       "                var nbb_unformatted_code = \"voter_ohio = pd.read_excel(\\\"Ohio voter data.xlsx\\\")\\n\\nvoter_ohio[\\\"Orientation\\\"] = voter_ohio.apply(\\n    lambda x: 100 * x[\\\"Democratic Ballots Cast\\\"] / x[\\\"Total Ballots Cast\\\"]\\n    if x[\\\"Democratic Ballots Cast\\\"] > x[\\\"Republican Ballots Cast\\\"]\\n    else -100 * x[\\\"Republican Ballots Cast\\\"] / x[\\\"Total Ballots Cast\\\"],\\n    axis=1,\\n)\\n\\nvoter_ohio = voter_ohio[1:]\\n\\nfor i in unavailable_ohio:\\n    ddx = voter_ohio.where(voter_ohio[\\\"CountyNumber\\\"] == i)\\n    voter_ohio = voter_ohio.drop(index=ddx.dropna().index[0])\\n\\n\\n\\n# plt.hist(voter_ohio[\\\"Orientation\\\"])\";\n",
       "                var nbb_formatted_code = \"voter_ohio = pd.read_excel(\\\"Ohio voter data.xlsx\\\")\\n\\nvoter_ohio[\\\"Orientation\\\"] = voter_ohio.apply(\\n    lambda x: 100 * x[\\\"Democratic Ballots Cast\\\"] / x[\\\"Total Ballots Cast\\\"]\\n    if x[\\\"Democratic Ballots Cast\\\"] > x[\\\"Republican Ballots Cast\\\"]\\n    else -100 * x[\\\"Republican Ballots Cast\\\"] / x[\\\"Total Ballots Cast\\\"],\\n    axis=1,\\n)\\n\\nvoter_ohio = voter_ohio[1:]\\n\\nfor i in unavailable_ohio:\\n    ddx = voter_ohio.where(voter_ohio[\\\"CountyNumber\\\"] == i)\\n    voter_ohio = voter_ohio.drop(index=ddx.dropna().index[0])\\n\\n\\n# plt.hist(voter_ohio[\\\"Orientation\\\"])\";\n",
       "                var nbb_cells = Jupyter.notebook.get_cells();\n",
       "                for (var i = 0; i < nbb_cells.length; ++i) {\n",
       "                    if (nbb_cells[i].input_prompt_number == nbb_cell_id) {\n",
       "                        if (nbb_cells[i].get_text() == nbb_unformatted_code) {\n",
       "                             nbb_cells[i].set_text(nbb_formatted_code);\n",
       "                        }\n",
       "                        break;\n",
       "                    }\n",
       "                }\n",
       "            }, 500);\n",
       "            "
      ],
      "text/plain": [
       "<IPython.core.display.Javascript object>"
      ]
     },
     "metadata": {},
     "output_type": "display_data"
    }
   ],
   "source": [
    "voter_ohio = pd.read_excel(\"Ohio voter data.xlsx\")\n",
    "\n",
    "voter_ohio[\"Orientation\"] = voter_ohio.apply(\n",
    "    lambda x: 100 * x[\"Democratic Ballots Cast\"] / x[\"Total Ballots Cast\"]\n",
    "    if x[\"Democratic Ballots Cast\"] > x[\"Republican Ballots Cast\"]\n",
    "    else -100 * x[\"Republican Ballots Cast\"] / x[\"Total Ballots Cast\"],\n",
    "    axis=1,\n",
    ")\n",
    "\n",
    "voter_ohio = voter_ohio[1:]\n",
    "\n",
    "for i in unavailable_ohio:\n",
    "    ddx = voter_ohio.where(voter_ohio[\"CountyNumber\"] == i)\n",
    "    voter_ohio = voter_ohio.drop(index=ddx.dropna().index[0])\n",
    "\n",
    "\n",
    "# plt.hist(voter_ohio[\"Orientation\"])"
   ]
  },
  {
   "cell_type": "markdown",
   "id": "44cc4637",
   "metadata": {},
   "source": [
    "### For New Jersey"
   ]
  },
  {
   "cell_type": "code",
   "execution_count": 24,
   "id": "f6ff491e",
   "metadata": {},
   "outputs": [
    {
     "data": {
      "application/javascript": [
       "\n",
       "            setTimeout(function() {\n",
       "                var nbb_cell_id = 24;\n",
       "                var nbb_unformatted_code = \"voter_New_Jersey = pd.read_excel(\\\"New Jersey voter data.xlsx\\\")\\n\\nvoter_New_Jersey[\\\"Orientation\\\"] = voter_New_Jersey.apply(\\n    lambda x: 100 * x[\\\"DEM\\\"] / x[\\\"Total\\\"]\\n    if x[\\\"DEM\\\"] > x[\\\"REP\\\"]\\n    else -100 * x[\\\"REP\\\"] / x[\\\"Total\\\"],\\n    axis=1,\\n)\";\n",
       "                var nbb_formatted_code = \"voter_New_Jersey = pd.read_excel(\\\"New Jersey voter data.xlsx\\\")\\n\\nvoter_New_Jersey[\\\"Orientation\\\"] = voter_New_Jersey.apply(\\n    lambda x: 100 * x[\\\"DEM\\\"] / x[\\\"Total\\\"]\\n    if x[\\\"DEM\\\"] > x[\\\"REP\\\"]\\n    else -100 * x[\\\"REP\\\"] / x[\\\"Total\\\"],\\n    axis=1,\\n)\";\n",
       "                var nbb_cells = Jupyter.notebook.get_cells();\n",
       "                for (var i = 0; i < nbb_cells.length; ++i) {\n",
       "                    if (nbb_cells[i].input_prompt_number == nbb_cell_id) {\n",
       "                        if (nbb_cells[i].get_text() == nbb_unformatted_code) {\n",
       "                             nbb_cells[i].set_text(nbb_formatted_code);\n",
       "                        }\n",
       "                        break;\n",
       "                    }\n",
       "                }\n",
       "            }, 500);\n",
       "            "
      ],
      "text/plain": [
       "<IPython.core.display.Javascript object>"
      ]
     },
     "metadata": {},
     "output_type": "display_data"
    }
   ],
   "source": [
    "voter_New_Jersey = pd.read_excel(\"New Jersey voter data.xlsx\")\n",
    "\n",
    "voter_New_Jersey[\"Orientation\"] = voter_New_Jersey.apply(\n",
    "    lambda x: 100 * x[\"DEM\"] / x[\"Total\"]\n",
    "    if x[\"DEM\"] > x[\"REP\"]\n",
    "    else -100 * x[\"REP\"] / x[\"Total\"],\n",
    "    axis=1,\n",
    ")\n"
   ]
  },
  {
   "cell_type": "code",
   "execution_count": 25,
   "id": "cc9cf39f",
   "metadata": {},
   "outputs": [
    {
     "data": {
      "application/javascript": [
       "\n",
       "            setTimeout(function() {\n",
       "                var nbb_cell_id = 25;\n",
       "                var nbb_unformatted_code = \"voter_data = np.concatenate(\\n    [voter[\\\"Orientation\\\"], voter_ohio[\\\"Orientation\\\"], voter_New_Jersey[\\\"Orientation\\\"]]\\n)\";\n",
       "                var nbb_formatted_code = \"voter_data = np.concatenate(\\n    [voter[\\\"Orientation\\\"], voter_ohio[\\\"Orientation\\\"], voter_New_Jersey[\\\"Orientation\\\"]]\\n)\";\n",
       "                var nbb_cells = Jupyter.notebook.get_cells();\n",
       "                for (var i = 0; i < nbb_cells.length; ++i) {\n",
       "                    if (nbb_cells[i].input_prompt_number == nbb_cell_id) {\n",
       "                        if (nbb_cells[i].get_text() == nbb_unformatted_code) {\n",
       "                             nbb_cells[i].set_text(nbb_formatted_code);\n",
       "                        }\n",
       "                        break;\n",
       "                    }\n",
       "                }\n",
       "            }, 500);\n",
       "            "
      ],
      "text/plain": [
       "<IPython.core.display.Javascript object>"
      ]
     },
     "metadata": {},
     "output_type": "display_data"
    }
   ],
   "source": [
    "voter_data = np.concatenate(\n",
    "    [voter[\"Orientation\"], voter_ohio[\"Orientation\"], voter_New_Jersey[\"Orientation\"]]\n",
    ")"
   ]
  },
  {
   "cell_type": "code",
   "execution_count": 26,
   "id": "1bb93bd6",
   "metadata": {},
   "outputs": [
    {
     "data": {
      "text/plain": [
       "Text(0.5, 1.0, 'Orientation of counties')"
      ]
     },
     "execution_count": 26,
     "metadata": {},
     "output_type": "execute_result"
    },
    {
     "data": {
      "image/png": "[encoded data removed]",
      "text/plain": [
       "<Figure size 432x288 with 1 Axes>"
      ]
     },
     "metadata": {
      "needs_background": "light"
     },
     "output_type": "display_data"
    },
    {
     "data": {
      "application/javascript": [
       "\n",
       "            setTimeout(function() {\n",
       "                var nbb_cell_id = 26;\n",
       "                var nbb_unformatted_code = \"# plt.hist(voter[\\\"Orientation\\\"])\\nplt.hist(voter_data, bins=70)\\nplt.xlabel(\\\"Orientation\\\")\\nplt.ylabel(\\\"counts\\\")\\nplt.title(\\\"Orientation of counties\\\")\";\n",
       "                var nbb_formatted_code = \"# plt.hist(voter[\\\"Orientation\\\"])\\nplt.hist(voter_data, bins=70)\\nplt.xlabel(\\\"Orientation\\\")\\nplt.ylabel(\\\"counts\\\")\\nplt.title(\\\"Orientation of counties\\\")\";\n",
       "                var nbb_cells = Jupyter.notebook.get_cells();\n",
       "                for (var i = 0; i < nbb_cells.length; ++i) {\n",
       "                    if (nbb_cells[i].input_prompt_number == nbb_cell_id) {\n",
       "                        if (nbb_cells[i].get_text() == nbb_unformatted_code) {\n",
       "                             nbb_cells[i].set_text(nbb_formatted_code);\n",
       "                        }\n",
       "                        break;\n",
       "                    }\n",
       "                }\n",
       "            }, 500);\n",
       "            "
      ],
      "text/plain": [
       "<IPython.core.display.Javascript object>"
      ]
     },
     "metadata": {},
     "output_type": "display_data"
    }
   ],
   "source": [
    "# plt.hist(voter[\"Orientation\"])\n",
    "plt.hist(voter_data, bins=70)\n",
    "plt.xlabel(\"Orientation\")\n",
    "plt.ylabel(\"counts\")\n",
    "plt.title(\"Orientation of counties\")"
   ]
  },
  {
   "cell_type": "markdown",
   "id": "2155c2d2",
   "metadata": {},
   "source": [
    "## Final Data set-"
   ]
  },
  {
   "cell_type": "code",
   "execution_count": 27,
   "id": "e85bf5a7",
   "metadata": {},
   "outputs": [
    {
     "data": {
      "application/javascript": [
       "\n",
       "            setTimeout(function() {\n",
       "                var nbb_cell_id = 27;\n",
       "                var nbb_unformatted_code = \"final = pd.DataFrame()\\nfinal[\\\"y\\\"] = covid[\\\"percentage infected\\\"] * 100\\nfinal[\\\"x1\\\"] = avg\\nfinal[\\\"x2\\\"] = voter_data\\nfinal[\\\"int\\\"] = final[\\\"x1\\\"] * final[\\\"x2\\\"]\";\n",
       "                var nbb_formatted_code = \"final = pd.DataFrame()\\nfinal[\\\"y\\\"] = covid[\\\"percentage infected\\\"] * 100\\nfinal[\\\"x1\\\"] = avg\\nfinal[\\\"x2\\\"] = voter_data\\nfinal[\\\"int\\\"] = final[\\\"x1\\\"] * final[\\\"x2\\\"]\";\n",
       "                var nbb_cells = Jupyter.notebook.get_cells();\n",
       "                for (var i = 0; i < nbb_cells.length; ++i) {\n",
       "                    if (nbb_cells[i].input_prompt_number == nbb_cell_id) {\n",
       "                        if (nbb_cells[i].get_text() == nbb_unformatted_code) {\n",
       "                             nbb_cells[i].set_text(nbb_formatted_code);\n",
       "                        }\n",
       "                        break;\n",
       "                    }\n",
       "                }\n",
       "            }, 500);\n",
       "            "
      ],
      "text/plain": [
       "<IPython.core.display.Javascript object>"
      ]
     },
     "metadata": {},
     "output_type": "display_data"
    }
   ],
   "source": [
    "final = pd.DataFrame()\n",
    "final[\"y\"] = covid[\"percentage infected\"] * 100\n",
    "final[\"x1\"] = avg\n",
    "final[\"x2\"] = voter_data\n",
    "final[\"int\"] = final[\"x1\"] * final[\"x2\"]"
   ]
  },
  {
   "cell_type": "code",
   "execution_count": 28,
   "id": "3860523d",
   "metadata": {},
   "outputs": [
    {
     "data": {
      "text/html": [
       "<div>\n",
       "<style scoped>\n",
       "    .dataframe tbody tr th:only-of-type {\n",
       "        vertical-align: middle;\n",
       "    }\n",
       "\n",
       "    .dataframe tbody tr th {\n",
       "        vertical-align: top;\n",
       "    }\n",
       "\n",
       "    .dataframe thead th {\n",
       "        text-align: right;\n",
       "    }\n",
       "</style>\n",
       "<table border=\"1\" class=\"dataframe\">\n",
       "  <thead>\n",
       "    <tr style=\"text-align: right;\">\n",
       "      <th></th>\n",
       "      <th>y</th>\n",
       "      <th>x1</th>\n",
       "      <th>x2</th>\n",
       "      <th>int</th>\n",
       "    </tr>\n",
       "  </thead>\n",
       "  <tbody>\n",
       "    <tr>\n",
       "      <th>0</th>\n",
       "      <td>27.672473</td>\n",
       "      <td>40.491208</td>\n",
       "      <td>-57.062540</td>\n",
       "      <td>-2310.531154</td>\n",
       "    </tr>\n",
       "    <tr>\n",
       "      <th>1</th>\n",
       "      <td>25.707420</td>\n",
       "      <td>47.243796</td>\n",
       "      <td>56.890716</td>\n",
       "      <td>2687.733364</td>\n",
       "    </tr>\n",
       "    <tr>\n",
       "      <th>2</th>\n",
       "      <td>26.436815</td>\n",
       "      <td>38.142131</td>\n",
       "      <td>-60.073011</td>\n",
       "      <td>-2291.312698</td>\n",
       "    </tr>\n",
       "    <tr>\n",
       "      <th>3</th>\n",
       "      <td>27.674188</td>\n",
       "      <td>42.776953</td>\n",
       "      <td>44.287633</td>\n",
       "      <td>1894.490022</td>\n",
       "    </tr>\n",
       "    <tr>\n",
       "      <th>5</th>\n",
       "      <td>27.264737</td>\n",
       "      <td>40.136647</td>\n",
       "      <td>42.257420</td>\n",
       "      <td>1696.071154</td>\n",
       "    </tr>\n",
       "    <tr>\n",
       "      <th>...</th>\n",
       "      <td>...</td>\n",
       "      <td>...</td>\n",
       "      <td>...</td>\n",
       "      <td>...</td>\n",
       "    </tr>\n",
       "    <tr>\n",
       "      <th>16</th>\n",
       "      <td>25.996888</td>\n",
       "      <td>40.539946</td>\n",
       "      <td>30.450244</td>\n",
       "      <td>1234.451262</td>\n",
       "    </tr>\n",
       "    <tr>\n",
       "      <th>17</th>\n",
       "      <td>25.391214</td>\n",
       "      <td>51.127301</td>\n",
       "      <td>35.592532</td>\n",
       "      <td>1819.750093</td>\n",
       "    </tr>\n",
       "    <tr>\n",
       "      <th>18</th>\n",
       "      <td>28.279571</td>\n",
       "      <td>45.917695</td>\n",
       "      <td>-41.737387</td>\n",
       "      <td>-1916.484608</td>\n",
       "    </tr>\n",
       "    <tr>\n",
       "      <th>19</th>\n",
       "      <td>30.998971</td>\n",
       "      <td>45.344258</td>\n",
       "      <td>47.844218</td>\n",
       "      <td>2169.460570</td>\n",
       "    </tr>\n",
       "    <tr>\n",
       "      <th>20</th>\n",
       "      <td>26.078107</td>\n",
       "      <td>44.316850</td>\n",
       "      <td>-39.679209</td>\n",
       "      <td>-1758.457580</td>\n",
       "    </tr>\n",
       "  </tbody>\n",
       "</table>\n",
       "<p>97 rows × 4 columns</p>\n",
       "</div>"
      ],
      "text/plain": [
       "            y         x1         x2          int\n",
       "0   27.672473  40.491208 -57.062540 -2310.531154\n",
       "1   25.707420  47.243796  56.890716  2687.733364\n",
       "2   26.436815  38.142131 -60.073011 -2291.312698\n",
       "3   27.674188  42.776953  44.287633  1894.490022\n",
       "5   27.264737  40.136647  42.257420  1696.071154\n",
       "..        ...        ...        ...          ...\n",
       "16  25.996888  40.539946  30.450244  1234.451262\n",
       "17  25.391214  51.127301  35.592532  1819.750093\n",
       "18  28.279571  45.917695 -41.737387 -1916.484608\n",
       "19  30.998971  45.344258  47.844218  2169.460570\n",
       "20  26.078107  44.316850 -39.679209 -1758.457580\n",
       "\n",
       "[97 rows x 4 columns]"
      ]
     },
     "execution_count": 28,
     "metadata": {},
     "output_type": "execute_result"
    },
    {
     "data": {
      "application/javascript": [
       "\n",
       "            setTimeout(function() {\n",
       "                var nbb_cell_id = 28;\n",
       "                var nbb_unformatted_code = \"final\";\n",
       "                var nbb_formatted_code = \"final\";\n",
       "                var nbb_cells = Jupyter.notebook.get_cells();\n",
       "                for (var i = 0; i < nbb_cells.length; ++i) {\n",
       "                    if (nbb_cells[i].input_prompt_number == nbb_cell_id) {\n",
       "                        if (nbb_cells[i].get_text() == nbb_unformatted_code) {\n",
       "                             nbb_cells[i].set_text(nbb_formatted_code);\n",
       "                        }\n",
       "                        break;\n",
       "                    }\n",
       "                }\n",
       "            }, 500);\n",
       "            "
      ],
      "text/plain": [
       "<IPython.core.display.Javascript object>"
      ]
     },
     "metadata": {},
     "output_type": "display_data"
    }
   ],
   "source": [
    "final"
   ]
  },
  {
   "cell_type": "code",
   "execution_count": 29,
   "id": "60590c51",
   "metadata": {},
   "outputs": [
    {
     "name": "stdout",
     "output_type": "stream",
     "text": [
      "                            OLS Regression Results                            \n",
      "==============================================================================\n",
      "Dep. Variable:                      y   R-squared:                       0.081\n",
      "Model:                            OLS   Adj. R-squared:                  0.061\n",
      "Method:                 Least Squares   F-statistic:                     4.121\n",
      "Date:                Tue, 25 Oct 2022   Prob (F-statistic):             0.0193\n",
      "Time:                        02:05:28   Log-Likelihood:                -235.90\n",
      "No. Observations:                  97   AIC:                             477.8\n",
      "Df Residuals:                      94   BIC:                             485.5\n",
      "Df Model:                           2                                         \n",
      "Covariance Type:            nonrobust                                         \n",
      "==============================================================================\n",
      "                 coef    std err          t      P>|t|      [0.025      0.975]\n",
      "------------------------------------------------------------------------------\n",
      "const         37.2004      3.827      9.720      0.000      29.602      44.799\n",
      "x1            -0.2350      0.088     -2.669      0.009      -0.410      -0.060\n",
      "x2             0.0011      0.006      0.179      0.859      -0.011       0.013\n",
      "==============================================================================\n",
      "Omnibus:                        0.589   Durbin-Watson:                   1.577\n",
      "Prob(Omnibus):                  0.745   Jarque-Bera (JB):                0.410\n",
      "Skew:                           0.159   Prob(JB):                        0.815\n",
      "Kurtosis:                       3.016   Cond. No.                         848.\n",
      "==============================================================================\n",
      "\n",
      "Notes:\n",
      "[1] Standard Errors assume that the covariance matrix of the errors is correctly specified.\n"
     ]
    },
    {
     "data": {
      "application/javascript": [
       "\n",
       "            setTimeout(function() {\n",
       "                var nbb_cell_id = 29;\n",
       "                var nbb_unformatted_code = \"sol = sm.OLS(final[\\\"y\\\"], sm.add_constant(final[[\\\"x1\\\", \\\"x2\\\"]])).fit()\\n\\nprint(sol.summary())\";\n",
       "                var nbb_formatted_code = \"sol = sm.OLS(final[\\\"y\\\"], sm.add_constant(final[[\\\"x1\\\", \\\"x2\\\"]])).fit()\\n\\nprint(sol.summary())\";\n",
       "                var nbb_cells = Jupyter.notebook.get_cells();\n",
       "                for (var i = 0; i < nbb_cells.length; ++i) {\n",
       "                    if (nbb_cells[i].input_prompt_number == nbb_cell_id) {\n",
       "                        if (nbb_cells[i].get_text() == nbb_unformatted_code) {\n",
       "                             nbb_cells[i].set_text(nbb_formatted_code);\n",
       "                        }\n",
       "                        break;\n",
       "                    }\n",
       "                }\n",
       "            }, 500);\n",
       "            "
      ],
      "text/plain": [
       "<IPython.core.display.Javascript object>"
      ]
     },
     "metadata": {},
     "output_type": "display_data"
    }
   ],
   "source": [
    "sol = sm.OLS(final[\"y\"], sm.add_constant(final[[\"x1\", \"x2\"]])).fit()\n",
    "\n",
    "print(sol.summary())"
   ]
  },
  {
   "cell_type": "code",
   "execution_count": 30,
   "id": "d61d9118",
   "metadata": {},
   "outputs": [
    {
     "data": {
      "text/plain": [
       "<matplotlib.collections.PathCollection at 0x29b98c7f8e0>"
      ]
     },
     "execution_count": 30,
     "metadata": {},
     "output_type": "execute_result"
    },
    {
     "data": {
      "image/png": "[encoded data removed]",
      "text/plain": [
       "<Figure size 432x288 with 1 Axes>"
      ]
     },
     "metadata": {
      "needs_background": "light"
     },
     "output_type": "display_data"
    },
    {
     "data": {
      "application/javascript": [
       "\n",
       "            setTimeout(function() {\n",
       "                var nbb_cell_id = 30;\n",
       "                var nbb_unformatted_code = \"plt.scatter(final[\\\"x1\\\"], final[\\\"y\\\"])\";\n",
       "                var nbb_formatted_code = \"plt.scatter(final[\\\"x1\\\"], final[\\\"y\\\"])\";\n",
       "                var nbb_cells = Jupyter.notebook.get_cells();\n",
       "                for (var i = 0; i < nbb_cells.length; ++i) {\n",
       "                    if (nbb_cells[i].input_prompt_number == nbb_cell_id) {\n",
       "                        if (nbb_cells[i].get_text() == nbb_unformatted_code) {\n",
       "                             nbb_cells[i].set_text(nbb_formatted_code);\n",
       "                        }\n",
       "                        break;\n",
       "                    }\n",
       "                }\n",
       "            }, 500);\n",
       "            "
      ],
      "text/plain": [
       "<IPython.core.display.Javascript object>"
      ]
     },
     "metadata": {},
     "output_type": "display_data"
    }
   ],
   "source": [
    "plt.scatter(final[\"x1\"], final[\"y\"])"
   ]
  },
  {
   "cell_type": "code",
   "execution_count": 31,
   "id": "74633060",
   "metadata": {},
   "outputs": [
    {
     "data": {
      "text/plain": [
       "<matplotlib.collections.PathCollection at 0x29b98cfb880>"
      ]
     },
     "execution_count": 31,
     "metadata": {},
     "output_type": "execute_result"
    },
    {
     "data": {
      "image/png": "[encoded data removed]",
      "text/plain": [
       "<Figure size 432x288 with 1 Axes>"
      ]
     },
     "metadata": {
      "needs_background": "light"
     },
     "output_type": "display_data"
    },
    {
     "data": {
      "application/javascript": [
       "\n",
       "            setTimeout(function() {\n",
       "                var nbb_cell_id = 31;\n",
       "                var nbb_unformatted_code = \"plt.scatter(final[\\\"x2\\\"], final[\\\"y\\\"])\";\n",
       "                var nbb_formatted_code = \"plt.scatter(final[\\\"x2\\\"], final[\\\"y\\\"])\";\n",
       "                var nbb_cells = Jupyter.notebook.get_cells();\n",
       "                for (var i = 0; i < nbb_cells.length; ++i) {\n",
       "                    if (nbb_cells[i].input_prompt_number == nbb_cell_id) {\n",
       "                        if (nbb_cells[i].get_text() == nbb_unformatted_code) {\n",
       "                             nbb_cells[i].set_text(nbb_formatted_code);\n",
       "                        }\n",
       "                        break;\n",
       "                    }\n",
       "                }\n",
       "            }, 500);\n",
       "            "
      ],
      "text/plain": [
       "<IPython.core.display.Javascript object>"
      ]
     },
     "metadata": {},
     "output_type": "display_data"
    }
   ],
   "source": [
    "plt.scatter(final[\"x2\"], final[\"y\"])"
   ]
  },
  {
   "cell_type": "code",
   "execution_count": 32,
   "id": "63798efb",
   "metadata": {},
   "outputs": [
    {
     "data": {
      "text/plain": [
       "<matplotlib.collections.PathCollection at 0x29b98d88760>"
      ]
     },
     "execution_count": 32,
     "metadata": {},
     "output_type": "execute_result"
    },
    {
     "data": {
      "image/png": "[encoded data removed]",
      "text/plain": [
       "<Figure size 432x288 with 1 Axes>"
      ]
     },
     "metadata": {
      "needs_background": "light"
     },
     "output_type": "display_data"
    },
    {
     "data": {
      "application/javascript": [
       "\n",
       "            setTimeout(function() {\n",
       "                var nbb_cell_id = 32;\n",
       "                var nbb_unformatted_code = \"plt.scatter(final[\\\"x2\\\"], final[\\\"x1\\\"])\";\n",
       "                var nbb_formatted_code = \"plt.scatter(final[\\\"x2\\\"], final[\\\"x1\\\"])\";\n",
       "                var nbb_cells = Jupyter.notebook.get_cells();\n",
       "                for (var i = 0; i < nbb_cells.length; ++i) {\n",
       "                    if (nbb_cells[i].input_prompt_number == nbb_cell_id) {\n",
       "                        if (nbb_cells[i].get_text() == nbb_unformatted_code) {\n",
       "                             nbb_cells[i].set_text(nbb_formatted_code);\n",
       "                        }\n",
       "                        break;\n",
       "                    }\n",
       "                }\n",
       "            }, 500);\n",
       "            "
      ],
      "text/plain": [
       "<IPython.core.display.Javascript object>"
      ]
     },
     "metadata": {},
     "output_type": "display_data"
    }
   ],
   "source": [
    "plt.scatter(final[\"x2\"], final[\"x1\"])"
   ]
  },
  {
   "cell_type": "code",
   "execution_count": 33,
   "id": "bcabd027",
   "metadata": {},
   "outputs": [
    {
     "name": "stdout",
     "output_type": "stream",
     "text": [
      "                            OLS Regression Results                            \n",
      "==============================================================================\n",
      "Dep. Variable:                     x1   R-squared:                       0.181\n",
      "Model:                            OLS   Adj. R-squared:                  0.172\n",
      "Method:                 Least Squares   F-statistic:                     20.96\n",
      "Date:                Tue, 25 Oct 2022   Prob (F-statistic):           1.42e-05\n",
      "Time:                        02:05:29   Log-Likelihood:                -251.27\n",
      "No. Observations:                  97   AIC:                             506.5\n",
      "Df Residuals:                      95   BIC:                             511.7\n",
      "Df Model:                           1                                         \n",
      "Covariance Type:            nonrobust                                         \n",
      "==============================================================================\n",
      "                 coef    std err          t      P>|t|      [0.025      0.975]\n",
      "------------------------------------------------------------------------------\n",
      "const         43.3218      0.375    115.627      0.000      42.578      44.066\n",
      "x2             0.0294      0.006      4.578      0.000       0.017       0.042\n",
      "==============================================================================\n",
      "Omnibus:                        6.562   Durbin-Watson:                   1.606\n",
      "Prob(Omnibus):                  0.038   Jarque-Bera (JB):                6.524\n",
      "Skew:                           0.635   Prob(JB):                       0.0383\n",
      "Kurtosis:                       3.005   Cond. No.                         66.1\n",
      "==============================================================================\n",
      "\n",
      "Notes:\n",
      "[1] Standard Errors assume that the covariance matrix of the errors is correctly specified.\n"
     ]
    },
    {
     "data": {
      "application/javascript": [
       "\n",
       "            setTimeout(function() {\n",
       "                var nbb_cell_id = 33;\n",
       "                var nbb_unformatted_code = \"sol = sm.OLS(final[\\\"x1\\\"], sm.add_constant(final[\\\"x2\\\"])).fit()\\n\\nprint(sol.summary())\";\n",
       "                var nbb_formatted_code = \"sol = sm.OLS(final[\\\"x1\\\"], sm.add_constant(final[\\\"x2\\\"])).fit()\\n\\nprint(sol.summary())\";\n",
       "                var nbb_cells = Jupyter.notebook.get_cells();\n",
       "                for (var i = 0; i < nbb_cells.length; ++i) {\n",
       "                    if (nbb_cells[i].input_prompt_number == nbb_cell_id) {\n",
       "                        if (nbb_cells[i].get_text() == nbb_unformatted_code) {\n",
       "                             nbb_cells[i].set_text(nbb_formatted_code);\n",
       "                        }\n",
       "                        break;\n",
       "                    }\n",
       "                }\n",
       "            }, 500);\n",
       "            "
      ],
      "text/plain": [
       "<IPython.core.display.Javascript object>"
      ]
     },
     "metadata": {},
     "output_type": "display_data"
    }
   ],
   "source": [
    "sol = sm.OLS(final[\"x1\"], sm.add_constant(final[\"x2\"])).fit()\n",
    "\n",
    "print(sol.summary())"
   ]
  },
  {
   "cell_type": "code",
   "execution_count": null,
   "id": "9c08940a",
   "metadata": {},
   "outputs": [],
   "source": []
  }
 ],
 "metadata": {
  "kernelspec": {
   "display_name": "Python 3 (ipykernel)",
   "language": "python",
   "name": "python3"
  },
  "language_info": {
   "codemirror_mode": {
    "name": "ipython",
    "version": 3
   },
   "file_extension": ".py",
   "mimetype": "text/x-python",
   "name": "python",
   "nbconvert_exporter": "python",
   "pygments_lexer": "ipython3",
   "version": "3.10.6"
  }
 },
 "nbformat": 4,
 "nbformat_minor": 5
}
