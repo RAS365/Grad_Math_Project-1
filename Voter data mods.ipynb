{
 "cells": [
  {
   "cell_type": "code",
   "execution_count": 1,
   "id": "dccba680",
   "metadata": {},
   "outputs": [
    {
     "data": {
      "application/javascript": [
       "\n",
       "            setTimeout(function() {\n",
       "                var nbb_cell_id = 1;\n",
       "                var nbb_unformatted_code = \"import numpy as np\\nimport matplotlib.pyplot as plt\\n\\n# import scipy.optimize as sciopt\\nimport pandas as pd\\nfrom scipy import stats\\n\\n# import scipy.integrate as scint\\n# import statsmodels.api as sm\\nimport seaborn as sns\\n\\n%load_ext nb_black\";\n",
       "                var nbb_formatted_code = \"import numpy as np\\nimport matplotlib.pyplot as plt\\n\\n# import scipy.optimize as sciopt\\nimport pandas as pd\\nfrom scipy import stats\\n\\n# import scipy.integrate as scint\\n# import statsmodels.api as sm\\nimport seaborn as sns\\n\\n%load_ext nb_black\";\n",
       "                var nbb_cells = Jupyter.notebook.get_cells();\n",
       "                for (var i = 0; i < nbb_cells.length; ++i) {\n",
       "                    if (nbb_cells[i].input_prompt_number == nbb_cell_id) {\n",
       "                        if (nbb_cells[i].get_text() == nbb_unformatted_code) {\n",
       "                             nbb_cells[i].set_text(nbb_formatted_code);\n",
       "                        }\n",
       "                        break;\n",
       "                    }\n",
       "                }\n",
       "            }, 500);\n",
       "            "
      ],
      "text/plain": [
       "<IPython.core.display.Javascript object>"
      ]
     },
     "metadata": {},
     "output_type": "display_data"
    }
   ],
   "source": [
    "import numpy as np\n",
    "import matplotlib.pyplot as plt\n",
    "\n",
    "# import scipy.optimize as sciopt\n",
    "import pandas as pd\n",
    "from scipy import stats\n",
    "\n",
    "# import scipy.integrate as scint\n",
    "# import statsmodels.api as sm\n",
    "import seaborn as sns\n",
    "\n",
    "%load_ext nb_black"
   ]
  },
  {
   "cell_type": "code",
   "execution_count": 2,
   "id": "a495af2c",
   "metadata": {},
   "outputs": [
    {
     "data": {
      "application/javascript": [
       "\n",
       "            setTimeout(function() {\n",
       "                var nbb_cell_id = 2;\n",
       "                var nbb_unformatted_code = \"df = pd.read_excel(\\\"currentvotestats.xlsx\\\")\\nfor i in np.arange(3, 10, 2):\\n    df = df.drop(columns=[f\\\"Unnamed: {i}\\\"])\";\n",
       "                var nbb_formatted_code = \"df = pd.read_excel(\\\"currentvotestats.xlsx\\\")\\nfor i in np.arange(3, 10, 2):\\n    df = df.drop(columns=[f\\\"Unnamed: {i}\\\"])\";\n",
       "                var nbb_cells = Jupyter.notebook.get_cells();\n",
       "                for (var i = 0; i < nbb_cells.length; ++i) {\n",
       "                    if (nbb_cells[i].input_prompt_number == nbb_cell_id) {\n",
       "                        if (nbb_cells[i].get_text() == nbb_unformatted_code) {\n",
       "                             nbb_cells[i].set_text(nbb_formatted_code);\n",
       "                        }\n",
       "                        break;\n",
       "                    }\n",
       "                }\n",
       "            }, 500);\n",
       "            "
      ],
      "text/plain": [
       "<IPython.core.display.Javascript object>"
      ]
     },
     "metadata": {},
     "output_type": "display_data"
    }
   ],
   "source": [
    "df = pd.read_excel(\"currentvotestats.xlsx\")\n",
    "for i in np.arange(3, 10, 2):\n",
    "    df = df.drop(columns=[f\"Unnamed: {i}\"])"
   ]
  },
  {
   "cell_type": "code",
   "execution_count": 7,
   "id": "0458f327",
   "metadata": {},
   "outputs": [
    {
     "data": {
      "application/javascript": [
       "\n",
       "            setTimeout(function() {\n",
       "                var nbb_cell_id = 7;\n",
       "                var nbb_unformatted_code = \"df = df.drop(index=67)\";\n",
       "                var nbb_formatted_code = \"df = df.drop(index=67)\";\n",
       "                var nbb_cells = Jupyter.notebook.get_cells();\n",
       "                for (var i = 0; i < nbb_cells.length; ++i) {\n",
       "                    if (nbb_cells[i].input_prompt_number == nbb_cell_id) {\n",
       "                        if (nbb_cells[i].get_text() == nbb_unformatted_code) {\n",
       "                             nbb_cells[i].set_text(nbb_formatted_code);\n",
       "                        }\n",
       "                        break;\n",
       "                    }\n",
       "                }\n",
       "            }, 500);\n",
       "            "
      ],
      "text/plain": [
       "<IPython.core.display.Javascript object>"
      ]
     },
     "metadata": {},
     "output_type": "display_data"
    }
   ],
   "source": [
    "df = df.drop(index=67)"
   ]
  },
  {
   "cell_type": "code",
   "execution_count": 8,
   "id": "518fe940",
   "metadata": {},
   "outputs": [
    {
     "data": {
      "application/javascript": [
       "\n",
       "            setTimeout(function() {\n",
       "                var nbb_cell_id = 8;\n",
       "                var nbb_unformatted_code = \"df[\\\"Orientation\\\"] = df.apply(\\n    lambda x: 1\\n    if x[\\\"Count of Democratic Voters\\\"] > x[\\\"Count of Republican Voters\\\"]\\n    else 0,\\n    axis=1,\\n)\";\n",
       "                var nbb_formatted_code = \"df[\\\"Orientation\\\"] = df.apply(\\n    lambda x: 1\\n    if x[\\\"Count of Democratic Voters\\\"] > x[\\\"Count of Republican Voters\\\"]\\n    else 0,\\n    axis=1,\\n)\";\n",
       "                var nbb_cells = Jupyter.notebook.get_cells();\n",
       "                for (var i = 0; i < nbb_cells.length; ++i) {\n",
       "                    if (nbb_cells[i].input_prompt_number == nbb_cell_id) {\n",
       "                        if (nbb_cells[i].get_text() == nbb_unformatted_code) {\n",
       "                             nbb_cells[i].set_text(nbb_formatted_code);\n",
       "                        }\n",
       "                        break;\n",
       "                    }\n",
       "                }\n",
       "            }, 500);\n",
       "            "
      ],
      "text/plain": [
       "<IPython.core.display.Javascript object>"
      ]
     },
     "metadata": {},
     "output_type": "display_data"
    }
   ],
   "source": [
    "df[\"Orientation\"] = df.apply(\n",
    "    lambda x: 1\n",
    "    if x[\"Count of Democratic Voters\"] > x[\"Count of Republican Voters\"]\n",
    "    else 0,\n",
    "    axis=1,\n",
    ")"
   ]
  },
  {
   "cell_type": "code",
   "execution_count": 9,
   "id": "15bdc2af",
   "metadata": {},
   "outputs": [
    {
     "data": {
      "text/html": [
       "<div>\n",
       "<style scoped>\n",
       "    .dataframe tbody tr th:only-of-type {\n",
       "        vertical-align: middle;\n",
       "    }\n",
       "\n",
       "    .dataframe tbody tr th {\n",
       "        vertical-align: top;\n",
       "    }\n",
       "\n",
       "    .dataframe thead th {\n",
       "        text-align: right;\n",
       "    }\n",
       "</style>\n",
       "<table border=\"1\" class=\"dataframe\">\n",
       "  <thead>\n",
       "    <tr style=\"text-align: right;\">\n",
       "      <th></th>\n",
       "      <th>County</th>\n",
       "      <th>ID#</th>\n",
       "      <th>Count of Democratic Voters</th>\n",
       "      <th>Count of Republican Voters</th>\n",
       "      <th>Count of No Affiliation Voters</th>\n",
       "      <th>Count of all Other Voters</th>\n",
       "      <th>Total Count of All Voters</th>\n",
       "      <th></th>\n",
       "      <th>Orientation</th>\n",
       "    </tr>\n",
       "  </thead>\n",
       "  <tbody>\n",
       "    <tr>\n",
       "      <th>0</th>\n",
       "      <td>ADAMS</td>\n",
       "      <td>2290.0</td>\n",
       "      <td>19335</td>\n",
       "      <td>41004</td>\n",
       "      <td>8315</td>\n",
       "      <td>3204</td>\n",
       "      <td>71858</td>\n",
       "      <td>NaN</td>\n",
       "      <td>0</td>\n",
       "    </tr>\n",
       "    <tr>\n",
       "      <th>1</th>\n",
       "      <td>ALLEGHENY</td>\n",
       "      <td>2291.0</td>\n",
       "      <td>529297</td>\n",
       "      <td>262770</td>\n",
       "      <td>96487</td>\n",
       "      <td>41821</td>\n",
       "      <td>930375</td>\n",
       "      <td>NaN</td>\n",
       "      <td>1</td>\n",
       "    </tr>\n",
       "    <tr>\n",
       "      <th>2</th>\n",
       "      <td>ARMSTRONG</td>\n",
       "      <td>2292.0</td>\n",
       "      <td>12150</td>\n",
       "      <td>25671</td>\n",
       "      <td>3194</td>\n",
       "      <td>1718</td>\n",
       "      <td>42733</td>\n",
       "      <td>NaN</td>\n",
       "      <td>0</td>\n",
       "    </tr>\n",
       "    <tr>\n",
       "      <th>3</th>\n",
       "      <td>BEAVER</td>\n",
       "      <td>2293.0</td>\n",
       "      <td>50115</td>\n",
       "      <td>47567</td>\n",
       "      <td>10027</td>\n",
       "      <td>5449</td>\n",
       "      <td>113158</td>\n",
       "      <td>NaN</td>\n",
       "      <td>1</td>\n",
       "    </tr>\n",
       "    <tr>\n",
       "      <th>4</th>\n",
       "      <td>BEDFORD</td>\n",
       "      <td>2294.0</td>\n",
       "      <td>6194</td>\n",
       "      <td>23521</td>\n",
       "      <td>2079</td>\n",
       "      <td>1007</td>\n",
       "      <td>32801</td>\n",
       "      <td>NaN</td>\n",
       "      <td>0</td>\n",
       "    </tr>\n",
       "    <tr>\n",
       "      <th>...</th>\n",
       "      <td>...</td>\n",
       "      <td>...</td>\n",
       "      <td>...</td>\n",
       "      <td>...</td>\n",
       "      <td>...</td>\n",
       "      <td>...</td>\n",
       "      <td>...</td>\n",
       "      <td>...</td>\n",
       "      <td>...</td>\n",
       "    </tr>\n",
       "    <tr>\n",
       "      <th>62</th>\n",
       "      <td>WASHINGTON</td>\n",
       "      <td>2352.0</td>\n",
       "      <td>58346</td>\n",
       "      <td>67307</td>\n",
       "      <td>13664</td>\n",
       "      <td>4137</td>\n",
       "      <td>143454</td>\n",
       "      <td>NaN</td>\n",
       "      <td>0</td>\n",
       "    </tr>\n",
       "    <tr>\n",
       "      <th>63</th>\n",
       "      <td>WAYNE</td>\n",
       "      <td>2353.0</td>\n",
       "      <td>9475</td>\n",
       "      <td>20113</td>\n",
       "      <td>4541</td>\n",
       "      <td>1196</td>\n",
       "      <td>35325</td>\n",
       "      <td>NaN</td>\n",
       "      <td>0</td>\n",
       "    </tr>\n",
       "    <tr>\n",
       "      <th>64</th>\n",
       "      <td>WESTMORELAND</td>\n",
       "      <td>2354.0</td>\n",
       "      <td>95185</td>\n",
       "      <td>121709</td>\n",
       "      <td>19800</td>\n",
       "      <td>10575</td>\n",
       "      <td>247269</td>\n",
       "      <td>NaN</td>\n",
       "      <td>0</td>\n",
       "    </tr>\n",
       "    <tr>\n",
       "      <th>65</th>\n",
       "      <td>WYOMING</td>\n",
       "      <td>2355.0</td>\n",
       "      <td>4799</td>\n",
       "      <td>10345</td>\n",
       "      <td>1251</td>\n",
       "      <td>691</td>\n",
       "      <td>17086</td>\n",
       "      <td>NaN</td>\n",
       "      <td>0</td>\n",
       "    </tr>\n",
       "    <tr>\n",
       "      <th>66</th>\n",
       "      <td>YORK</td>\n",
       "      <td>2356.0</td>\n",
       "      <td>98691</td>\n",
       "      <td>159947</td>\n",
       "      <td>41548</td>\n",
       "      <td>9503</td>\n",
       "      <td>309689</td>\n",
       "      <td>NaN</td>\n",
       "      <td>0</td>\n",
       "    </tr>\n",
       "  </tbody>\n",
       "</table>\n",
       "<p>67 rows × 9 columns</p>\n",
       "</div>"
      ],
      "text/plain": [
       "          County     ID#  Count of Democratic Voters  \\\n",
       "0          ADAMS  2290.0                       19335   \n",
       "1      ALLEGHENY  2291.0                      529297   \n",
       "2      ARMSTRONG  2292.0                       12150   \n",
       "3         BEAVER  2293.0                       50115   \n",
       "4        BEDFORD  2294.0                        6194   \n",
       "..           ...     ...                         ...   \n",
       "62    WASHINGTON  2352.0                       58346   \n",
       "63         WAYNE  2353.0                        9475   \n",
       "64  WESTMORELAND  2354.0                       95185   \n",
       "65       WYOMING  2355.0                        4799   \n",
       "66          YORK  2356.0                       98691   \n",
       "\n",
       "    Count of Republican Voters  Count of No Affiliation Voters  \\\n",
       "0                        41004                            8315   \n",
       "1                       262770                           96487   \n",
       "2                        25671                            3194   \n",
       "3                        47567                           10027   \n",
       "4                        23521                            2079   \n",
       "..                         ...                             ...   \n",
       "62                       67307                           13664   \n",
       "63                       20113                            4541   \n",
       "64                      121709                           19800   \n",
       "65                       10345                            1251   \n",
       "66                      159947                           41548   \n",
       "\n",
       "    Count of all Other Voters  Total Count of All Voters            \\\n",
       "0                        3204                      71858       NaN   \n",
       "1                       41821                     930375       NaN   \n",
       "2                        1718                      42733       NaN   \n",
       "3                        5449                     113158       NaN   \n",
       "4                        1007                      32801       NaN   \n",
       "..                        ...                        ...       ...   \n",
       "62                       4137                     143454       NaN   \n",
       "63                       1196                      35325       NaN   \n",
       "64                      10575                     247269       NaN   \n",
       "65                        691                      17086       NaN   \n",
       "66                       9503                     309689       NaN   \n",
       "\n",
       "    Orientation  \n",
       "0             0  \n",
       "1             1  \n",
       "2             0  \n",
       "3             1  \n",
       "4             0  \n",
       "..          ...  \n",
       "62            0  \n",
       "63            0  \n",
       "64            0  \n",
       "65            0  \n",
       "66            0  \n",
       "\n",
       "[67 rows x 9 columns]"
      ]
     },
     "execution_count": 9,
     "metadata": {},
     "output_type": "execute_result"
    },
    {
     "data": {
      "application/javascript": [
       "\n",
       "            setTimeout(function() {\n",
       "                var nbb_cell_id = 9;\n",
       "                var nbb_unformatted_code = \"df\";\n",
       "                var nbb_formatted_code = \"df\";\n",
       "                var nbb_cells = Jupyter.notebook.get_cells();\n",
       "                for (var i = 0; i < nbb_cells.length; ++i) {\n",
       "                    if (nbb_cells[i].input_prompt_number == nbb_cell_id) {\n",
       "                        if (nbb_cells[i].get_text() == nbb_unformatted_code) {\n",
       "                             nbb_cells[i].set_text(nbb_formatted_code);\n",
       "                        }\n",
       "                        break;\n",
       "                    }\n",
       "                }\n",
       "            }, 500);\n",
       "            "
      ],
      "text/plain": [
       "<IPython.core.display.Javascript object>"
      ]
     },
     "metadata": {},
     "output_type": "display_data"
    }
   ],
   "source": [
    "df"
   ]
  },
  {
   "cell_type": "code",
   "execution_count": 10,
   "id": "bf924535",
   "metadata": {},
   "outputs": [
    {
     "data": {
      "text/plain": [
       "(67,)"
      ]
     },
     "execution_count": 10,
     "metadata": {},
     "output_type": "execute_result"
    },
    {
     "data": {
      "application/javascript": [
       "\n",
       "            setTimeout(function() {\n",
       "                var nbb_cell_id = 10;\n",
       "                var nbb_unformatted_code = \"np.shape(df[\\\"Orientation\\\"])\";\n",
       "                var nbb_formatted_code = \"np.shape(df[\\\"Orientation\\\"])\";\n",
       "                var nbb_cells = Jupyter.notebook.get_cells();\n",
       "                for (var i = 0; i < nbb_cells.length; ++i) {\n",
       "                    if (nbb_cells[i].input_prompt_number == nbb_cell_id) {\n",
       "                        if (nbb_cells[i].get_text() == nbb_unformatted_code) {\n",
       "                             nbb_cells[i].set_text(nbb_formatted_code);\n",
       "                        }\n",
       "                        break;\n",
       "                    }\n",
       "                }\n",
       "            }, 500);\n",
       "            "
      ],
      "text/plain": [
       "<IPython.core.display.Javascript object>"
      ]
     },
     "metadata": {},
     "output_type": "display_data"
    }
   ],
   "source": [
    "np.shape(df[\"Orientation\"])"
   ]
  },
  {
   "cell_type": "code",
   "execution_count": null,
   "id": "784c33f3",
   "metadata": {},
   "outputs": [],
   "source": []
  }
 ],
 "metadata": {
  "kernelspec": {
   "display_name": "Python 3 (ipykernel)",
   "language": "python",
   "name": "python3"
  },
  "language_info": {
   "codemirror_mode": {
    "name": "ipython",
    "version": 3
   },
   "file_extension": ".py",
   "mimetype": "text/x-python",
   "name": "python",
   "nbconvert_exporter": "python",
   "pygments_lexer": "ipython3",
   "version": "3.10.6"
  }
 },
 "nbformat": 4,
 "nbformat_minor": 5
}
